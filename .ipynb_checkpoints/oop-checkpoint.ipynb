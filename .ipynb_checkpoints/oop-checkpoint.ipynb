{
 "cells": [
  {
   "cell_type": "code",
   "execution_count": 58,
   "id": "21401bfd",
   "metadata": {},
   "outputs": [],
   "source": [
    "class User:\n",
    "    active_users = 0\n",
    "    \n",
    "    @classmethod\n",
    "    def display_active_users(cls):\n",
    "        print(cls)\n",
    "    \n",
    "    def __init__(self, first, last, age):\n",
    "        self.first = first\n",
    "        self.last = last\n",
    "        self.age = age\n",
    "        User.active_users += 1\n",
    "    \n",
    "    def __repr__(self):\n",
    "        return f\"{self.first} is {self.age}\"\n",
    "    \n",
    "    def logout(self):\n",
    "        User.active_users -= 1\n",
    "        return f\"{self.first} has logged out\"\n",
    "    \n",
    "    def full_name(self):\n",
    "        return f\"{self.first} {self.last}\"\n",
    "    \n",
    "    def initials(self):\n",
    "        return f\"{self.first[0]}.{self.last[0]}.\"\n",
    "    \n",
    "    def likes(self, thing):\n",
    "        return f\"{self.first} likes {thing}\"\n",
    "    \n",
    "    def is_senior(self):\n",
    "        return self.age >= 65\n",
    "    \n",
    "    def birthday(self):\n",
    "        self.age += 1\n",
    "        return f\"Happy {self.age}th, {self.first}\"\n"
   ]
  },
  {
   "cell_type": "code",
   "execution_count": 59,
   "id": "4084fe3d",
   "metadata": {},
   "outputs": [],
   "source": [
    "user1 = User('mehedi','hasan',22)\n",
    "user2 = User('joe','ross',25)"
   ]
  },
  {
   "cell_type": "code",
   "execution_count": 60,
   "id": "f974725a",
   "metadata": {},
   "outputs": [
    {
     "name": "stdout",
     "output_type": "stream",
     "text": [
      "mehedi is 22\n"
     ]
    }
   ],
   "source": [
    "print(user1)"
   ]
  },
  {
   "cell_type": "code",
   "execution_count": 55,
   "id": "e369816f",
   "metadata": {},
   "outputs": [
    {
     "name": "stdout",
     "output_type": "stream",
     "text": [
      "2\n"
     ]
    }
   ],
   "source": [
    "print(User.active_users)"
   ]
  },
  {
   "cell_type": "code",
   "execution_count": 57,
   "id": "8f4b90a0",
   "metadata": {},
   "outputs": [
    {
     "name": "stdout",
     "output_type": "stream",
     "text": [
      "<class '__main__.User'>\n"
     ]
    }
   ],
   "source": [
    "User.display_active_users()"
   ]
  },
  {
   "cell_type": "code",
   "execution_count": 41,
   "id": "da623301",
   "metadata": {},
   "outputs": [
    {
     "name": "stdout",
     "output_type": "stream",
     "text": [
      "My full name is mehedi hasan\n"
     ]
    }
   ],
   "source": [
    "user1.fullName()"
   ]
  },
  {
   "cell_type": "code",
   "execution_count": 42,
   "id": "86e379e2",
   "metadata": {},
   "outputs": [
    {
     "name": "stdout",
     "output_type": "stream",
     "text": [
      "mehedi likes choclate\n"
     ]
    }
   ],
   "source": [
    "user1.likes('choclate')"
   ]
  },
  {
   "cell_type": "code",
   "execution_count": 17,
   "id": "86ab2332",
   "metadata": {},
   "outputs": [
    {
     "data": {
      "text/plain": [
       "__main__.User"
      ]
     },
     "execution_count": 17,
     "metadata": {},
     "output_type": "execute_result"
    }
   ],
   "source": [
    "type(mehedi)"
   ]
  },
  {
   "cell_type": "code",
   "execution_count": 20,
   "id": "5f912896",
   "metadata": {},
   "outputs": [
    {
     "name": "stdout",
     "output_type": "stream",
     "text": [
      "mehedi\n"
     ]
    }
   ],
   "source": [
    "print(user1.first)"
   ]
  },
  {
   "cell_type": "code",
   "execution_count": 21,
   "id": "e021c6f8",
   "metadata": {},
   "outputs": [
    {
     "name": "stdout",
     "output_type": "stream",
     "text": [
      "['__class__', '__delattr__', '__dict__', '__dir__', '__doc__', '__eq__', '__format__', '__ge__', '__getattribute__', '__gt__', '__hash__', '__init__', '__init_subclass__', '__le__', '__lt__', '__module__', '__ne__', '__new__', '__reduce__', '__reduce_ex__', '__repr__', '__setattr__', '__sizeof__', '__str__', '__subclasshook__', '__weakref__', 'age', 'first', 'last']\n"
     ]
    }
   ],
   "source": [
    "print(dir(user1))"
   ]
  },
  {
   "cell_type": "markdown",
   "id": "4bd4e666",
   "metadata": {},
   "source": [
    "# Inheritence"
   ]
  },
  {
   "cell_type": "code",
   "execution_count": 63,
   "id": "1c8661c3",
   "metadata": {},
   "outputs": [],
   "source": [
    "class Animal:\n",
    "    cool = True\n",
    "    def make_sound(self,sound):\n",
    "        print(f\"This animal says {sound}\")\n",
    "        \n",
    "class Cat(Animal):\n",
    "    pass"
   ]
  },
  {
   "cell_type": "code",
   "execution_count": 65,
   "id": "e07505c7",
   "metadata": {},
   "outputs": [],
   "source": [
    "blue = Cat()\n",
    "a = Animal()"
   ]
  },
  {
   "cell_type": "code",
   "execution_count": 66,
   "id": "5cfdfd26",
   "metadata": {},
   "outputs": [
    {
     "name": "stdout",
     "output_type": "stream",
     "text": [
      "This animal says meow\n"
     ]
    }
   ],
   "source": [
    "blue.make_sound('meow')"
   ]
  },
  {
   "cell_type": "code",
   "execution_count": 67,
   "id": "de939c2b",
   "metadata": {},
   "outputs": [
    {
     "name": "stdout",
     "output_type": "stream",
     "text": [
      "This animal says fuck\n"
     ]
    }
   ],
   "source": [
    "a.make_sound('fuck')"
   ]
  },
  {
   "cell_type": "code",
   "execution_count": null,
   "id": "47f1ca8e",
   "metadata": {},
   "outputs": [],
   "source": []
  }
 ],
 "metadata": {
  "kernelspec": {
   "display_name": "Python 3",
   "language": "python",
   "name": "python3"
  },
  "language_info": {
   "codemirror_mode": {
    "name": "ipython",
    "version": 3
   },
   "file_extension": ".py",
   "mimetype": "text/x-python",
   "name": "python",
   "nbconvert_exporter": "python",
   "pygments_lexer": "ipython3",
   "version": "3.8.8"
  }
 },
 "nbformat": 4,
 "nbformat_minor": 5
}
