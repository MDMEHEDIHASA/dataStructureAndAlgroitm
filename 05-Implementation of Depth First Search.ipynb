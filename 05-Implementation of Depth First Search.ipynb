{
 "cells": [
  {
   "cell_type": "markdown",
   "metadata": {},
   "source": [
    "# Implementation of Depth-First Search\n",
    "This algorithm we will be discussing is Depth-First search which as the name hints at, explores possible vertices (from a supplied root) down each branch before backtracking. This property allows the algorithm to be implemented succinctly in both iterative and recursive forms. Below is a listing of the actions performed upon each visit to a node.\n",
    "\n",
    "* Mark the current vertex as being visited.\n",
    "* Explore each adjacent vertex that is not included in the visited set.\n",
    "\n",
    "We will assume a simplified version of a graph in the following form:"
   ]
  },
  {
   "cell_type": "code",
   "execution_count": 1,
   "metadata": {},
   "outputs": [],
   "source": [
    "graph = {'A': set(['B', 'C']),\n",
    "         'B': set(['A', 'D', 'E']),\n",
    "         'C': set(['A', 'F']),\n",
    "         'D': set(['B']),\n",
    "         'E': set(['B', 'F']),\n",
    "         'F': set(['C', 'E'])}"
   ]
  },
  {
   "cell_type": "code",
   "execution_count": 2,
   "metadata": {},
   "outputs": [
    {
     "data": {
      "text/plain": [
       "{'A': {'B', 'C'},\n",
       " 'B': {'A', 'D', 'E'},\n",
       " 'C': {'A', 'F'},\n",
       " 'D': {'B'},\n",
       " 'E': {'B', 'F'},\n",
       " 'F': {'C', 'E'}}"
      ]
     },
     "execution_count": 2,
     "metadata": {},
     "output_type": "execute_result"
    }
   ],
   "source": [
    "graph"
   ]
  },
  {
   "cell_type": "markdown",
   "metadata": {},
   "source": [
    "## Connected Component\n",
    "\n",
    "The implementation below uses the stack data-structure to build-up and return a set of vertices that are accessible within the subjects connected component. Using Python’s overloading of the subtraction operator to remove items from a set, we are able to add only the unvisited adjacent vertices."
   ]
  },
  {
   "cell_type": "code",
   "execution_count": 5,
   "metadata": {},
   "outputs": [
    {
     "name": "stdout",
     "output_type": "stream",
     "text": [
      "['A', 'B', 'C']\n"
     ]
    }
   ],
   "source": [
    "visited,stack = set(),['A']\n",
    "stack.extend(graph['A']-visited)\n",
    "print(stack)"
   ]
  },
  {
   "cell_type": "code",
   "execution_count": 10,
   "metadata": {},
   "outputs": [],
   "source": [
    "visited.add('B')"
   ]
  },
  {
   "cell_type": "code",
   "execution_count": 11,
   "metadata": {},
   "outputs": [
    {
     "name": "stdout",
     "output_type": "stream",
     "text": [
      "{'B', 'A'}\n"
     ]
    }
   ],
   "source": [
    "print(visited)"
   ]
  },
  {
   "cell_type": "code",
   "execution_count": 12,
   "metadata": {},
   "outputs": [
    {
     "name": "stdout",
     "output_type": "stream",
     "text": [
      "['A', 'B', 'C', 'D', 'E']\n"
     ]
    }
   ],
   "source": [
    "stack.extend(graph['B']-visited)\n",
    "print(stack)"
   ]
  },
  {
   "cell_type": "code",
   "execution_count": 2,
   "metadata": {},
   "outputs": [
    {
     "data": {
      "text/plain": [
       "{'A', 'B', 'C', 'D', 'E', 'F'}"
      ]
     },
     "execution_count": 2,
     "metadata": {},
     "output_type": "execute_result"
    }
   ],
   "source": [
    "def dfs(graph, start):\n",
    "    visited, stack = set(), [start]\n",
    "    while stack:\n",
    "        vertex = stack.pop()\n",
    "        if vertex not in visited:\n",
    "            visited.add(vertex)\n",
    "            stack.extend(graph[vertex] - visited)\n",
    "    return visited\n",
    "\n",
    "dfs(graph, 'A') "
   ]
  },
  {
   "cell_type": "markdown",
   "metadata": {},
   "source": [
    "The second implementation provides the same functionality as the first, however, this time we are using the more succinct recursive form. Due to a common Python gotcha with default parameter values being created only once, we are required to create a new visited set on each user invocation. Another Python language detail is that function variables are passed by reference, resulting in the visited mutable set not having to reassigned upon each recursive call."
   ]
  },
  {
   "cell_type": "code",
   "execution_count": 3,
   "metadata": {},
   "outputs": [
    {
     "data": {
      "text/plain": [
       "{'A', 'B', 'C', 'D', 'E', 'F'}"
      ]
     },
     "execution_count": 3,
     "metadata": {},
     "output_type": "execute_result"
    }
   ],
   "source": [
    "def dfs(graph, start, visited=None):\n",
    "    if visited is None:\n",
    "        visited = set()\n",
    "    visited.add(start)\n",
    "    for nxt in graph[start] - visited:\n",
    "        dfs(graph, nxt, visited)\n",
    "    return visited\n",
    "\n",
    "dfs(graph, 'A') "
   ]
  },
  {
   "cell_type": "markdown",
   "metadata": {},
   "source": [
    "## Paths\n",
    "We are able to tweak both of the previous implementations to return all possible paths between a start and goal vertex. The implementation below uses the stack data-structure again to iteratively solve the problem, yielding each possible path when we locate the goal. Using a generator allows the user to only compute the desired amount of alternative paths."
   ]
  },
  {
   "cell_type": "code",
   "execution_count": 4,
   "metadata": {},
   "outputs": [
    {
     "data": {
      "text/plain": [
       "[['A', 'B', 'E', 'F'], ['A', 'C', 'F']]"
      ]
     },
     "execution_count": 4,
     "metadata": {},
     "output_type": "execute_result"
    }
   ],
   "source": [
    "def dfs_paths(graph, start, goal):\n",
    "    stack = [(start, [start])]\n",
    "    while stack:\n",
    "        (vertex, path) = stack.pop()\n",
    "        for nxt in graph[vertex] - set(path):\n",
    "            if nxt == goal:\n",
    "                yield path + [nxt]\n",
    "            else:\n",
    "                stack.append((nxt, path + [nxt]))\n",
    "\n",
    "list(dfs_paths(graph, 'A', 'F'))"
   ]
  },
  {
   "cell_type": "markdown",
   "metadata": {},
   "source": [
    "### Resources\n",
    "* [Depth-and Breadth-First Search](http://jeremykun.com/2013/01/22/depth-and-breadth-first-search/)\n",
    "* [Connected component](https://en.wikipedia.org/wiki/Connected_component_(graph_theory))\n",
    "* [Adjacency matrix](https://en.wikipedia.org/wiki/Adjacency_matrix)\n",
    "* [Adjacency list](https://en.wikipedia.org/wiki/Adjacency_list)\n",
    "* [Python Gotcha: Default arguments and mutable data structures](https://developmentality.wordpress.com/2010/08/23/python-gotcha-default-arguments/)\n",
    "* [Generators](https://wiki.python.org/moin/Generators)"
   ]
  },
  {
   "cell_type": "code",
   "execution_count": null,
   "metadata": {},
   "outputs": [],
   "source": []
  },
  {
   "cell_type": "code",
   "execution_count": 22,
   "metadata": {},
   "outputs": [],
   "source": [
    "graph = {'A': set(['C', 'B']),\n",
    "         'B': set(['D']),\n",
    "         'C': set(['E']),\n",
    "         'D': set(['F']),\n",
    "         'E': set([]),\n",
    "         'F': set([])}"
   ]
  },
  {
   "cell_type": "code",
   "execution_count": 23,
   "metadata": {},
   "outputs": [
    {
     "data": {
      "text/plain": [
       "{'A': {'B', 'C'}, 'B': {'D'}, 'C': {'E'}, 'D': {'F'}, 'E': set(), 'F': set()}"
      ]
     },
     "execution_count": 23,
     "metadata": {},
     "output_type": "execute_result"
    }
   ],
   "source": [
    "graph"
   ]
  },
  {
   "cell_type": "code",
   "execution_count": 24,
   "metadata": {},
   "outputs": [],
   "source": [
    "def dfsGraph(s,visited={}):\n",
    "    visited[s] = True\n",
    "    for item in graph[s]:\n",
    "        if item not in visited:\n",
    "            dfsGraph(item,visited)\n",
    "        continue\n",
    "    return visited"
   ]
  },
  {
   "cell_type": "code",
   "execution_count": 25,
   "metadata": {},
   "outputs": [
    {
     "data": {
      "text/plain": [
       "{'A': True, 'C': True, 'E': True, 'B': True, 'D': True, 'F': True}"
      ]
     },
     "execution_count": 25,
     "metadata": {},
     "output_type": "execute_result"
    }
   ],
   "source": [
    "dfsGraph('A')"
   ]
  },
  {
   "cell_type": "code",
   "execution_count": 26,
   "metadata": {},
   "outputs": [],
   "source": [
    "def bfsGraph(s):\n",
    "    visited={}\n",
    "    queue= []\n",
    "    queue.append(s)\n",
    "    visited[s] = True\n",
    "    while(len(queue) !=0):\n",
    "        for item in graph[queue[0]]:\n",
    "            if item not in visited:\n",
    "                visited[item] = True\n",
    "                queue.append(item)\n",
    "        queue.pop(0)\n",
    "    return visited"
   ]
  },
  {
   "cell_type": "code",
   "execution_count": 27,
   "metadata": {},
   "outputs": [
    {
     "data": {
      "text/plain": [
       "{'A': True, 'C': True, 'B': True, 'E': True, 'D': True, 'F': True}"
      ]
     },
     "execution_count": 27,
     "metadata": {},
     "output_type": "execute_result"
    }
   ],
   "source": [
    "bfsGraph('A')"
   ]
  },
  {
   "cell_type": "code",
   "execution_count": null,
   "metadata": {},
   "outputs": [],
   "source": []
  },
  {
   "cell_type": "code",
   "execution_count": 77,
   "metadata": {},
   "outputs": [],
   "source": [
    "graph = {'f': set(['g', 'i']),\n",
    "         'g': set(['h']),\n",
    "         'h': set([]),\n",
    "         'i': set(['g','k']),\n",
    "         'j': set(['i']),\n",
    "         'k': set([])}"
   ]
  },
  {
   "cell_type": "code",
   "execution_count": 78,
   "metadata": {},
   "outputs": [
    {
     "data": {
      "text/plain": [
       "{'f': {'g', 'i'},\n",
       " 'g': {'h'},\n",
       " 'h': set(),\n",
       " 'i': {'g', 'k'},\n",
       " 'j': {'i'},\n",
       " 'k': set()}"
      ]
     },
     "execution_count": 78,
     "metadata": {},
     "output_type": "execute_result"
    }
   ],
   "source": [
    "graph"
   ]
  },
  {
   "cell_type": "code",
   "execution_count": 79,
   "metadata": {},
   "outputs": [],
   "source": [
    "def hasPathBfsSourToDest(s,d):\n",
    "    visited = {}\n",
    "    queue = []\n",
    "    visited[s]=True\n",
    "    queue.append(s)\n",
    "    while(len(queue) !=0):\n",
    "        if(queue[0] == d):\n",
    "            return True\n",
    "        for item in graph[queue[0]]:\n",
    "            if item not in visited:\n",
    "                visited[item] = True\n",
    "                queue.append(item)\n",
    "        queue.pop(0)\n",
    "    return False"
   ]
  },
  {
   "cell_type": "code",
   "execution_count": 80,
   "metadata": {},
   "outputs": [
    {
     "data": {
      "text/plain": [
       "True"
      ]
     },
     "execution_count": 80,
     "metadata": {},
     "output_type": "execute_result"
    }
   ],
   "source": [
    "hasPathBfsSourToDest('f','k')"
   ]
  },
  {
   "cell_type": "code",
   "execution_count": 81,
   "metadata": {},
   "outputs": [
    {
     "data": {
      "text/plain": [
       "False"
      ]
     },
     "execution_count": 81,
     "metadata": {},
     "output_type": "execute_result"
    }
   ],
   "source": [
    "hasPathBfsSourToDest('j','f')"
   ]
  },
  {
   "cell_type": "code",
   "execution_count": 47,
   "metadata": {},
   "outputs": [
    {
     "data": {
      "text/plain": [
       "{'f': {'g', 'i'},\n",
       " 'g': {'h'},\n",
       " 'h': set(),\n",
       " 'i': {'g', 'k'},\n",
       " 'j': {'i'},\n",
       " 'k': set()}"
      ]
     },
     "execution_count": 47,
     "metadata": {},
     "output_type": "execute_result"
    }
   ],
   "source": [
    "graph"
   ]
  },
  {
   "cell_type": "code",
   "execution_count": 55,
   "metadata": {},
   "outputs": [],
   "source": [
    "def dfsHasPath(s,d,visited={}):\n",
    "    visited[s]=True\n",
    "    if s == d:\n",
    "        return True\n",
    "    for item in graph[s]:\n",
    "        if item not in visited:\n",
    "            if(dfsHasPath(item,d,visited)==True):\n",
    "                return True\n",
    "    return False"
   ]
  },
  {
   "cell_type": "code",
   "execution_count": 56,
   "metadata": {},
   "outputs": [
    {
     "data": {
      "text/plain": [
       "True"
      ]
     },
     "execution_count": 56,
     "metadata": {},
     "output_type": "execute_result"
    }
   ],
   "source": [
    "dfsHasPath('f','k',visited={})"
   ]
  },
  {
   "cell_type": "code",
   "execution_count": 57,
   "metadata": {},
   "outputs": [
    {
     "data": {
      "text/plain": [
       "False"
      ]
     },
     "execution_count": 57,
     "metadata": {},
     "output_type": "execute_result"
    }
   ],
   "source": [
    "dfsHasPath('j','f',visited={})"
   ]
  },
  {
   "cell_type": "code",
   "execution_count": 70,
   "metadata": {},
   "outputs": [],
   "source": [
    "unDrGraph = {\n",
    "         'i': set(['j', 'k']),\n",
    "         'j': set(['i']),\n",
    "         'k': set(['i','m','l']),\n",
    "         'm': set(['k']),\n",
    "         'l': set(['k']),\n",
    "         'o': set(['n']),\n",
    "         'n':set(['o'])\n",
    "         }"
   ]
  },
  {
   "cell_type": "code",
   "execution_count": 71,
   "metadata": {},
   "outputs": [
    {
     "data": {
      "text/plain": [
       "{'i': {'j', 'k'},\n",
       " 'j': {'i'},\n",
       " 'k': {'i', 'l', 'm'},\n",
       " 'm': {'k'},\n",
       " 'l': {'k'},\n",
       " 'o': {'n'},\n",
       " 'n': {'o'}}"
      ]
     },
     "execution_count": 71,
     "metadata": {},
     "output_type": "execute_result"
    }
   ],
   "source": [
    "unDrGraph"
   ]
  },
  {
   "cell_type": "code",
   "execution_count": 75,
   "metadata": {},
   "outputs": [],
   "source": [
    "def undrDfsHasPath(s,d,visited={}):\n",
    "    visited[s] = True\n",
    "    if s == d:\n",
    "        return True\n",
    "    for item in unDrGraph[s]:\n",
    "        if item not in visited:\n",
    "            if undrDfsHasPath(item,d,visited) ==True:\n",
    "                return True\n",
    "    return False"
   ]
  },
  {
   "cell_type": "code",
   "execution_count": 76,
   "metadata": {},
   "outputs": [
    {
     "data": {
      "text/plain": [
       "True"
      ]
     },
     "execution_count": 76,
     "metadata": {},
     "output_type": "execute_result"
    }
   ],
   "source": [
    "undrDfsHasPath('o','n',visited={})"
   ]
  },
  {
   "cell_type": "code",
   "execution_count": 89,
   "metadata": {},
   "outputs": [],
   "source": [
    "unDrGraph = {\n",
    "         1: set([2]),\n",
    "         2: set([1]),\n",
    "         3: set([]),\n",
    "         4: set([6]),\n",
    "         5: set([6]),\n",
    "         6:set([4,5,7,8]),\n",
    "         7:set([6]),\n",
    "         8:set([6])\n",
    "         }"
   ]
  },
  {
   "cell_type": "code",
   "execution_count": 72,
   "metadata": {},
   "outputs": [
    {
     "data": {
      "text/plain": [
       "{1: {2}, 2: {1}, 3: set(), 4: {6}, 5: {6}, 6: {4, 5, 7, 8}, 7: {6}, 8: {6}}"
      ]
     },
     "execution_count": 72,
     "metadata": {},
     "output_type": "execute_result"
    }
   ],
   "source": [
    "unDrGraph"
   ]
  },
  {
   "cell_type": "code",
   "execution_count": 23,
   "metadata": {},
   "outputs": [],
   "source": [
    "def countComponent(graph,visited={}):\n",
    "    count = 0\n",
    "    for item in graph:\n",
    "        if item not in visited:\n",
    "            helper(item,visited)\n",
    "            count += 1\n",
    "    return count\n",
    "def helper(item,visited):\n",
    "    visited[item] = True\n",
    "    for j in unDrGraph[item]:\n",
    "        if j not in visited:\n",
    "            helper(j,visited)"
   ]
  },
  {
   "cell_type": "code",
   "execution_count": 24,
   "metadata": {},
   "outputs": [
    {
     "data": {
      "text/plain": [
       "3"
      ]
     },
     "execution_count": 24,
     "metadata": {},
     "output_type": "execute_result"
    }
   ],
   "source": [
    "countComponent(unDrGraph)"
   ]
  },
  {
   "cell_type": "code",
   "execution_count": 96,
   "metadata": {},
   "outputs": [],
   "source": [
    "unDrGraph = {\n",
    "    0:set([1,2]),\n",
    "    1:set([0]),\n",
    "    2:set([0])\n",
    "}"
   ]
  },
  {
   "cell_type": "code",
   "execution_count": 97,
   "metadata": {},
   "outputs": [
    {
     "data": {
      "text/plain": [
       "{0: {1, 2}, 1: {0}, 2: {0}}"
      ]
     },
     "execution_count": 97,
     "metadata": {},
     "output_type": "execute_result"
    }
   ],
   "source": [
    "unDrGraph"
   ]
  },
  {
   "cell_type": "markdown",
   "metadata": {},
   "source": [
    "# Eita hoi nai"
   ]
  },
  {
   "cell_type": "code",
   "execution_count": 100,
   "metadata": {},
   "outputs": [],
   "source": [
    "def largestComponentSize(graph,visited={}):\n",
    "    largest = 0\n",
    "    for item in graph:\n",
    "        count = 1\n",
    "        if item not in visited:\n",
    "            helper(item,visited,count)\n",
    "            largest = max(largest,count)\n",
    "    return largest\n",
    "\n",
    "def helper(item,visited,count):\n",
    "    visited[item] = True\n",
    "    for j in unDrGraph[item]:\n",
    "        if j not in visited:\n",
    "            count += 1\n",
    "            print(count)\n",
    "            print(visited)\n",
    "            helper(j,visited,count)"
   ]
  },
  {
   "cell_type": "code",
   "execution_count": 101,
   "metadata": {},
   "outputs": [
    {
     "name": "stdout",
     "output_type": "stream",
     "text": [
      "2\n",
      "{0: True}\n",
      "3\n",
      "{0: True, 1: True}\n"
     ]
    },
    {
     "data": {
      "text/plain": [
       "1"
      ]
     },
     "execution_count": 101,
     "metadata": {},
     "output_type": "execute_result"
    }
   ],
   "source": [
    "largestComponentSize(unDrGraph)"
   ]
  },
  {
   "cell_type": "code",
   "execution_count": 1,
   "metadata": {},
   "outputs": [],
   "source": [
    "unDrGraph = {\n",
    "         1: set([2]),\n",
    "         2: set([1]),\n",
    "         3: set([]),\n",
    "         4: set([6]),\n",
    "         5: set([6]),\n",
    "         6:set([4,5,7,8]),\n",
    "         7:set([6]),\n",
    "         8:set([6])\n",
    "         }"
   ]
  },
  {
   "cell_type": "code",
   "execution_count": 2,
   "metadata": {},
   "outputs": [
    {
     "data": {
      "text/plain": [
       "{1: {2}, 2: {1}, 3: set(), 4: {6}, 5: {6}, 6: {4, 5, 7, 8}, 7: {6}, 8: {6}}"
      ]
     },
     "execution_count": 2,
     "metadata": {},
     "output_type": "execute_result"
    }
   ],
   "source": [
    "unDrGraph"
   ]
  },
  {
   "cell_type": "code",
   "execution_count": 13,
   "metadata": {},
   "outputs": [],
   "source": [
    "unDrGraph = {\n",
    "    0:set([8,1,5]),\n",
    "    1:set([0]),\n",
    "    5:set([6,8]),\n",
    "    8:set([0,5]),\n",
    "    2:set([3,4]),\n",
    "    4:set([3,2])\n",
    "}"
   ]
  },
  {
   "cell_type": "code",
   "execution_count": 14,
   "metadata": {},
   "outputs": [
    {
     "data": {
      "text/plain": [
       "{0: {1, 5, 8}, 1: {0}, 5: {6, 8}, 8: {0, 5}, 2: {3, 4}, 4: {2, 3}}"
      ]
     },
     "execution_count": 14,
     "metadata": {},
     "output_type": "execute_result"
    }
   ],
   "source": [
    "unDrGraph"
   ]
  },
  {
   "cell_type": "markdown",
   "metadata": {},
   "source": [
    "# Eita Hoise"
   ]
  },
  {
   "cell_type": "code",
   "execution_count": 15,
   "metadata": {},
   "outputs": [],
   "source": [
    "def largestComponent(graph):\n",
    "    visited = {}\n",
    "    largest = 0\n",
    "    for item in graph:\n",
    "        store = helper(item,visited={})\n",
    "        largest = max(store,largest)\n",
    "    return largest\n",
    "\n",
    "def helper(item,visited):\n",
    "    count = 0\n",
    "    visited[item] = True\n",
    "    count += 1\n",
    "        \n",
    "    for item in unDrGraph[item]:\n",
    "        if item not in visited:\n",
    "            visited[item] = True\n",
    "            count +=1\n",
    "    print(count,visited)\n",
    "    return count"
   ]
  },
  {
   "cell_type": "code",
   "execution_count": 16,
   "metadata": {},
   "outputs": [
    {
     "name": "stdout",
     "output_type": "stream",
     "text": [
      "4 {0: True, 8: True, 1: True, 5: True}\n",
      "2 {1: True, 0: True}\n",
      "3 {5: True, 8: True, 6: True}\n",
      "3 {8: True, 0: True, 5: True}\n",
      "3 {2: True, 3: True, 4: True}\n",
      "3 {4: True, 2: True, 3: True}\n"
     ]
    },
    {
     "data": {
      "text/plain": [
       "4"
      ]
     },
     "execution_count": 16,
     "metadata": {},
     "output_type": "execute_result"
    }
   ],
   "source": [
    "largestComponent(unDrGraph)"
   ]
  },
  {
   "cell_type": "code",
   "execution_count": 87,
   "metadata": {},
   "outputs": [],
   "source": [
    "def shortestPath(edges,s,e):\n",
    "    store = buildGraph(edges)\n",
    "    print(store)\n",
    "    visited = set()\n",
    "    visited.add(s)\n",
    "    queue = [[s,0]]\n",
    "    while(len(queue)!=0):\n",
    "        node,distance = queue.pop(0)\n",
    "        if node==e:\n",
    "            return distance\n",
    "        for neighbour in store[node]:\n",
    "            if neighbour not in visited:\n",
    "                visited.add(neighbour)\n",
    "                queue.append([neighbour,distance+1])\n",
    "    return -1\n",
    "\n",
    "def buildGraph(edges):\n",
    "    graph = {}\n",
    "    for item in edges:\n",
    "        a,b= item\n",
    "        if a not in graph:\n",
    "            graph[a] = set([])\n",
    "        if b not in graph:\n",
    "            graph[b] = set([])\n",
    "        graph[a].add(b)\n",
    "        graph[b].add(a)\n",
    "    return graph\n",
    "        "
   ]
  },
  {
   "cell_type": "code",
   "execution_count": 88,
   "metadata": {},
   "outputs": [],
   "source": [
    "edges = [\n",
    "    ['w','x'],\n",
    "    ['x','y'],\n",
    "    ['z','y'],\n",
    "    ['z','v'],\n",
    "    ['w','v']\n",
    "]"
   ]
  },
  {
   "cell_type": "code",
   "execution_count": 89,
   "metadata": {},
   "outputs": [
    {
     "data": {
      "text/plain": [
       "[['w', 'x'], ['x', 'y'], ['z', 'y'], ['z', 'v'], ['w', 'v']]"
      ]
     },
     "execution_count": 89,
     "metadata": {},
     "output_type": "execute_result"
    }
   ],
   "source": [
    "edges"
   ]
  },
  {
   "cell_type": "code",
   "execution_count": 90,
   "metadata": {},
   "outputs": [
    {
     "name": "stdout",
     "output_type": "stream",
     "text": [
      "{'w': {'x', 'v'}, 'x': {'y', 'w'}, 'y': {'x', 'z'}, 'z': {'v', 'y'}, 'v': {'z', 'w'}}\n"
     ]
    },
    {
     "data": {
      "text/plain": [
       "-1"
      ]
     },
     "execution_count": 90,
     "metadata": {},
     "output_type": "execute_result"
    }
   ],
   "source": [
    "shortestPath(edges,'w','p')"
   ]
  },
  {
   "cell_type": "code",
   "execution_count": 64,
   "metadata": {},
   "outputs": [
    {
     "name": "stdout",
     "output_type": "stream",
     "text": [
      "<class 'list'>\n",
      "1\n"
     ]
    }
   ],
   "source": [
    "queue = [['s',0]]\n",
    "print(type(queue))\n",
    "print(len(queue))\n",
    "node,distance = queue.pop()"
   ]
  },
  {
   "cell_type": "code",
   "execution_count": 37,
   "metadata": {},
   "outputs": [
    {
     "data": {
      "text/plain": [
       "'s'"
      ]
     },
     "execution_count": 37,
     "metadata": {},
     "output_type": "execute_result"
    }
   ],
   "source": [
    "node"
   ]
  },
  {
   "cell_type": "code",
   "execution_count": 38,
   "metadata": {},
   "outputs": [
    {
     "data": {
      "text/plain": [
       "0"
      ]
     },
     "execution_count": 38,
     "metadata": {},
     "output_type": "execute_result"
    }
   ],
   "source": [
    "distance"
   ]
  },
  {
   "cell_type": "code",
   "execution_count": null,
   "metadata": {},
   "outputs": [],
   "source": []
  }
 ],
 "metadata": {
  "kernelspec": {
   "display_name": "Python 3",
   "language": "python",
   "name": "python3"
  },
  "language_info": {
   "codemirror_mode": {
    "name": "ipython",
    "version": 3
   },
   "file_extension": ".py",
   "mimetype": "text/x-python",
   "name": "python",
   "nbconvert_exporter": "python",
   "pygments_lexer": "ipython3",
   "version": "3.8.8"
  }
 },
 "nbformat": 4,
 "nbformat_minor": 1
}
