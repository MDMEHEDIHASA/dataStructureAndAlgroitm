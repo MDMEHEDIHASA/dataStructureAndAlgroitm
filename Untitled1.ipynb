{
 "cells": [
  {
   "cell_type": "code",
   "execution_count": 8,
   "id": "7aa14c34",
   "metadata": {},
   "outputs": [],
   "source": [
    "import math"
   ]
  },
  {
   "cell_type": "code",
   "execution_count": 18,
   "id": "91b7393a",
   "metadata": {},
   "outputs": [],
   "source": [
    "def arrayRotataion(arr,n,d):\n",
    "    tempArr = arr[:d]\n",
    "    newarray = arr[d:]\n",
    "    for i in range(0,len(tempArr)):\n",
    "        newarray.insert(len(newarray),tempArr[i])\n",
    "    return newarray"
   ]
  },
  {
   "cell_type": "code",
   "execution_count": null,
   "id": "5b8725e9",
   "metadata": {},
   "outputs": [],
   "source": []
  },
  {
   "cell_type": "code",
   "execution_count": 19,
   "id": "3231affa",
   "metadata": {},
   "outputs": [
    {
     "data": {
      "text/plain": [
       "[3, 4, 5, 6, 7, 1, 2]"
      ]
     },
     "execution_count": 19,
     "metadata": {},
     "output_type": "execute_result"
    }
   ],
   "source": [
    "arrayRotataion([1,2,3,4,5,6,7],7,2)"
   ]
  },
  {
   "cell_type": "code",
   "execution_count": 4,
   "id": "8c8e1379",
   "metadata": {},
   "outputs": [],
   "source": [
    "arr = [12]"
   ]
  },
  {
   "cell_type": "code",
   "execution_count": 6,
   "id": "d1fedce0",
   "metadata": {},
   "outputs": [],
   "source": [
    "arr.insert(1,23)"
   ]
  },
  {
   "cell_type": "code",
   "execution_count": 7,
   "id": "ca13c2a2",
   "metadata": {},
   "outputs": [
    {
     "data": {
      "text/plain": [
       "[12, 23]"
      ]
     },
     "execution_count": 7,
     "metadata": {},
     "output_type": "execute_result"
    }
   ],
   "source": [
    "arr"
   ]
  },
  {
   "cell_type": "code",
   "execution_count": 9,
   "id": "1a6d9470",
   "metadata": {},
   "outputs": [
    {
     "ename": "TypeError",
     "evalue": "insert expected 2 arguments, got 3",
     "output_type": "error",
     "traceback": [
      "\u001b[1;31m---------------------------------------------------------------------------\u001b[0m",
      "\u001b[1;31mTypeError\u001b[0m                                 Traceback (most recent call last)",
      "\u001b[1;32m<ipython-input-9-4965dc3d7cdd>\u001b[0m in \u001b[0;36m<module>\u001b[1;34m\u001b[0m\n\u001b[1;32m----> 1\u001b[1;33m \u001b[0marr\u001b[0m\u001b[1;33m.\u001b[0m\u001b[0minsert\u001b[0m\u001b[1;33m(\u001b[0m\u001b[1;36m2\u001b[0m\u001b[1;33m,\u001b[0m\u001b[1;36m3\u001b[0m\u001b[1;33m,\u001b[0m\u001b[1;36m5\u001b[0m\u001b[1;33m)\u001b[0m\u001b[1;33m\u001b[0m\u001b[1;33m\u001b[0m\u001b[0m\n\u001b[0m",
      "\u001b[1;31mTypeError\u001b[0m: insert expected 2 arguments, got 3"
     ]
    }
   ],
   "source": [
    "arr.insert(2,3,5)"
   ]
  },
  {
   "cell_type": "code",
   "execution_count": 32,
   "id": "745fc351",
   "metadata": {},
   "outputs": [],
   "source": [
    "def checkAnagram(str1,str2):\n",
    "    firstStore = {}\n",
    "    secondStore = {}\n",
    "    if(len(str1) != len(str2)):\n",
    "        return False\n",
    "    for i in range(0,len(str1)):\n",
    "        if str1[i] in firstStore:\n",
    "            firstStore[str1[i]] += 1\n",
    "        else:\n",
    "            firstStore[str1[i]] = 1\n",
    "    for j in range(0,len(str2)):\n",
    "        if str2[j] in secondStore:\n",
    "            secondStore[str2[j]] += 1\n",
    "        else:\n",
    "            secondStore[str2[j]] = 1\n",
    "    for k,l in firstStore.items():\n",
    "        if k not in secondStore:\n",
    "            return False\n",
    "        checkValue = secondStore[k]\n",
    "        if l == checkValue:\n",
    "            continue\n",
    "        else:\n",
    "            return False\n",
    "    return True\n",
    "    "
   ]
  },
  {
   "cell_type": "code",
   "execution_count": 33,
   "id": "541fb660",
   "metadata": {},
   "outputs": [
    {
     "data": {
      "text/plain": [
       "False"
      ]
     },
     "execution_count": 33,
     "metadata": {},
     "output_type": "execute_result"
    }
   ],
   "source": [
    "checkAnagram('rat','car')"
   ]
  },
  {
   "cell_type": "code",
   "execution_count": 4,
   "id": "0e4149c1",
   "metadata": {
    "scrolled": true
   },
   "outputs": [
    {
     "name": "stdout",
     "output_type": "stream",
     "text": [
      "None\n"
     ]
    }
   ],
   "source": [
    "print(store)"
   ]
  },
  {
   "cell_type": "code",
   "execution_count": 34,
   "id": "c1dd3e0c",
   "metadata": {},
   "outputs": [],
   "source": [
    "def sumZero(arr):\n",
    "    for i in range(0,len(arr)):\n",
    "        if arr[i] + arr[len(arr)-1] ==0:\n",
    "            print(arr[i],arr[len(arr)-1])\n",
    "            break\n",
    "        else:\n",
    "            return False\n",
    "    "
   ]
  },
  {
   "cell_type": "code",
   "execution_count": 38,
   "id": "fadb63df",
   "metadata": {},
   "outputs": [
    {
     "data": {
      "text/plain": [
       "False"
      ]
     },
     "execution_count": 38,
     "metadata": {},
     "output_type": "execute_result"
    }
   ],
   "source": [
    "sumZero([1,2,3])"
   ]
  },
  {
   "cell_type": "code",
   "execution_count": null,
   "id": "42156d75",
   "metadata": {},
   "outputs": [],
   "source": []
  },
  {
   "cell_type": "code",
   "execution_count": 1,
   "id": "21afffec",
   "metadata": {},
   "outputs": [],
   "source": [
    "import math"
   ]
  },
  {
   "cell_type": "code",
   "execution_count": 42,
   "id": "ac13e875",
   "metadata": {},
   "outputs": [],
   "source": [
    "def countSequence(string):\n",
    "    item = {}\n",
    "    count = 0\n",
    "    storeLargestSequence = max(0,count)\n",
    "    for i in range(0,len(string)):\n",
    "        if string[i] in item:\n",
    "            count = 1\n",
    "            item = {}\n",
    "            item[string[i]]=1\n",
    "        else:\n",
    "            item[string[i]] = 1\n",
    "            count +=1\n",
    "            storeLargestSequence = max(storeLargestSequence,count)\n",
    "    return storeLargestSequence"
   ]
  },
  {
   "cell_type": "code",
   "execution_count": 43,
   "id": "ea052a7c",
   "metadata": {},
   "outputs": [
    {
     "data": {
      "text/plain": [
       "6"
      ]
     },
     "execution_count": 43,
     "metadata": {},
     "output_type": "execute_result"
    }
   ],
   "source": [
    "countSequence('hellothere')"
   ]
  },
  {
   "cell_type": "code",
   "execution_count": 6,
   "id": "03f650c7",
   "metadata": {},
   "outputs": [],
   "source": [
    "def countLargestSum(arr,n):\n",
    "    i =0\n",
    "    global storeMaxvalue\n",
    "    storeMaxvalue =0\n",
    "    \n",
    "    finalValue = 0\n",
    "    def helper(i):\n",
    "        global storeMaxvalue\n",
    "        sumValue =0\n",
    "        count = 0\n",
    "        #print(storeMaxvalue)\n",
    "        while(count !=n):\n",
    "            sumValue = sumValue + arr[i]\n",
    "            count += 1\n",
    "            i +=1\n",
    "        storeMaxvalue = max(storeMaxvalue,sumValue)\n",
    "        #print(storeMaxvalue)\n",
    "        \n",
    "        if(i == len(arr)):\n",
    "            #print(storeMaxvalue)\n",
    "            return storeMaxvalue\n",
    "        else:\n",
    "            i = i-1\n",
    "            helper(i)\n",
    "    if(n==1):\n",
    "        return max(arr)\n",
    "    helper(i)\n",
    "    return storeMaxvalue"
   ]
  },
  {
   "cell_type": "code",
   "execution_count": 7,
   "id": "89b02448",
   "metadata": {},
   "outputs": [
    {
     "ename": "IndexError",
     "evalue": "list index out of range",
     "output_type": "error",
     "traceback": [
      "\u001b[1;31m---------------------------------------------------------------------------\u001b[0m",
      "\u001b[1;31mIndexError\u001b[0m                                Traceback (most recent call last)",
      "\u001b[1;32m<ipython-input-7-b4713251e4c2>\u001b[0m in \u001b[0;36m<module>\u001b[1;34m\u001b[0m\n\u001b[1;32m----> 1\u001b[1;33m \u001b[0mcountLargestSum\u001b[0m\u001b[1;33m(\u001b[0m\u001b[1;33m[\u001b[0m\u001b[1;36m4\u001b[0m\u001b[1;33m,\u001b[0m\u001b[1;36m2\u001b[0m\u001b[1;33m,\u001b[0m\u001b[1;36m1\u001b[0m\u001b[1;33m,\u001b[0m\u001b[1;36m6\u001b[0m\u001b[1;33m,\u001b[0m\u001b[1;36m2\u001b[0m\u001b[1;33m]\u001b[0m\u001b[1;33m,\u001b[0m\u001b[1;36m4\u001b[0m\u001b[1;33m)\u001b[0m\u001b[1;33m\u001b[0m\u001b[1;33m\u001b[0m\u001b[0m\n\u001b[0m",
      "\u001b[1;32m<ipython-input-6-aa553ddb29f7>\u001b[0m in \u001b[0;36mcountLargestSum\u001b[1;34m(arr, n)\u001b[0m\n\u001b[0;32m     25\u001b[0m     \u001b[1;32mif\u001b[0m\u001b[1;33m(\u001b[0m\u001b[0mn\u001b[0m\u001b[1;33m==\u001b[0m\u001b[1;36m1\u001b[0m\u001b[1;33m)\u001b[0m\u001b[1;33m:\u001b[0m\u001b[1;33m\u001b[0m\u001b[1;33m\u001b[0m\u001b[0m\n\u001b[0;32m     26\u001b[0m         \u001b[1;32mreturn\u001b[0m \u001b[0mmax\u001b[0m\u001b[1;33m(\u001b[0m\u001b[0marr\u001b[0m\u001b[1;33m)\u001b[0m\u001b[1;33m\u001b[0m\u001b[1;33m\u001b[0m\u001b[0m\n\u001b[1;32m---> 27\u001b[1;33m     \u001b[0mhelper\u001b[0m\u001b[1;33m(\u001b[0m\u001b[0mi\u001b[0m\u001b[1;33m)\u001b[0m\u001b[1;33m\u001b[0m\u001b[1;33m\u001b[0m\u001b[0m\n\u001b[0m\u001b[0;32m     28\u001b[0m     \u001b[1;32mreturn\u001b[0m \u001b[0mstoreMaxvalue\u001b[0m\u001b[1;33m\u001b[0m\u001b[1;33m\u001b[0m\u001b[0m\n",
      "\u001b[1;32m<ipython-input-6-aa553ddb29f7>\u001b[0m in \u001b[0;36mhelper\u001b[1;34m(i)\u001b[0m\n\u001b[0;32m     22\u001b[0m         \u001b[1;32melse\u001b[0m\u001b[1;33m:\u001b[0m\u001b[1;33m\u001b[0m\u001b[1;33m\u001b[0m\u001b[0m\n\u001b[0;32m     23\u001b[0m             \u001b[0mi\u001b[0m \u001b[1;33m=\u001b[0m \u001b[0mi\u001b[0m\u001b[1;33m-\u001b[0m\u001b[1;36m1\u001b[0m\u001b[1;33m\u001b[0m\u001b[1;33m\u001b[0m\u001b[0m\n\u001b[1;32m---> 24\u001b[1;33m             \u001b[0mhelper\u001b[0m\u001b[1;33m(\u001b[0m\u001b[0mi\u001b[0m\u001b[1;33m)\u001b[0m\u001b[1;33m\u001b[0m\u001b[1;33m\u001b[0m\u001b[0m\n\u001b[0m\u001b[0;32m     25\u001b[0m     \u001b[1;32mif\u001b[0m\u001b[1;33m(\u001b[0m\u001b[0mn\u001b[0m\u001b[1;33m==\u001b[0m\u001b[1;36m1\u001b[0m\u001b[1;33m)\u001b[0m\u001b[1;33m:\u001b[0m\u001b[1;33m\u001b[0m\u001b[1;33m\u001b[0m\u001b[0m\n\u001b[0;32m     26\u001b[0m         \u001b[1;32mreturn\u001b[0m \u001b[0mmax\u001b[0m\u001b[1;33m(\u001b[0m\u001b[0marr\u001b[0m\u001b[1;33m)\u001b[0m\u001b[1;33m\u001b[0m\u001b[1;33m\u001b[0m\u001b[0m\n",
      "\u001b[1;32m<ipython-input-6-aa553ddb29f7>\u001b[0m in \u001b[0;36mhelper\u001b[1;34m(i)\u001b[0m\n\u001b[0;32m     11\u001b[0m         \u001b[1;31m#print(storeMaxvalue)\u001b[0m\u001b[1;33m\u001b[0m\u001b[1;33m\u001b[0m\u001b[1;33m\u001b[0m\u001b[0m\n\u001b[0;32m     12\u001b[0m         \u001b[1;32mwhile\u001b[0m\u001b[1;33m(\u001b[0m\u001b[0mcount\u001b[0m \u001b[1;33m!=\u001b[0m\u001b[0mn\u001b[0m\u001b[1;33m)\u001b[0m\u001b[1;33m:\u001b[0m\u001b[1;33m\u001b[0m\u001b[1;33m\u001b[0m\u001b[0m\n\u001b[1;32m---> 13\u001b[1;33m             \u001b[0msumValue\u001b[0m \u001b[1;33m=\u001b[0m \u001b[0msumValue\u001b[0m \u001b[1;33m+\u001b[0m \u001b[0marr\u001b[0m\u001b[1;33m[\u001b[0m\u001b[0mi\u001b[0m\u001b[1;33m]\u001b[0m\u001b[1;33m\u001b[0m\u001b[1;33m\u001b[0m\u001b[0m\n\u001b[0m\u001b[0;32m     14\u001b[0m             \u001b[0mcount\u001b[0m \u001b[1;33m+=\u001b[0m \u001b[1;36m1\u001b[0m\u001b[1;33m\u001b[0m\u001b[1;33m\u001b[0m\u001b[0m\n\u001b[0;32m     15\u001b[0m             \u001b[0mi\u001b[0m \u001b[1;33m+=\u001b[0m\u001b[1;36m1\u001b[0m\u001b[1;33m\u001b[0m\u001b[1;33m\u001b[0m\u001b[0m\n",
      "\u001b[1;31mIndexError\u001b[0m: list index out of range"
     ]
    }
   ],
   "source": [
    "countLargestSum([4,2,1,6,2],4)"
   ]
  },
  {
   "cell_type": "code",
   "execution_count": 8,
   "id": "ee6b7939",
   "metadata": {},
   "outputs": [],
   "source": [
    "def findLargestValue(arr,n):\n",
    "    storeSum =0\n",
    "    for i in range(0,len(arr)):\n",
    "        count = i\n",
    "        sums = 0\n",
    "        while(count != n):\n",
    "            sums = sums+arr[count]\n",
    "        sums = sums +arr[count]\n",
    "        storeSum = max(storeSum,sums)\n",
    "    return storeSum"
   ]
  },
  {
   "cell_type": "code",
   "execution_count": 9,
   "id": "d7377cf0",
   "metadata": {},
   "outputs": [
    {
     "name": "stderr",
     "output_type": "stream",
     "text": [
      "\n",
      "KeyboardInterrupt\n",
      "\n"
     ]
    }
   ],
   "source": [
    "findLargestValue([1,2,5,2,8,1,5],4)"
   ]
  },
  {
   "cell_type": "code",
   "execution_count": null,
   "id": "ff515632",
   "metadata": {},
   "outputs": [],
   "source": []
  },
  {
   "cell_type": "code",
   "execution_count": 2,
   "id": "50d4bd9e",
   "metadata": {},
   "outputs": [
    {
     "data": {
      "text/plain": [
       "6"
      ]
     },
     "execution_count": 2,
     "metadata": {},
     "output_type": "execute_result"
    }
   ],
   "source": [
    "math.floor(6.5)"
   ]
  },
  {
   "cell_type": "markdown",
   "id": "11020ecd",
   "metadata": {},
   "source": [
    "# Binary Search"
   ]
  },
  {
   "cell_type": "code",
   "execution_count": 3,
   "id": "2d08cd7b",
   "metadata": {},
   "outputs": [],
   "source": [
    "def binarySearch(arr,value):\n",
    "    left = 0\n",
    "    right = len(arr)-1\n",
    "    middle = math.floor((left+right)/2)\n",
    "    while(left<=right):\n",
    "        if(arr[middle] ==value):\n",
    "            return middle\n",
    "        if(arr[middle] >value):\n",
    "            right = middle -1\n",
    "        else:\n",
    "            left = middle+1\n",
    "        middle = math.floor((left+right)/2)\n",
    "    return False"
   ]
  },
  {
   "cell_type": "code",
   "execution_count": 7,
   "id": "a034fcee",
   "metadata": {},
   "outputs": [
    {
     "data": {
      "text/plain": [
       "False"
      ]
     },
     "execution_count": 7,
     "metadata": {},
     "output_type": "execute_result"
    }
   ],
   "source": [
    "binarySearch([1,2,3,4,5,6,7,8],10)"
   ]
  },
  {
   "cell_type": "code",
   "execution_count": 13,
   "id": "a287a0f0",
   "metadata": {},
   "outputs": [],
   "source": [
    "def naiveStringSearch(str1,str2):\n",
    "    i=0\n",
    "    j=0\n",
    "    count=0\n",
    "    while(i<len(str1)):\n",
    "        if(str1[i] == str2[j]):\n",
    "            i+=1;\n",
    "            j+=1\n",
    "        else:\n",
    "            i+=1\n",
    "            j=0\n",
    "        if(j==len(str2)):\n",
    "            count +=1\n",
    "            j=0\n",
    "    return count"
   ]
  },
  {
   "cell_type": "code",
   "execution_count": 18,
   "id": "719e73d0",
   "metadata": {},
   "outputs": [
    {
     "data": {
      "text/plain": [
       "1"
      ]
     },
     "execution_count": 18,
     "metadata": {},
     "output_type": "execute_result"
    }
   ],
   "source": [
    "naiveStringSearch('lorie loled','loled')"
   ]
  },
  {
   "cell_type": "markdown",
   "id": "ebf2f8e4",
   "metadata": {},
   "source": [
    "# Bubble Sort "
   ]
  },
  {
   "cell_type": "code",
   "execution_count": 51,
   "id": "5a0c1a79",
   "metadata": {},
   "outputs": [
    {
     "name": "stdout",
     "output_type": "stream",
     "text": [
      "7\n",
      "6\n",
      "5\n",
      "4\n",
      "3\n",
      "2\n",
      "1\n",
      "0\n"
     ]
    }
   ],
   "source": [
    "for i in reversed(range(8)):\n",
    "    print(i)"
   ]
  },
  {
   "cell_type": "code",
   "execution_count": 9,
   "id": "9db023bb",
   "metadata": {},
   "outputs": [],
   "source": [
    "def bubbleSort(arr):\n",
    "    for i in reversed(range(len(arr))):\n",
    "        nochage = True\n",
    "        for j in range(0,i):\n",
    "            if(arr[j]>arr[j+1]):\n",
    "                nochage=False\n",
    "                arr[j],arr[j+1] = arr[j+1],arr[j]\n",
    "            print(arr)\n",
    "        if(nochage):\n",
    "            break\n",
    "    return arr"
   ]
  },
  {
   "cell_type": "code",
   "execution_count": 11,
   "id": "97e534d6",
   "metadata": {},
   "outputs": [
    {
     "name": "stdout",
     "output_type": "stream",
     "text": [
      "[12, 29, 15, 38, 5]\n",
      "[12, 15, 29, 38, 5]\n",
      "[12, 15, 29, 38, 5]\n",
      "[12, 15, 29, 5, 38]\n",
      "[12, 15, 29, 5, 38]\n",
      "[12, 15, 29, 5, 38]\n",
      "[12, 15, 5, 29, 38]\n",
      "[12, 15, 5, 29, 38]\n",
      "[12, 5, 15, 29, 38]\n",
      "[5, 12, 15, 29, 38]\n"
     ]
    },
    {
     "data": {
      "text/plain": [
       "[5, 12, 15, 29, 38]"
      ]
     },
     "execution_count": 11,
     "metadata": {},
     "output_type": "execute_result"
    }
   ],
   "source": [
    "bubbleSort([29,12,15,38,5])"
   ]
  },
  {
   "cell_type": "markdown",
   "id": "92689999",
   "metadata": {},
   "source": [
    "# Selection Sort"
   ]
  },
  {
   "cell_type": "code",
   "execution_count": 12,
   "id": "1491e0b5",
   "metadata": {},
   "outputs": [],
   "source": [
    "def selectionSort(arr):\n",
    "    for i in range(0,len(arr)):\n",
    "        min = i\n",
    "        for j in range(i+1,len(arr)):\n",
    "            if(arr[j] < arr[min]):\n",
    "                min = j\n",
    "        arr[i],arr[min] = arr[min],arr[i]\n",
    "        print(arr)\n",
    "    return arr"
   ]
  },
  {
   "cell_type": "code",
   "execution_count": 15,
   "id": "d832c50e",
   "metadata": {},
   "outputs": [
    {
     "name": "stdout",
     "output_type": "stream",
     "text": [
      "[1, 3, 4, 5, 2]\n",
      "[1, 2, 4, 5, 3]\n",
      "[1, 2, 3, 5, 4]\n",
      "[1, 2, 3, 4, 5]\n",
      "[1, 2, 3, 4, 5]\n"
     ]
    },
    {
     "data": {
      "text/plain": [
       "[1, 2, 3, 4, 5]"
      ]
     },
     "execution_count": 15,
     "metadata": {},
     "output_type": "execute_result"
    }
   ],
   "source": [
    "selectionSort([5,3,4,1,2])"
   ]
  },
  {
   "cell_type": "code",
   "execution_count": 16,
   "id": "d9742fd0",
   "metadata": {},
   "outputs": [
    {
     "name": "stdout",
     "output_type": "stream",
     "text": [
      "[5, 12, 15, 38, 29]\n",
      "[5, 12, 15, 38, 29]\n",
      "[5, 12, 15, 38, 29]\n",
      "[5, 12, 15, 29, 38]\n",
      "[5, 12, 15, 29, 38]\n"
     ]
    },
    {
     "data": {
      "text/plain": [
       "[5, 12, 15, 29, 38]"
      ]
     },
     "execution_count": 16,
     "metadata": {},
     "output_type": "execute_result"
    }
   ],
   "source": [
    "selectionSort([29,12,15,38,5])"
   ]
  },
  {
   "cell_type": "code",
   "execution_count": 18,
   "id": "d4e48eee",
   "metadata": {},
   "outputs": [],
   "source": [
    "def insertionSort(arr):\n",
    "    for i in range(1,len(arr)):\n",
    "        for j in range(0,i):\n",
    "            if(arr[i]<arr[j]):\n",
    "                arr[i],arr[j] = arr[j],arr[i]\n",
    "        print(arr)\n",
    "    return arr"
   ]
  },
  {
   "cell_type": "code",
   "execution_count": 19,
   "id": "ac189021",
   "metadata": {},
   "outputs": [
    {
     "name": "stdout",
     "output_type": "stream",
     "text": [
      "[3, 5, 4, 1, 2]\n",
      "[3, 4, 5, 1, 2]\n",
      "[1, 3, 4, 5, 2]\n",
      "[1, 2, 3, 4, 5]\n"
     ]
    },
    {
     "data": {
      "text/plain": [
       "[1, 2, 3, 4, 5]"
      ]
     },
     "execution_count": 19,
     "metadata": {},
     "output_type": "execute_result"
    }
   ],
   "source": [
    "insertionSort([5,3,4,1,2])"
   ]
  },
  {
   "cell_type": "code",
   "execution_count": 20,
   "id": "b9357969",
   "metadata": {},
   "outputs": [
    {
     "name": "stdout",
     "output_type": "stream",
     "text": [
      "[12, 29, 15, 38, 5]\n",
      "[12, 15, 29, 38, 5]\n",
      "[12, 15, 29, 38, 5]\n",
      "[5, 12, 15, 29, 38]\n"
     ]
    },
    {
     "data": {
      "text/plain": [
       "[5, 12, 15, 29, 38]"
      ]
     },
     "execution_count": 20,
     "metadata": {},
     "output_type": "execute_result"
    }
   ],
   "source": [
    "insertionSort([29,12,15,38,5])"
   ]
  },
  {
   "cell_type": "markdown",
   "id": "b9a4afda",
   "metadata": {},
   "source": [
    "# Merge Sort"
   ]
  },
  {
   "cell_type": "code",
   "execution_count": 14,
   "id": "649501f0",
   "metadata": {},
   "outputs": [],
   "source": [
    "    import math\n",
    "    def containsDuplicate(nums):\n",
    "        def mergingArray(arr1,arr2):\n",
    "            i=0;\n",
    "            j=0;\n",
    "            visited = []\n",
    "            while((i<len(arr1)) | (j<len(arr2)) ):\n",
    "                if(i>=len(arr1)):\n",
    "                    visited.append(arr2[j])\n",
    "                    j+=1\n",
    "                    continue\n",
    "                if(j>=len(arr2)):\n",
    "                    visited.append(arr1[i])\n",
    "                    i+=1\n",
    "                    continue\n",
    "                if(arr1[i]<=arr2[j]):\n",
    "                    visited.append(arr1[i])\n",
    "                    i+=1;\n",
    "                    continue;\n",
    "                if(arr2[j] <= arr1[i]):\n",
    "                    visited.append(arr2[j])\n",
    "                    j+=1\n",
    "                    continue;\n",
    "            return visited\n",
    "        \n",
    "        def mergeSort(arr):\n",
    "            if(len(arr) == 1):\n",
    "                return arr\n",
    "            middle = math.floor(len(arr)/2)\n",
    "            firstarray = mergeSort(arr[:middle])\n",
    "            secondarray = mergeSort(arr[middle:])\n",
    "            return mergingArray(firstarray,secondarray)\n",
    "        nums = mergeSort(nums)\n",
    "        for i in range(0,len(nums)-1):\n",
    "            if(nums[i] == nums[i+1]):\n",
    "                return True\n",
    "        return False\n",
    "    "
   ]
  },
  {
   "cell_type": "code",
   "execution_count": 15,
   "id": "260aa070",
   "metadata": {},
   "outputs": [
    {
     "data": {
      "text/plain": [
       "False"
      ]
     },
     "execution_count": 15,
     "metadata": {},
     "output_type": "execute_result"
    }
   ],
   "source": [
    "containsDuplicate([1,2,3,4])"
   ]
  },
  {
   "cell_type": "code",
   "execution_count": 3,
   "id": "d139db28",
   "metadata": {},
   "outputs": [],
   "source": [
    "def merge(nums1, m, nums2, n):\n",
    "        \"\"\"\n",
    "        Do not return anything, modify nums1 in-place instead.\n",
    "        \"\"\"\n",
    "        if(m ==0):\n",
    "            nums1 = []\n",
    "        if(n==0):\n",
    "            nums2 = []\n",
    "        if(len(nums1) == m):\n",
    "            True;\n",
    "        else:\n",
    "            nums1 = nums1[:m]\n",
    "        if(len(nums2) == n):\n",
    "            True;\n",
    "        else:\n",
    "            nums2=nums2[:n]\n",
    "        print(nums1)\n",
    "        print(nums2)\n",
    "        return mergingTwoArray(nums1,nums2)\n",
    "def mergingTwoArray(nums1,nums2):\n",
    "    visited = []\n",
    "    i=0\n",
    "    j=0\n",
    "    while( (i<len(nums1)) | (j<len(nums2)) ):\n",
    "        if(i>=len(nums1)):\n",
    "            visited.append(nums2[j])\n",
    "            j+=1\n",
    "            continue;\n",
    "        if(j>=len(nums2)):\n",
    "            visited.append(nums1[i])\n",
    "            i+=1;\n",
    "            continue;\n",
    "        if(nums1[i]>=nums2[j]):\n",
    "            visited.append(nums2[j])\n",
    "            j+=1;\n",
    "            continue;\n",
    "        else:\n",
    "            visited.append(nums1[i])\n",
    "            i+=1\n",
    "            continue;\n",
    "    return visited"
   ]
  },
  {
   "cell_type": "code",
   "execution_count": 5,
   "id": "af8fcb2c",
   "metadata": {},
   "outputs": [
    {
     "name": "stdout",
     "output_type": "stream",
     "text": [
      "[1]\n",
      "[]\n"
     ]
    },
    {
     "data": {
      "text/plain": [
       "[1]"
      ]
     },
     "execution_count": 5,
     "metadata": {},
     "output_type": "execute_result"
    }
   ],
   "source": [
    "merge([1],1,[],0)"
   ]
  },
  {
   "cell_type": "code",
   "execution_count": 7,
   "id": "37128b0c",
   "metadata": {},
   "outputs": [
    {
     "data": {
      "text/plain": [
       "[1, 5, 7, 8, 10, 12]"
      ]
     },
     "execution_count": 7,
     "metadata": {},
     "output_type": "execute_result"
    }
   ],
   "source": [
    "mergingArray([1,5,10,12],[7,8])"
   ]
  },
  {
   "cell_type": "code",
   "execution_count": 9,
   "id": "ada942fe",
   "metadata": {},
   "outputs": [],
   "source": [
    "def mergeSort(arr):\n",
    "    if(len(arr) == 1):\n",
    "        return arr\n",
    "    middle = math.floor(len(arr)/2)\n",
    "    firstarray = mergeSort(arr[:middle])\n",
    "    secondarray = mergeSort(arr[middle:])\n",
    "    return mergingArray(firstarray,secondarray)"
   ]
  },
  {
   "cell_type": "code",
   "execution_count": 10,
   "id": "58b5b834",
   "metadata": {},
   "outputs": [
    {
     "data": {
      "text/plain": [
       "[1, 3, 5, 5, 7, 8, 9, 10]"
      ]
     },
     "execution_count": 10,
     "metadata": {},
     "output_type": "execute_result"
    }
   ],
   "source": [
    "mergeSort([10,9,5,8,1,3,5,7])"
   ]
  },
  {
   "cell_type": "code",
   "execution_count": 11,
   "id": "08ba8c59",
   "metadata": {},
   "outputs": [
    {
     "data": {
      "text/plain": [
       "[1, 2, 3, 4, 5, 6, 7, 8]"
      ]
     },
     "execution_count": 11,
     "metadata": {},
     "output_type": "execute_result"
    }
   ],
   "source": [
    "mergeSort([8,3,5,4,7,6,1,2])"
   ]
  },
  {
   "cell_type": "markdown",
   "id": "825d69f9",
   "metadata": {},
   "source": [
    "# Quick SOrt"
   ]
  },
  {
   "cell_type": "code",
   "execution_count": 25,
   "id": "5456bc90",
   "metadata": {},
   "outputs": [],
   "source": [
    "def quickSort(arr):\n",
    "    quickSortHelper(arr,0,len(arr)-1)\n",
    "    return arr\n",
    "\n",
    "def quickSortHelper(arr,first,last):\n",
    "    if first < last:\n",
    "        splitPoint = partition(arr,first,last)\n",
    "        quickSortHelper(arr,first,splitPoint-1)\n",
    "        quickSortHelper(arr,splitPoint+1,last)\n",
    "\n",
    "def partition(arr,first,last):\n",
    "    pivot = arr[first]\n",
    "    left = first+1\n",
    "    right = last\n",
    "    done = False\n",
    "    while not done:\n",
    "        while left<=right and arr[left]<=pivot:\n",
    "            left=left+1;\n",
    "        while right>=left and arr[right]>=pivot:\n",
    "            right = right-1\n",
    "        if right < left:\n",
    "            done = True\n",
    "        else:\n",
    "            arr[left],arr[right] = arr[right],arr[left]\n",
    "    arr[first],arr[right] = arr[right],arr[first]\n",
    "    return right\n",
    "        "
   ]
  },
  {
   "cell_type": "code",
   "execution_count": 27,
   "id": "702895b5",
   "metadata": {
    "scrolled": false
   },
   "outputs": [
    {
     "data": {
      "text/plain": [
       "[1, 2, 5, 6, 7, 7, 9, 10, 15]"
      ]
     },
     "execution_count": 27,
     "metadata": {},
     "output_type": "execute_result"
    }
   ],
   "source": [
    "quickSort([7,6,10,15,9,2,1,5,7])"
   ]
  },
  {
   "cell_type": "markdown",
   "id": "0483a253",
   "metadata": {},
   "source": [
    "# LinkList"
   ]
  },
  {
   "cell_type": "code",
   "execution_count": 4,
   "id": "2cf27c8f",
   "metadata": {},
   "outputs": [],
   "source": [
    "class Node:\n",
    "    def __init__(self,value):\n",
    "        self.value = value\n",
    "        self.next = None"
   ]
  },
  {
   "cell_type": "code",
   "execution_count": 23,
   "id": "f683b40c",
   "metadata": {},
   "outputs": [],
   "source": [
    "class LinkList:\n",
    "    def __init__(self):\n",
    "        self.head = None\n",
    "        self.tail = None\n",
    "        self.length = 0\n",
    "    def insert(self,value):\n",
    "        self.length += 1\n",
    "        newNode = Node(value)\n",
    "        if(self.head == None):\n",
    "            self.head = newNode\n",
    "            self.tail = self.head\n",
    "        else:\n",
    "            self.tail.next = newNode\n",
    "            self.tail = newNode\n",
    "    def remove(self):\n",
    "        if(self.head == None):\n",
    "            return None\n",
    "        else:\n",
    "            current = self.head\n",
    "            while(current.next != None):\n",
    "                newTail = current\n",
    "                current = current.next\n",
    "            self.tail = newTail\n",
    "            self.length -= 1\n",
    "    def shift(self):\n",
    "        if(self.head == None):\n",
    "            return None\n",
    "        else:\n",
    "            newHead = self.head.next\n",
    "            self.head = newHead\n",
    "            self.length -= 1\n",
    "    def unshift(self,value):\n",
    "        if(self.head == None):\n",
    "            return None\n",
    "        else:\n",
    "            newNode = Node(value)\n",
    "            previousHead = self.head\n",
    "            self.head = newNode\n",
    "            self.head.next = previousHead\n",
    "            self.length += 1\n",
    "    def get(self,val):\n",
    "        if(self.head == None):\n",
    "            return None\n",
    "        count = 1\n",
    "        current = self.head\n",
    "        while(current.next != None):\n",
    "            if(count == val):\n",
    "                return current.value\n",
    "            else:\n",
    "                count += 1\n",
    "                current = current.next\n",
    "        if(count == val):\n",
    "            return current.value\n",
    "        else:\n",
    "            return False\n",
    "    def insertAnyPosition(self,index,val):\n",
    "        newNode = Node(val)\n",
    "        if(self.head == None):\n",
    "            return None\n",
    "        count = 0;\n",
    "        prev = None\n",
    "        current = self.head\n",
    "        \n",
    "        if(index == 0):\n",
    "            self.head = newNode\n",
    "            self.head.next = current\n",
    "            self.length += 1\n",
    "            return\n",
    "        while(count != index):\n",
    "            count += 1\n",
    "            prev = current\n",
    "            current = current.next\n",
    "        prev.next = newNode\n",
    "        newNode.next = current\n",
    "        self.length += 1\n",
    "    def reverse(self):\n",
    "        prev = None\n",
    "        current = self.head\n",
    "        while(current != None):\n",
    "            nextNode = current.next\n",
    "            current.next = prev\n",
    "            prev = current\n",
    "            current = nextNode\n",
    "        self.head = prev\n",
    "    def print(self):\n",
    "        visited = []\n",
    "        current = self.head\n",
    "        while(current.next != None):\n",
    "            visited.append(current.value)\n",
    "            current = current.next\n",
    "        visited.append(current.value)\n",
    "        return visited"
   ]
  },
  {
   "cell_type": "code",
   "execution_count": 24,
   "id": "f5979e65",
   "metadata": {},
   "outputs": [],
   "source": [
    "linklist = LinkList()"
   ]
  },
  {
   "cell_type": "code",
   "execution_count": 25,
   "id": "990c33a2",
   "metadata": {},
   "outputs": [],
   "source": [
    "linklist.insert(2)\n",
    "linklist.insert(5)\n",
    "linklist.insert(10)\n",
    "linklist.insert(15)"
   ]
  },
  {
   "cell_type": "code",
   "execution_count": 26,
   "id": "ef24c8fe",
   "metadata": {},
   "outputs": [
    {
     "data": {
      "text/plain": [
       "[2, 5, 10, 15]"
      ]
     },
     "execution_count": 26,
     "metadata": {},
     "output_type": "execute_result"
    }
   ],
   "source": [
    "linklist.print()"
   ]
  },
  {
   "cell_type": "code",
   "execution_count": 27,
   "id": "a6934187",
   "metadata": {},
   "outputs": [],
   "source": [
    "linklist.reverse()"
   ]
  },
  {
   "cell_type": "code",
   "execution_count": 28,
   "id": "915018f6",
   "metadata": {},
   "outputs": [
    {
     "data": {
      "text/plain": [
       "[15, 10, 5, 2]"
      ]
     },
     "execution_count": 28,
     "metadata": {},
     "output_type": "execute_result"
    }
   ],
   "source": [
    "linklist.print()"
   ]
  },
  {
   "cell_type": "code",
   "execution_count": 12,
   "id": "e73f3faf",
   "metadata": {},
   "outputs": [],
   "source": [
    "linklist.insertAnyPosition(2,20)"
   ]
  },
  {
   "cell_type": "code",
   "execution_count": 15,
   "id": "fb0e87b0",
   "metadata": {},
   "outputs": [
    {
     "data": {
      "text/plain": [
       "10"
      ]
     },
     "execution_count": 15,
     "metadata": {},
     "output_type": "execute_result"
    }
   ],
   "source": [
    "linklist.head.next.next.next.value"
   ]
  },
  {
   "cell_type": "code",
   "execution_count": 16,
   "id": "0b3e2cce",
   "metadata": {},
   "outputs": [],
   "source": [
    "linklist.insertAnyPosition(0,1)"
   ]
  },
  {
   "cell_type": "code",
   "execution_count": 18,
   "id": "21423751",
   "metadata": {},
   "outputs": [
    {
     "data": {
      "text/plain": [
       "2"
      ]
     },
     "execution_count": 18,
     "metadata": {},
     "output_type": "execute_result"
    }
   ],
   "source": [
    "linklist.head.next.value"
   ]
  },
  {
   "cell_type": "code",
   "execution_count": null,
   "id": "570feaae",
   "metadata": {},
   "outputs": [],
   "source": []
  },
  {
   "cell_type": "code",
   "execution_count": 87,
   "id": "aa0d8945",
   "metadata": {},
   "outputs": [
    {
     "data": {
      "text/plain": [
       "2"
      ]
     },
     "execution_count": 87,
     "metadata": {},
     "output_type": "execute_result"
    }
   ],
   "source": [
    "linklist.get(1)"
   ]
  },
  {
   "cell_type": "code",
   "execution_count": 73,
   "id": "d6be6176",
   "metadata": {},
   "outputs": [],
   "source": [
    "linklist.unshift(1)"
   ]
  },
  {
   "cell_type": "code",
   "execution_count": 75,
   "id": "04446f53",
   "metadata": {},
   "outputs": [
    {
     "data": {
      "text/plain": [
       "1"
      ]
     },
     "execution_count": 75,
     "metadata": {},
     "output_type": "execute_result"
    }
   ],
   "source": [
    "linklist.head.value"
   ]
  },
  {
   "cell_type": "code",
   "execution_count": 76,
   "id": "cecd37ed",
   "metadata": {},
   "outputs": [
    {
     "data": {
      "text/plain": [
       "2"
      ]
     },
     "execution_count": 76,
     "metadata": {},
     "output_type": "execute_result"
    }
   ],
   "source": [
    "linklist.head.next.value"
   ]
  },
  {
   "cell_type": "code",
   "execution_count": 77,
   "id": "59ddfac4",
   "metadata": {},
   "outputs": [
    {
     "data": {
      "text/plain": [
       "5"
      ]
     },
     "execution_count": 77,
     "metadata": {},
     "output_type": "execute_result"
    }
   ],
   "source": [
    "linklist.length"
   ]
  },
  {
   "cell_type": "code",
   "execution_count": null,
   "id": "64d60c75",
   "metadata": {},
   "outputs": [],
   "source": []
  },
  {
   "cell_type": "code",
   "execution_count": 61,
   "id": "b14c1c8a",
   "metadata": {},
   "outputs": [
    {
     "data": {
      "text/plain": [
       "15"
      ]
     },
     "execution_count": 61,
     "metadata": {},
     "output_type": "execute_result"
    }
   ],
   "source": [
    "linklist.tail.value"
   ]
  },
  {
   "cell_type": "code",
   "execution_count": 62,
   "id": "ec84e1de",
   "metadata": {},
   "outputs": [
    {
     "data": {
      "text/plain": [
       "4"
      ]
     },
     "execution_count": 62,
     "metadata": {},
     "output_type": "execute_result"
    }
   ],
   "source": [
    "linklist.length"
   ]
  },
  {
   "cell_type": "code",
   "execution_count": 63,
   "id": "f92719b5",
   "metadata": {},
   "outputs": [],
   "source": [
    "linklist.remove()"
   ]
  },
  {
   "cell_type": "code",
   "execution_count": 64,
   "id": "18bbe593",
   "metadata": {},
   "outputs": [
    {
     "data": {
      "text/plain": [
       "10"
      ]
     },
     "execution_count": 64,
     "metadata": {},
     "output_type": "execute_result"
    }
   ],
   "source": [
    "linklist.tail.value"
   ]
  },
  {
   "cell_type": "code",
   "execution_count": 65,
   "id": "e83ed157",
   "metadata": {},
   "outputs": [
    {
     "data": {
      "text/plain": [
       "3"
      ]
     },
     "execution_count": 65,
     "metadata": {},
     "output_type": "execute_result"
    }
   ],
   "source": [
    "linklist.length"
   ]
  },
  {
   "cell_type": "code",
   "execution_count": 66,
   "id": "58f2453e",
   "metadata": {},
   "outputs": [],
   "source": [
    "linklist.shift()"
   ]
  },
  {
   "cell_type": "code",
   "execution_count": 68,
   "id": "bdc001a1",
   "metadata": {},
   "outputs": [
    {
     "data": {
      "text/plain": [
       "5"
      ]
     },
     "execution_count": 68,
     "metadata": {},
     "output_type": "execute_result"
    }
   ],
   "source": [
    "linklist.head.value"
   ]
  },
  {
   "cell_type": "code",
   "execution_count": 69,
   "id": "bfb39528",
   "metadata": {},
   "outputs": [
    {
     "data": {
      "text/plain": [
       "2"
      ]
     },
     "execution_count": 69,
     "metadata": {},
     "output_type": "execute_result"
    }
   ],
   "source": [
    "linklist.length"
   ]
  },
  {
   "cell_type": "markdown",
   "id": "5b990ebc",
   "metadata": {},
   "source": [
    "# Double LinkList"
   ]
  },
  {
   "cell_type": "code",
   "execution_count": 29,
   "id": "333cd148",
   "metadata": {},
   "outputs": [],
   "source": [
    "class Node:\n",
    "    def __init__(self,value):\n",
    "        self.value = value\n",
    "        self.prev = None\n",
    "        self.next = None"
   ]
  },
  {
   "cell_type": "code",
   "execution_count": 53,
   "id": "d5fe4755",
   "metadata": {},
   "outputs": [],
   "source": [
    "class DoubleLinkList:\n",
    "    def __init__(self):\n",
    "        self.length = 0\n",
    "        self.head = None\n",
    "        self.tail = None\n",
    "    def insert(self,value):\n",
    "        newNode = Node(value)\n",
    "        if(self.head == None):\n",
    "            self.head = newNode\n",
    "            self.tail = self.head\n",
    "        else:\n",
    "            self.tail.next = newNode\n",
    "            newNode.prev = self.tail\n",
    "            self.tail = newNode\n",
    "        self.length += 1\n",
    "    def pop(self):\n",
    "        current = self.head\n",
    "        if(self.head == None):\n",
    "            return None\n",
    "        while(current.next != None):\n",
    "            newTail = current\n",
    "            current = current.next\n",
    "        self.tail = newTail\n",
    "        self.tail.next = None\n",
    "        "
   ]
  },
  {
   "cell_type": "code",
   "execution_count": 54,
   "id": "8c6609c9",
   "metadata": {},
   "outputs": [],
   "source": [
    "doubleLinkList = DoubleLinkList()\n",
    "doubleLinkList.insert(2)\n",
    "doubleLinkList.insert(5)\n",
    "doubleLinkList.insert(10)"
   ]
  },
  {
   "cell_type": "code",
   "execution_count": 55,
   "id": "2a88c31a",
   "metadata": {},
   "outputs": [
    {
     "data": {
      "text/plain": [
       "5"
      ]
     },
     "execution_count": 55,
     "metadata": {},
     "output_type": "execute_result"
    }
   ],
   "source": [
    "doubleLinkList.tail.prev.value"
   ]
  },
  {
   "cell_type": "code",
   "execution_count": 56,
   "id": "231d1503",
   "metadata": {},
   "outputs": [],
   "source": [
    "doubleLinkList.pop()"
   ]
  },
  {
   "cell_type": "code",
   "execution_count": 57,
   "id": "48d6936a",
   "metadata": {},
   "outputs": [
    {
     "data": {
      "text/plain": [
       "5"
      ]
     },
     "execution_count": 57,
     "metadata": {},
     "output_type": "execute_result"
    }
   ],
   "source": [
    "doubleLinkList.tail.value"
   ]
  },
  {
   "cell_type": "code",
   "execution_count": 58,
   "id": "2de1ffc4",
   "metadata": {},
   "outputs": [
    {
     "data": {
      "text/plain": [
       "2"
      ]
     },
     "execution_count": 58,
     "metadata": {},
     "output_type": "execute_result"
    }
   ],
   "source": [
    "doubleLinkList.tail.prev.value"
   ]
  },
  {
   "cell_type": "code",
   "execution_count": 64,
   "id": "c7bbe053",
   "metadata": {},
   "outputs": [],
   "source": [
    "class Stack:\n",
    "    def __init__(self):\n",
    "        self.items = []\n",
    "    def insert(self,val):\n",
    "        self.items.append(val)\n",
    "        return self.items\n",
    "    def popItems(self):\n",
    "        self.items.pop()\n",
    "        return self.items\n",
    "    "
   ]
  },
  {
   "cell_type": "code",
   "execution_count": 65,
   "id": "45891176",
   "metadata": {},
   "outputs": [],
   "source": [
    "st = Stack()"
   ]
  },
  {
   "cell_type": "code",
   "execution_count": 66,
   "id": "f00e7097",
   "metadata": {},
   "outputs": [
    {
     "data": {
      "text/plain": [
       "[2, 5, 10]"
      ]
     },
     "execution_count": 66,
     "metadata": {},
     "output_type": "execute_result"
    }
   ],
   "source": [
    "st.insert(2)\n",
    "st.insert(5)\n",
    "st.insert(10)"
   ]
  },
  {
   "cell_type": "code",
   "execution_count": 68,
   "id": "dbeb1337",
   "metadata": {},
   "outputs": [
    {
     "data": {
      "text/plain": [
       "[2, 5]"
      ]
     },
     "execution_count": 68,
     "metadata": {},
     "output_type": "execute_result"
    }
   ],
   "source": [
    "st.popItems()"
   ]
  },
  {
   "cell_type": "code",
   "execution_count": 69,
   "id": "92acdc81",
   "metadata": {},
   "outputs": [],
   "source": [
    "class Queue:\n",
    "    def __init__(self):\n",
    "        self.items = []\n",
    "    def enqueue(self,val):\n",
    "        self.items.insert(0,val)\n",
    "        return self.items\n",
    "    def dequeue(self):\n",
    "        self.items.pop()\n",
    "        return self.items"
   ]
  },
  {
   "cell_type": "code",
   "execution_count": 71,
   "id": "5a61350b",
   "metadata": {},
   "outputs": [
    {
     "data": {
      "text/plain": [
       "[10, 5, 2]"
      ]
     },
     "execution_count": 71,
     "metadata": {},
     "output_type": "execute_result"
    }
   ],
   "source": [
    "queue = Queue()\n",
    "queue.enqueue(2)\n",
    "queue.enqueue(5)\n",
    "queue.enqueue(10)"
   ]
  },
  {
   "cell_type": "code",
   "execution_count": 72,
   "id": "88226913",
   "metadata": {},
   "outputs": [
    {
     "data": {
      "text/plain": [
       "[10, 5]"
      ]
     },
     "execution_count": 72,
     "metadata": {},
     "output_type": "execute_result"
    }
   ],
   "source": [
    "queue.dequeue()"
   ]
  },
  {
   "cell_type": "code",
   "execution_count": 2,
   "id": "363c4b35",
   "metadata": {},
   "outputs": [],
   "source": [
    "class Node:\n",
    "    def __init__(self,value):\n",
    "        self.value = value\n",
    "        self.left = None\n",
    "        self.right = None"
   ]
  },
  {
   "cell_type": "code",
   "execution_count": 4,
   "id": "ab46b98b",
   "metadata": {},
   "outputs": [],
   "source": [
    "class BinaryTree:\n",
    "    def __init__(self):\n",
    "        self.root = None\n",
    "    def insert(self,value):\n",
    "        newNode = Node(value)\n",
    "        if(self.root == None):\n",
    "            self.root = newNode\n",
    "            return\n",
    "        current = self.root\n",
    "        while(True):\n",
    "            if(value < current.value):\n",
    "                if(current.left == None):\n",
    "                    current.left = newNode\n",
    "                    return\n",
    "                current = current.left\n",
    "                continue\n",
    "            else:\n",
    "                if(current.right == None):\n",
    "                    current.right = newNode\n",
    "                    return\n",
    "                current= current.right\n",
    "                continue\n",
    "            "
   ]
  },
  {
   "cell_type": "code",
   "execution_count": 12,
   "id": "596e12dc",
   "metadata": {},
   "outputs": [],
   "source": [
    "bt = BinaryTree()\n",
    "bt.insert(35)\n",
    "bt.insert(30)\n",
    "bt.insert(40)\n",
    "bt.insert(20)\n",
    "bt.insert(31)\n",
    "bt.insert(39)\n",
    "bt.insert(45)"
   ]
  },
  {
   "cell_type": "code",
   "execution_count": 13,
   "id": "a8779161",
   "metadata": {},
   "outputs": [
    {
     "data": {
      "text/plain": [
       "45"
      ]
     },
     "execution_count": 13,
     "metadata": {},
     "output_type": "execute_result"
    }
   ],
   "source": [
    "bt.root.right.right.value"
   ]
  },
  {
   "cell_type": "code",
   "execution_count": 11,
   "id": "30e5ab4b",
   "metadata": {},
   "outputs": [],
   "source": [
    "class Vertex:\n",
    "    def __init__(self,key):\n",
    "        self.id = key\n",
    "        self.connectedTo = {}\n",
    "    def addNeighbour(self,value,weight):\n",
    "        self.connectedTo[value] = weight\n",
    "    \n",
    "    def __str__(self):\n",
    "        return str(self.id) + ' connectedTo: ' + str([x.id for x in self.connectedTo])\n",
    "\n",
    "    def getConnections(self):\n",
    "        return self.connectedTo.keys()\n",
    "\n",
    "    def getId(self):\n",
    "        return self.id\n",
    "\n",
    "    def getWeight(self,nbr):\n",
    "        return self.connectedTo[nbr]"
   ]
  },
  {
   "cell_type": "code",
   "execution_count": 12,
   "id": "c0d1778a",
   "metadata": {},
   "outputs": [],
   "source": [
    "class Graph:\n",
    "    def __init__(self):\n",
    "        self.verticesList = {}\n",
    "        self.numOfVertices = 0\n",
    "    def addVertex(self,value):\n",
    "        newVertex = Vertex(value)\n",
    "        self.verticesList[value]=newVertex\n",
    "        self.numOfVertices += 1\n",
    "        return newVertex\n",
    "     \n",
    "    def getVertex(self,n):\n",
    "        if n in self.vertList:\n",
    "            return self.vertList[n]\n",
    "        else:\n",
    "            return None\n",
    "    \n",
    "    def __contains__(self,n):\n",
    "        return n in self.vertList\n",
    "    \n",
    "    def addEdge(self,f,t,wg=0):\n",
    "        if f not in self.verticesList:\n",
    "            nv = self.addVertex(f)\n",
    "        if t not in self.verticesList:\n",
    "            nv = self.addVertex(t)\n",
    "        self.verticesList[f].addNeighbour(t,wg)\n",
    "    \n",
    "    def getVertices(self):\n",
    "        return self.vertList.keys()\n",
    "\n",
    "    def __iter__(self):\n",
    "        return iter(self.vertList.values())"
   ]
  },
  {
   "cell_type": "code",
   "execution_count": 13,
   "id": "03ba495d",
   "metadata": {},
   "outputs": [
    {
     "data": {
      "text/plain": [
       "<__main__.Vertex at 0x1c7232921f0>"
      ]
     },
     "execution_count": 13,
     "metadata": {},
     "output_type": "execute_result"
    }
   ],
   "source": [
    "g = Graph()\n",
    "g.addVertex('V0')\n",
    "g.addVertex('V1')\n",
    "g.addVertex('V2')\n",
    "g.addVertex('V3')\n",
    "g.addVertex('V4')\n",
    "g.addVertex('V5')"
   ]
  },
  {
   "cell_type": "code",
   "execution_count": 14,
   "id": "d27e66de",
   "metadata": {},
   "outputs": [
    {
     "data": {
      "text/plain": [
       "{}"
      ]
     },
     "execution_count": 14,
     "metadata": {},
     "output_type": "execute_result"
    }
   ],
   "source": [
    "g.verticesList['V0'].connectedTo"
   ]
  },
  {
   "cell_type": "code",
   "execution_count": 15,
   "id": "7b9ac90c",
   "metadata": {},
   "outputs": [],
   "source": [
    "g.addEdge('V0','V1',5)\n",
    "g.addEdge('V0','V5',2)\n",
    "g.addEdge('V1','V2',4)\n",
    "g.addEdge('V2','V3',9)\n",
    "g.addEdge('V3','V4',7)\n",
    "g.addEdge('V3','V5',3)\n",
    "g.addEdge('V4','V0',1)\n",
    "g.addEdge('V5','V2',1)\n",
    "g.addEdge('V5','V4',8)"
   ]
  },
  {
   "cell_type": "code",
   "execution_count": 16,
   "id": "529a2f0a",
   "metadata": {},
   "outputs": [
    {
     "data": {
      "text/plain": [
       "{'V1': 5, 'V5': 2}"
      ]
     },
     "execution_count": 16,
     "metadata": {},
     "output_type": "execute_result"
    }
   ],
   "source": [
    "g.verticesList['V0'].connectedTo"
   ]
  },
  {
   "cell_type": "code",
   "execution_count": 17,
   "id": "a686b3bb",
   "metadata": {},
   "outputs": [
    {
     "data": {
      "text/plain": [
       "{'V2': 4}"
      ]
     },
     "execution_count": 17,
     "metadata": {},
     "output_type": "execute_result"
    }
   ],
   "source": [
    "g.verticesList['V1'].connectedTo"
   ]
  },
  {
   "cell_type": "code",
   "execution_count": 26,
   "id": "a1dc66af",
   "metadata": {},
   "outputs": [
    {
     "name": "stdout",
     "output_type": "stream",
     "text": [
      "V0 connected to {'V1': 5, 'V5': 2}\n",
      "V1 connected to {'V2': 4}\n",
      "V2 connected to {'V3': 9}\n",
      "V3 connected to {'V4': 7, 'V5': 3}\n",
      "V4 connected to {'V0': 1}\n",
      "V5 connected to {'V2': 1, 'V4': 8}\n"
     ]
    }
   ],
   "source": [
    "for item in g.verticesList:\n",
    "    print(f'{item} connected to {g.verticesList[item].connectedTo}')"
   ]
  },
  {
   "cell_type": "code",
   "execution_count": null,
   "id": "6abdb82a",
   "metadata": {},
   "outputs": [],
   "source": []
  },
  {
   "cell_type": "code",
   "execution_count": 47,
   "id": "e3820d42",
   "metadata": {},
   "outputs": [
    {
     "data": {
      "text/plain": [
       "{1: 1, 2: 2}"
      ]
     },
     "execution_count": 47,
     "metadata": {},
     "output_type": "execute_result"
    }
   ],
   "source": [
    "arra = {}\n",
    "arra[1]=1\n",
    "arra[2]=2\n",
    "arra"
   ]
  },
  {
   "cell_type": "code",
   "execution_count": 48,
   "id": "606b631d",
   "metadata": {},
   "outputs": [
    {
     "data": {
      "text/plain": [
       "True"
      ]
     },
     "execution_count": 48,
     "metadata": {},
     "output_type": "execute_result"
    }
   ],
   "source": [
    "1 in arra"
   ]
  },
  {
   "cell_type": "code",
   "execution_count": null,
   "id": "7174e3e3",
   "metadata": {},
   "outputs": [],
   "source": []
  },
  {
   "cell_type": "markdown",
   "id": "32bd8bb9",
   "metadata": {},
   "source": [
    "# Memoization"
   ]
  },
  {
   "cell_type": "code",
   "execution_count": 49,
   "id": "0821eae3",
   "metadata": {},
   "outputs": [],
   "source": [
    "def fibonaciWihtMemo(n,memo={}):\n",
    "    if(n in memo):\n",
    "        return memo[n]\n",
    "    if(n<=2):\n",
    "        return 1\n",
    "    result = fibonaciWihtMemo(n-1,memo) + fibonaciWihtMemo(n-2,memo)\n",
    "    memo[n] = result\n",
    "    print(memo)\n",
    "    return result"
   ]
  },
  {
   "cell_type": "code",
   "execution_count": 50,
   "id": "c5fb5077",
   "metadata": {},
   "outputs": [
    {
     "name": "stdout",
     "output_type": "stream",
     "text": [
      "{3: 2}\n",
      "{3: 2, 4: 3}\n",
      "{3: 2, 4: 3, 5: 5}\n"
     ]
    },
    {
     "data": {
      "text/plain": [
       "5"
      ]
     },
     "execution_count": 50,
     "metadata": {},
     "output_type": "execute_result"
    }
   ],
   "source": [
    "fibonaciWihtMemo(5)"
   ]
  },
  {
   "cell_type": "code",
   "execution_count": null,
   "id": "bd26c719",
   "metadata": {},
   "outputs": [],
   "source": []
  },
  {
   "cell_type": "code",
   "execution_count": null,
   "id": "1f50075f",
   "metadata": {},
   "outputs": [],
   "source": []
  },
  {
   "cell_type": "code",
   "execution_count": null,
   "id": "c0e62912",
   "metadata": {},
   "outputs": [],
   "source": []
  },
  {
   "cell_type": "code",
   "execution_count": null,
   "id": "cf9a9687",
   "metadata": {},
   "outputs": [],
   "source": []
  },
  {
   "cell_type": "code",
   "execution_count": null,
   "id": "f5f98c5a",
   "metadata": {},
   "outputs": [],
   "source": []
  },
  {
   "cell_type": "code",
   "execution_count": null,
   "id": "99d05374",
   "metadata": {},
   "outputs": [],
   "source": []
  },
  {
   "cell_type": "code",
   "execution_count": 6,
   "id": "293cb97a",
   "metadata": {},
   "outputs": [
    {
     "name": "stdout",
     "output_type": "stream",
     "text": [
      "2\n"
     ]
    }
   ],
   "source": []
  },
  {
   "cell_type": "code",
   "execution_count": 5,
   "id": "73cea010",
   "metadata": {},
   "outputs": [
    {
     "data": {
      "text/plain": [
       "[0, 1, 0, 1]"
      ]
     },
     "execution_count": 5,
     "metadata": {},
     "output_type": "execute_result"
    }
   ],
   "source": []
  },
  {
   "cell_type": "code",
   "execution_count": null,
   "id": "bc3dab21",
   "metadata": {},
   "outputs": [],
   "source": []
  }
 ],
 "metadata": {
  "kernelspec": {
   "display_name": "Python 3",
   "language": "python",
   "name": "python3"
  },
  "language_info": {
   "codemirror_mode": {
    "name": "ipython",
    "version": 3
   },
   "file_extension": ".py",
   "mimetype": "text/x-python",
   "name": "python",
   "nbconvert_exporter": "python",
   "pygments_lexer": "ipython3",
   "version": "3.8.8"
  }
 },
 "nbformat": 4,
 "nbformat_minor": 5
}
