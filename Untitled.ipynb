{
 "cells": [
  {
   "cell_type": "code",
   "execution_count": 38,
   "id": "69a0ff94",
   "metadata": {},
   "outputs": [
    {
     "ename": "SyntaxError",
     "evalue": "EOL while scanning string literal (<ipython-input-38-4bc41d034e1c>, line 4)",
     "output_type": "error",
     "traceback": [
      "\u001b[1;36m  File \u001b[1;32m\"<ipython-input-38-4bc41d034e1c>\"\u001b[1;36m, line \u001b[1;32m4\u001b[0m\n\u001b[1;33m    if w ==  '\u001b[0m\n\u001b[1;37m                ^\u001b[0m\n\u001b[1;31mSyntaxError\u001b[0m\u001b[1;31m:\u001b[0m EOL while scanning string literal\n"
     ]
    }
   ],
   "source": [
    "word = 'clint eastwood'\n",
    "newdict = {}\n",
    "for w in word:\n",
    "    if w ==  ' \n",
    "    if w in newdict:\n",
    "        newdict[w] += 1;\n",
    "    else:\n",
    "        newdict[w] =1\n",
    "    "
   ]
  },
  {
   "cell_type": "code",
   "execution_count": 61,
   "id": "b31cd927",
   "metadata": {},
   "outputs": [],
   "source": [
    "word = 'aa'\n",
    "newdict = {}\n",
    "for w in word:\n",
    "    \n",
    "    if w in newdict:\n",
    "        newdict[w] += 1;\n",
    "    elif w== ' ':\n",
    "        continue\n",
    "    else:\n",
    "        newdict[w] =1"
   ]
  },
  {
   "cell_type": "code",
   "execution_count": 62,
   "id": "749ab298",
   "metadata": {},
   "outputs": [
    {
     "data": {
      "text/plain": [
       "{'a': 2}"
      ]
     },
     "execution_count": 62,
     "metadata": {},
     "output_type": "execute_result"
    }
   ],
   "source": [
    "newdict"
   ]
  },
  {
   "cell_type": "code",
   "execution_count": null,
   "id": "0908ed65",
   "metadata": {},
   "outputs": [],
   "source": []
  },
  {
   "cell_type": "code",
   "execution_count": 63,
   "id": "916affb8",
   "metadata": {},
   "outputs": [],
   "source": [
    "word = 'bb'\n",
    "newdict2 = {}\n",
    "for w in word:\n",
    "    \n",
    "    if w in newdict2:\n",
    "        newdict2[w] += 1;\n",
    "    elif w== ' ':\n",
    "        continue\n",
    "    else:\n",
    "        newdict2[w] =1"
   ]
  },
  {
   "cell_type": "code",
   "execution_count": 42,
   "id": "15f9e289",
   "metadata": {},
   "outputs": [
    {
     "data": {
      "text/plain": [
       "{'o': 2,\n",
       " 'l': 1,\n",
       " 'd': 1,\n",
       " 'w': 1,\n",
       " 'e': 1,\n",
       " 's': 1,\n",
       " 't': 2,\n",
       " 'a': 1,\n",
       " 'c': 1,\n",
       " 'i': 1,\n",
       " 'n': 1}"
      ]
     },
     "execution_count": 42,
     "metadata": {},
     "output_type": "execute_result"
    }
   ],
   "source": [
    "newdict2"
   ]
  },
  {
   "cell_type": "code",
   "execution_count": 64,
   "id": "469d54e8",
   "metadata": {},
   "outputs": [
    {
     "data": {
      "text/plain": [
       "{'b': 2}"
      ]
     },
     "execution_count": 64,
     "metadata": {},
     "output_type": "execute_result"
    }
   ],
   "source": [
    "newdict2"
   ]
  },
  {
   "cell_type": "code",
   "execution_count": 65,
   "id": "599254df",
   "metadata": {},
   "outputs": [
    {
     "data": {
      "text/plain": [
       "1"
      ]
     },
     "execution_count": 65,
     "metadata": {},
     "output_type": "execute_result"
    }
   ],
   "source": [
    "len(newdict2)"
   ]
  },
  {
   "cell_type": "code",
   "execution_count": 66,
   "id": "cf394620",
   "metadata": {},
   "outputs": [
    {
     "data": {
      "text/plain": [
       "1"
      ]
     },
     "execution_count": 66,
     "metadata": {},
     "output_type": "execute_result"
    }
   ],
   "source": [
    "len(newdict)"
   ]
  },
  {
   "cell_type": "code",
   "execution_count": 69,
   "id": "7d328a25",
   "metadata": {},
   "outputs": [
    {
     "name": "stdout",
     "output_type": "stream",
     "text": [
      "False\n"
     ]
    }
   ],
   "source": [
    "for w in newdict:\n",
    "    if w not in newdict2:\n",
    "        print(False)"
   ]
  },
  {
   "cell_type": "code",
   "execution_count": 45,
   "id": "d58adfca",
   "metadata": {},
   "outputs": [
    {
     "name": "stdout",
     "output_type": "stream",
     "text": [
      "c 1\n",
      "l 1\n",
      "i 1\n",
      "n 1\n",
      "t 2\n",
      "e 1\n",
      "a 1\n",
      "s 1\n",
      "w 1\n",
      "o 2\n",
      "d 1\n"
     ]
    }
   ],
   "source": [
    "for w in newdict:\n",
    "    if newdict[w] == newdict2[w]:\n",
    "        print(f'{w} {newdict[w]}')\n",
    "    else:\n",
    "        print(f'Not equal {w} {newdict[w]}')"
   ]
  },
  {
   "cell_type": "code",
   "execution_count": 72,
   "id": "82eeb9f4",
   "metadata": {},
   "outputs": [],
   "source": [
    "def anagram(word1,word2):\n",
    "    newdict = {}\n",
    "    newdict2 = {}\n",
    "    for w in word1:\n",
    "        if w in newdict:\n",
    "            newdict[w] += 1;\n",
    "        elif w== ' ':\n",
    "            continue\n",
    "        else:\n",
    "            newdict[w] =1\n",
    "    for w in word2:\n",
    "        if w in newdict2:\n",
    "            newdict2[w] += 1;\n",
    "        elif w== ' ':\n",
    "            continue\n",
    "        else:\n",
    "            newdict2[w] =1\n",
    "    if(len(newdict) != len(newdict2)):\n",
    "        print(False)\n",
    "    else:\n",
    "        for w in newdict:\n",
    "            if w not in newdict2:\n",
    "                return False\n",
    "            if newdict[w] != newdict2[w]:\n",
    "                return False\n",
    "            if newdict[w] == newdict2[w]:\n",
    "                continue;\n",
    "            else:\n",
    "                return False\n",
    "        return True"
   ]
  },
  {
   "cell_type": "code",
   "execution_count": 74,
   "id": "d83eab59",
   "metadata": {},
   "outputs": [],
   "source": [
    "store = anagram('clint eastwood','old west action')"
   ]
  },
  {
   "cell_type": "code",
   "execution_count": 75,
   "id": "077ff3da",
   "metadata": {},
   "outputs": [
    {
     "data": {
      "text/plain": [
       "True"
      ]
     },
     "execution_count": 75,
     "metadata": {},
     "output_type": "execute_result"
    }
   ],
   "source": [
    "store"
   ]
  },
  {
   "cell_type": "code",
   "execution_count": 90,
   "id": "8356d3ce",
   "metadata": {},
   "outputs": [
    {
     "name": "stdout",
     "output_type": "stream",
     "text": [
      "1 2\n"
     ]
    }
   ],
   "source": [
    "arr = [1,2,3,1]\n",
    "for i in range(len(arr)):\n",
    "    if i == (len(arr)-1):\n",
    "        break;\n",
    "    if(arr[i] +arr[i+1] == 3):\n",
    "        print(arr[i],arr[i+1])\n",
    "        continue"
   ]
  },
  {
   "cell_type": "code",
   "execution_count": 4,
   "id": "e80d3eb8",
   "metadata": {},
   "outputs": [],
   "source": [
    "def findMissingValue(arr1,arr2):\n",
    "    for arr in arr1:\n",
    "        if arr not in arr2:\n",
    "            print(arr)\n",
    "        else:\n",
    "            continue\n",
    "        "
   ]
  },
  {
   "cell_type": "code",
   "execution_count": 6,
   "id": "a57b70ae",
   "metadata": {},
   "outputs": [],
   "source": [
    "findMissingValue([5,5,7,7],[5,7,7])"
   ]
  },
  {
   "cell_type": "code",
   "execution_count": 7,
   "id": "256cd65a",
   "metadata": {},
   "outputs": [],
   "source": [
    "def largestSum(arr):\n",
    "    if len(arr) ==0 :\n",
    "        return 0\n",
    "    max_sum = current_sum = arr[0]\n",
    "    for num in arr[1:]:\n",
    "        current_sum = max(current_sum+num,num)\n",
    "        max_sum = max(current_sum,max_sum)\n",
    "    print(max_sum)"
   ]
  },
  {
   "cell_type": "code",
   "execution_count": 8,
   "id": "491cee9c",
   "metadata": {},
   "outputs": [
    {
     "name": "stdout",
     "output_type": "stream",
     "text": [
      "29\n"
     ]
    }
   ],
   "source": [
    "largestSum([1,2,-1,3,4,10,10,-10,-10,-1])"
   ]
  },
  {
   "cell_type": "code",
   "execution_count": 33,
   "id": "c3d14c42",
   "metadata": {},
   "outputs": [
    {
     "ename": "SyntaxError",
     "evalue": "invalid syntax (<ipython-input-33-f27af8974486>, line 11)",
     "output_type": "error",
     "traceback": [
      "\u001b[1;36m  File \u001b[1;32m\"<ipython-input-33-f27af8974486>\"\u001b[1;36m, line \u001b[1;32m11\u001b[0m\n\u001b[1;33m    value)\u001b[0m\n\u001b[1;37m    ^\u001b[0m\n\u001b[1;31mSyntaxError\u001b[0m\u001b[1;31m:\u001b[0m invalid syntax\n"
     ]
    }
   ],
   "source": [
    "string = 'AAddabac'\n",
    "objectV = {}\n",
    "newstring = []\n",
    "for word in string:\n",
    "    if word in objectV:\n",
    "        objectV[word] +=1\n",
    "    else:\n",
    "        objectV[word] = 1\n",
    "for key,value in objectV.items():\n",
    "    newstring.append(key\n",
    "                     value)\n",
    "print(newstring)"
   ]
  },
  {
   "cell_type": "code",
   "execution_count": 20,
   "id": "5ef2f14a",
   "metadata": {},
   "outputs": [
    {
     "ename": "AttributeError",
     "evalue": "'str' object has no attribute 'append'",
     "output_type": "error",
     "traceback": [
      "\u001b[1;31m---------------------------------------------------------------------------\u001b[0m",
      "\u001b[1;31mAttributeError\u001b[0m                            Traceback (most recent call last)",
      "\u001b[1;32m<ipython-input-20-31a748f28d09>\u001b[0m in \u001b[0;36m<module>\u001b[1;34m\u001b[0m\n\u001b[0;32m      1\u001b[0m \u001b[0mnes\u001b[0m  \u001b[1;33m=\u001b[0m \u001b[1;34m''\u001b[0m\u001b[1;33m\u001b[0m\u001b[1;33m\u001b[0m\u001b[0m\n\u001b[1;32m----> 2\u001b[1;33m \u001b[0mnes\u001b[0m\u001b[1;33m.\u001b[0m\u001b[0mappend\u001b[0m\u001b[1;33m(\u001b[0m\u001b[1;34m'a'\u001b[0m\u001b[1;33m)\u001b[0m\u001b[1;33m\u001b[0m\u001b[1;33m\u001b[0m\u001b[0m\n\u001b[0m",
      "\u001b[1;31mAttributeError\u001b[0m: 'str' object has no attribute 'append'"
     ]
    }
   ],
   "source": [
    "nes  = ''\n",
    "nes.append('a')"
   ]
  },
  {
   "cell_type": "code",
   "execution_count": 16,
   "id": "a4065cc2",
   "metadata": {},
   "outputs": [],
   "source": [
    "class Stack:\n",
    "    def __init__(self):\n",
    "        self.items = []\n",
    "    def isEmpty(self):\n",
    "        return self.items == []\n",
    "    def push(self,items):\n",
    "        self.items.append(items)\n",
    "    def pop(self):\n",
    "        self.items.pop()\n",
    "    def peek(self):\n",
    "        return self.items[len(self.items)-1]\n",
    "    def size(self):\n",
    "        return len(self.items)\n",
    "    "
   ]
  },
  {
   "cell_type": "code",
   "execution_count": 17,
   "id": "ad6c8846",
   "metadata": {},
   "outputs": [],
   "source": [
    "s = Stack()"
   ]
  },
  {
   "cell_type": "code",
   "execution_count": 18,
   "id": "bed38373",
   "metadata": {},
   "outputs": [
    {
     "name": "stdout",
     "output_type": "stream",
     "text": [
      "True\n"
     ]
    }
   ],
   "source": [
    "print(s.isEmpty())"
   ]
  },
  {
   "cell_type": "code",
   "execution_count": 19,
   "id": "996a4f08",
   "metadata": {},
   "outputs": [],
   "source": [
    "s.push('one')"
   ]
  },
  {
   "cell_type": "code",
   "execution_count": 20,
   "id": "0f6ddb33",
   "metadata": {},
   "outputs": [
    {
     "data": {
      "text/plain": [
       "'one'"
      ]
     },
     "execution_count": 20,
     "metadata": {},
     "output_type": "execute_result"
    }
   ],
   "source": [
    "s.peek()"
   ]
  },
  {
   "cell_type": "code",
   "execution_count": 21,
   "id": "f456e5bd",
   "metadata": {},
   "outputs": [],
   "source": [
    "s.push('Two')"
   ]
  },
  {
   "cell_type": "code",
   "execution_count": 22,
   "id": "57fe8b9b",
   "metadata": {},
   "outputs": [
    {
     "data": {
      "text/plain": [
       "2"
      ]
     },
     "execution_count": 22,
     "metadata": {},
     "output_type": "execute_result"
    }
   ],
   "source": [
    "s.size()"
   ]
  },
  {
   "cell_type": "code",
   "execution_count": 23,
   "id": "273e6d6f",
   "metadata": {},
   "outputs": [],
   "source": [
    "s.push('Three')"
   ]
  },
  {
   "cell_type": "code",
   "execution_count": 24,
   "id": "d91827ee",
   "metadata": {},
   "outputs": [
    {
     "data": {
      "text/plain": [
       "3"
      ]
     },
     "execution_count": 24,
     "metadata": {},
     "output_type": "execute_result"
    }
   ],
   "source": [
    "s.size()"
   ]
  },
  {
   "cell_type": "code",
   "execution_count": 25,
   "id": "b995bb64",
   "metadata": {},
   "outputs": [],
   "source": [
    "s.pop()"
   ]
  },
  {
   "cell_type": "code",
   "execution_count": 26,
   "id": "65992677",
   "metadata": {},
   "outputs": [
    {
     "data": {
      "text/plain": [
       "'Two'"
      ]
     },
     "execution_count": 26,
     "metadata": {},
     "output_type": "execute_result"
    }
   ],
   "source": [
    "s.peek()"
   ]
  },
  {
   "cell_type": "code",
   "execution_count": 27,
   "id": "2c8d2fb4",
   "metadata": {},
   "outputs": [
    {
     "data": {
      "text/plain": [
       "2"
      ]
     },
     "execution_count": 27,
     "metadata": {},
     "output_type": "execute_result"
    }
   ],
   "source": [
    "s.size()"
   ]
  },
  {
   "cell_type": "code",
   "execution_count": 28,
   "id": "0035db43",
   "metadata": {},
   "outputs": [],
   "source": [
    "class Queue:\n",
    "    def __init__(self):\n",
    "        self.items = []\n",
    "    def isEmpty(self):\n",
    "        return self.items == []\n",
    "    def enqueue(self,items):\n",
    "        self.items.insert(0,items)\n",
    "    def dequeue(self):\n",
    "        self.items.pop()\n",
    "    def size(self):\n",
    "        return len(self.items)"
   ]
  },
  {
   "cell_type": "code",
   "execution_count": 29,
   "id": "65fdee0a",
   "metadata": {},
   "outputs": [],
   "source": [
    "q = Queue()"
   ]
  },
  {
   "cell_type": "code",
   "execution_count": 30,
   "id": "0e044e4b",
   "metadata": {},
   "outputs": [
    {
     "data": {
      "text/plain": [
       "True"
      ]
     },
     "execution_count": 30,
     "metadata": {},
     "output_type": "execute_result"
    }
   ],
   "source": [
    "q.isEmpty()"
   ]
  },
  {
   "cell_type": "code",
   "execution_count": 31,
   "id": "9653d6cf",
   "metadata": {},
   "outputs": [],
   "source": [
    "q.enqueue('Mehedi')"
   ]
  },
  {
   "cell_type": "code",
   "execution_count": 32,
   "id": "96ec60cd",
   "metadata": {},
   "outputs": [],
   "source": [
    "q.enqueue('Hasan')"
   ]
  },
  {
   "cell_type": "code",
   "execution_count": 33,
   "id": "83dc9fac",
   "metadata": {},
   "outputs": [],
   "source": [
    "q.enqueue('one')"
   ]
  },
  {
   "cell_type": "code",
   "execution_count": 34,
   "id": "52cb10c6",
   "metadata": {},
   "outputs": [
    {
     "data": {
      "text/plain": [
       "3"
      ]
     },
     "execution_count": 34,
     "metadata": {},
     "output_type": "execute_result"
    }
   ],
   "source": [
    "q.size()"
   ]
  },
  {
   "cell_type": "code",
   "execution_count": 35,
   "id": "aa3903dc",
   "metadata": {},
   "outputs": [],
   "source": [
    "q.dequeue()"
   ]
  },
  {
   "cell_type": "code",
   "execution_count": 36,
   "id": "b953771f",
   "metadata": {},
   "outputs": [
    {
     "data": {
      "text/plain": [
       "2"
      ]
     },
     "execution_count": 36,
     "metadata": {},
     "output_type": "execute_result"
    }
   ],
   "source": [
    "q.size()"
   ]
  },
  {
   "cell_type": "code",
   "execution_count": 37,
   "id": "17b8dc86",
   "metadata": {},
   "outputs": [],
   "source": [
    "class Dequeue:\n",
    "    def __init__(self):\n",
    "        self.items = []\n",
    "    def isEmpty(self):\n",
    "        return self.items == []\n",
    "    def addFont(self,item):\n",
    "        self.items.insert(0,item)\n",
    "    def addRear(self,item):\n",
    "        self.items.append(item)\n",
    "    def removeFont(self):\n",
    "        self.items.pop()\n",
    "    def removeEnd(self):\n",
    "        self.items.pop(0)\n",
    "    def size(self):\n",
    "        return len(self.items)"
   ]
  },
  {
   "cell_type": "code",
   "execution_count": 38,
   "id": "f6fe628c",
   "metadata": {},
   "outputs": [],
   "source": [
    "d = Dequeue()"
   ]
  },
  {
   "cell_type": "code",
   "execution_count": 39,
   "id": "9f834813",
   "metadata": {},
   "outputs": [
    {
     "data": {
      "text/plain": [
       "True"
      ]
     },
     "execution_count": 39,
     "metadata": {},
     "output_type": "execute_result"
    }
   ],
   "source": [
    "d.isEmpty()"
   ]
  },
  {
   "cell_type": "code",
   "execution_count": 40,
   "id": "8cd63224",
   "metadata": {},
   "outputs": [],
   "source": [
    "d.addFont('one')"
   ]
  },
  {
   "cell_type": "code",
   "execution_count": 41,
   "id": "664bdacf",
   "metadata": {},
   "outputs": [],
   "source": [
    "d.addFont('two')"
   ]
  },
  {
   "cell_type": "code",
   "execution_count": 42,
   "id": "a537c670",
   "metadata": {},
   "outputs": [],
   "source": [
    "d.removeFont()"
   ]
  },
  {
   "cell_type": "code",
   "execution_count": 43,
   "id": "eeeaa4e3",
   "metadata": {},
   "outputs": [
    {
     "data": {
      "text/plain": [
       "1"
      ]
     },
     "execution_count": 43,
     "metadata": {},
     "output_type": "execute_result"
    }
   ],
   "source": [
    "d.size()"
   ]
  },
  {
   "cell_type": "code",
   "execution_count": 3,
   "id": "42bbac98",
   "metadata": {},
   "outputs": [
    {
     "data": {
      "text/plain": [
       "'ello world'"
      ]
     },
     "execution_count": 3,
     "metadata": {},
     "output_type": "execute_result"
    }
   ],
   "source": [
    "strn = 'hello world'\n",
    "strn.replace('h','')"
   ]
  },
  {
   "cell_type": "code",
   "execution_count": 4,
   "id": "7f66dad3",
   "metadata": {},
   "outputs": [
    {
     "data": {
      "text/plain": [
       "True"
      ]
     },
     "execution_count": 4,
     "metadata": {},
     "output_type": "execute_result"
    }
   ],
   "source": [
    "'h' in 'hello'"
   ]
  },
  {
   "cell_type": "code",
   "execution_count": 5,
   "id": "1d89b374",
   "metadata": {},
   "outputs": [
    {
     "data": {
      "text/plain": [
       "True"
      ]
     },
     "execution_count": 5,
     "metadata": {},
     "output_type": "execute_result"
    }
   ],
   "source": [
    "'h' in 'h'"
   ]
  },
  {
   "cell_type": "code",
   "execution_count": 6,
   "id": "e9e6b965",
   "metadata": {},
   "outputs": [
    {
     "data": {
      "text/plain": [
       "True"
      ]
     },
     "execution_count": 6,
     "metadata": {},
     "output_type": "execute_result"
    }
   ],
   "source": [
    "'he' in 'hello'"
   ]
  },
  {
   "cell_type": "code",
   "execution_count": 9,
   "id": "9bb33b4a",
   "metadata": {},
   "outputs": [],
   "source": [
    "word = '()]'\n",
    "word = word.replace('()','')"
   ]
  },
  {
   "cell_type": "code",
   "execution_count": 10,
   "id": "72b7b23d",
   "metadata": {},
   "outputs": [
    {
     "data": {
      "text/plain": [
       "']'"
      ]
     },
     "execution_count": 10,
     "metadata": {},
     "output_type": "execute_result"
    }
   ],
   "source": [
    "word"
   ]
  },
  {
   "cell_type": "code",
   "execution_count": 11,
   "id": "feaece6c",
   "metadata": {},
   "outputs": [],
   "source": [
    "word = '()()[]'\n",
    "word = word.replace('()','')"
   ]
  },
  {
   "cell_type": "code",
   "execution_count": 12,
   "id": "3e01d705",
   "metadata": {},
   "outputs": [
    {
     "data": {
      "text/plain": [
       "'[]'"
      ]
     },
     "execution_count": 12,
     "metadata": {},
     "output_type": "execute_result"
    }
   ],
   "source": [
    "word"
   ]
  },
  {
   "cell_type": "code",
   "execution_count": 13,
   "id": "91ab5791",
   "metadata": {},
   "outputs": [
    {
     "data": {
      "text/plain": [
       "0"
      ]
     },
     "execution_count": 13,
     "metadata": {},
     "output_type": "execute_result"
    }
   ],
   "source": [
    "word=''\n",
    "len(word)"
   ]
  },
  {
   "cell_type": "code",
   "execution_count": 1,
   "id": "a12fc54b",
   "metadata": {},
   "outputs": [],
   "source": [
    "def balanceCheck(word):\n",
    "    if '()' in word:\n",
    "        word = word.replace('()','')\n",
    "        print(word)\n",
    "    if '{}' in word:\n",
    "        word = word.replace('{}','')\n",
    "        print(word)\n",
    "    if '[]' in word:\n",
    "        word = word.replace('[]','')\n",
    "        print(word)\n",
    "    if len(word) == 0:\n",
    "        print('balance')\n",
    "    else:\n",
    "        print('not balance')"
   ]
  },
  {
   "cell_type": "code",
   "execution_count": 2,
   "id": "369e7ce5",
   "metadata": {},
   "outputs": [
    {
     "name": "stdout",
     "output_type": "stream",
     "text": [
      "[]{}[\n",
      "[][\n",
      "[\n",
      "not balance\n"
     ]
    }
   ],
   "source": [
    "balanceCheck('()[]{}[')"
   ]
  },
  {
   "cell_type": "code",
   "execution_count": 3,
   "id": "98bccb51",
   "metadata": {},
   "outputs": [
    {
     "name": "stdout",
     "output_type": "stream",
     "text": [
      "not balance\n"
     ]
    }
   ],
   "source": [
    "balanceCheck('(]')"
   ]
  },
  {
   "cell_type": "code",
   "execution_count": 4,
   "id": "0d339a47",
   "metadata": {},
   "outputs": [
    {
     "name": "stdout",
     "output_type": "stream",
     "text": [
      "\n",
      "balance\n"
     ]
    }
   ],
   "source": [
    "balanceCheck('()')"
   ]
  },
  {
   "cell_type": "code",
   "execution_count": 29,
   "id": "25daad17",
   "metadata": {},
   "outputs": [
    {
     "name": "stdout",
     "output_type": "stream",
     "text": [
      "[]\n"
     ]
    }
   ],
   "source": [
    "arr = []\n",
    "if not arr:\n",
    "    print(arr)"
   ]
  },
  {
   "cell_type": "code",
   "execution_count": 30,
   "id": "38ed1303",
   "metadata": {},
   "outputs": [],
   "source": [
    "class Node:\n",
    "    def __init__(self,value):\n",
    "        self.value = value\n",
    "        self.nextNode = None"
   ]
  },
  {
   "cell_type": "code",
   "execution_count": 31,
   "id": "8d205f5a",
   "metadata": {},
   "outputs": [],
   "source": [
    "a = Node(1)"
   ]
  },
  {
   "cell_type": "code",
   "execution_count": 32,
   "id": "1bde352a",
   "metadata": {},
   "outputs": [],
   "source": [
    "b = Node(2)\n",
    "c = Node(3)"
   ]
  },
  {
   "cell_type": "code",
   "execution_count": 33,
   "id": "fd35a67b",
   "metadata": {},
   "outputs": [
    {
     "data": {
      "text/plain": [
       "1"
      ]
     },
     "execution_count": 33,
     "metadata": {},
     "output_type": "execute_result"
    }
   ],
   "source": [
    "a.value"
   ]
  },
  {
   "cell_type": "code",
   "execution_count": 34,
   "id": "b9b38359",
   "metadata": {},
   "outputs": [],
   "source": [
    "a.nextNode = b"
   ]
  },
  {
   "cell_type": "code",
   "execution_count": 35,
   "id": "5930f290",
   "metadata": {},
   "outputs": [],
   "source": [
    "b.nextNode = c"
   ]
  },
  {
   "cell_type": "code",
   "execution_count": 36,
   "id": "eeb1f2bb",
   "metadata": {},
   "outputs": [
    {
     "data": {
      "text/plain": [
       "3"
      ]
     },
     "execution_count": 36,
     "metadata": {},
     "output_type": "execute_result"
    }
   ],
   "source": [
    "b.nextNode.value"
   ]
  },
  {
   "cell_type": "code",
   "execution_count": 38,
   "id": "5ccc6eff",
   "metadata": {},
   "outputs": [],
   "source": [
    "class DoubleLinkList:\n",
    "    def __init__(self,value):\n",
    "        self.prevNode = None\n",
    "        self.value = value\n",
    "        self.nextNode = None"
   ]
  },
  {
   "cell_type": "code",
   "execution_count": 39,
   "id": "474d48fb",
   "metadata": {},
   "outputs": [],
   "source": [
    "a = DoubleLinkList(1)\n",
    "b= DoubleLinkList(2)\n",
    "b.prevNode = a\n",
    "c = DoubleLinkList(3)\n",
    "b.nextNode = c"
   ]
  },
  {
   "cell_type": "code",
   "execution_count": 43,
   "id": "f9cfa075",
   "metadata": {},
   "outputs": [
    {
     "data": {
      "text/plain": [
       "3"
      ]
     },
     "execution_count": 43,
     "metadata": {},
     "output_type": "execute_result"
    }
   ],
   "source": [
    "b.nextNode.value"
   ]
  },
  {
   "cell_type": "code",
   "execution_count": 44,
   "id": "1f85cb57",
   "metadata": {},
   "outputs": [],
   "source": [
    "med = DoubleLinkList('one')\n",
    "med.nextNode = a\n",
    "a.prevNode = med"
   ]
  },
  {
   "cell_type": "code",
   "execution_count": 49,
   "id": "e65e2188",
   "metadata": {},
   "outputs": [
    {
     "data": {
      "text/plain": [
       "1"
      ]
     },
     "execution_count": 49,
     "metadata": {},
     "output_type": "execute_result"
    }
   ],
   "source": [
    "med.nextNode.value"
   ]
  },
  {
   "cell_type": "code",
   "execution_count": 50,
   "id": "893187f3",
   "metadata": {},
   "outputs": [
    {
     "data": {
      "text/plain": [
       "'one'"
      ]
     },
     "execution_count": 50,
     "metadata": {},
     "output_type": "execute_result"
    }
   ],
   "source": [
    "a.prevNode.value"
   ]
  },
  {
   "cell_type": "code",
   "execution_count": 51,
   "id": "1a6ee51c",
   "metadata": {},
   "outputs": [],
   "source": [
    "#remov a\n",
    "med.nextNode = b\n",
    "a.prevNode = None\n",
    "a.nextNode = None\n",
    "b.prevNode = med"
   ]
  },
  {
   "cell_type": "code",
   "execution_count": 55,
   "id": "8c1b0d70",
   "metadata": {},
   "outputs": [
    {
     "data": {
      "text/plain": [
       "2"
      ]
     },
     "execution_count": 55,
     "metadata": {},
     "output_type": "execute_result"
    }
   ],
   "source": [
    "med.nextNode.value"
   ]
  },
  {
   "cell_type": "code",
   "execution_count": 56,
   "id": "63667859",
   "metadata": {},
   "outputs": [
    {
     "data": {
      "text/plain": [
       "'one'"
      ]
     },
     "execution_count": 56,
     "metadata": {},
     "output_type": "execute_result"
    }
   ],
   "source": [
    "b.prevNode.value"
   ]
  },
  {
   "cell_type": "code",
   "execution_count": 41,
   "id": "7610930a",
   "metadata": {},
   "outputs": [],
   "source": [
    "class Node:\n",
    "    def __init__(self,value):\n",
    "        self.value = value\n",
    "        self.nextNode = None"
   ]
  },
  {
   "cell_type": "code",
   "execution_count": 42,
   "id": "e9d5e3b4",
   "metadata": {},
   "outputs": [],
   "source": [
    "a = Node(1)"
   ]
  },
  {
   "cell_type": "code",
   "execution_count": 43,
   "id": "11058f51",
   "metadata": {},
   "outputs": [],
   "source": [
    "b = Node(2)\n",
    "c= Node(3)\n",
    "d = Node(4)"
   ]
  },
  {
   "cell_type": "code",
   "execution_count": 44,
   "id": "8996b960",
   "metadata": {},
   "outputs": [],
   "source": [
    "a.nextNode = b\n",
    "b.nextNode = c\n",
    "c.nextNode = d"
   ]
  },
  {
   "cell_type": "code",
   "execution_count": 45,
   "id": "8dba4ec1",
   "metadata": {},
   "outputs": [
    {
     "data": {
      "text/plain": [
       "4"
      ]
     },
     "execution_count": 45,
     "metadata": {},
     "output_type": "execute_result"
    }
   ],
   "source": [
    "c.nextNode.value"
   ]
  },
  {
   "cell_type": "code",
   "execution_count": 46,
   "id": "cb008027",
   "metadata": {},
   "outputs": [
    {
     "data": {
      "text/plain": [
       "3"
      ]
     },
     "execution_count": 46,
     "metadata": {},
     "output_type": "execute_result"
    }
   ],
   "source": [
    "a.nextNode.nextNode.value"
   ]
  },
  {
   "cell_type": "code",
   "execution_count": 47,
   "id": "a8b0669c",
   "metadata": {},
   "outputs": [
    {
     "data": {
      "text/plain": [
       "3"
      ]
     },
     "execution_count": 47,
     "metadata": {},
     "output_type": "execute_result"
    }
   ],
   "source": [
    "a.nextNode.nextNode.value"
   ]
  },
  {
   "cell_type": "code",
   "execution_count": 48,
   "id": "9ded7430",
   "metadata": {},
   "outputs": [
    {
     "data": {
      "text/plain": [
       "1"
      ]
     },
     "execution_count": 48,
     "metadata": {},
     "output_type": "execute_result"
    }
   ],
   "source": [
    "storeFirst.nextNode.value"
   ]
  },
  {
   "cell_type": "code",
   "execution_count": 49,
   "id": "1dcca501",
   "metadata": {},
   "outputs": [],
   "source": [
    "    storeFirst = a.nextNode\n",
    "    storeSecond = storeFirst.nextNode\n",
    "    storeThird = storeSecond.nextNode"
   ]
  },
  {
   "cell_type": "code",
   "execution_count": null,
   "id": "8578fc39",
   "metadata": {},
   "outputs": [],
   "source": []
  },
  {
   "cell_type": "code",
   "execution_count": 50,
   "id": "f41ff386",
   "metadata": {},
   "outputs": [],
   "source": [
    "def reverse(head):\n",
    "    storeFirst = head.nextNode\n",
    "    storeSecond = head.nextNode.nextNode\n",
    "    storeThird = head.nextNode.nextNode.nextNode\n",
    "    \n",
    "    storeThird.nextNode = storeSecond\n",
    "    storeSecond.nextNode = storeFirst\n",
    "    storeFirst.nextNode = head\n",
    "    head.nextNode = None\n",
    "    return storeThird"
   ]
  },
  {
   "cell_type": "code",
   "execution_count": 51,
   "id": "77c2531f",
   "metadata": {},
   "outputs": [],
   "source": [
    "check = reverse(a)"
   ]
  },
  {
   "cell_type": "code",
   "execution_count": 53,
   "id": "6b5e0236",
   "metadata": {},
   "outputs": [
    {
     "data": {
      "text/plain": [
       "4"
      ]
     },
     "execution_count": 53,
     "metadata": {},
     "output_type": "execute_result"
    }
   ],
   "source": [
    "check.value"
   ]
  },
  {
   "cell_type": "code",
   "execution_count": 54,
   "id": "a786e3ae",
   "metadata": {},
   "outputs": [
    {
     "name": "stdout",
     "output_type": "stream",
     "text": [
      "1\n"
     ]
    }
   ],
   "source": [
    "print(f'{a.value}')"
   ]
  },
  {
   "cell_type": "code",
   "execution_count": 1,
   "id": "3fed902b",
   "metadata": {},
   "outputs": [
    {
     "data": {
      "text/plain": [
       "43.2"
      ]
     },
     "execution_count": 1,
     "metadata": {},
     "output_type": "execute_result"
    }
   ],
   "source": [
    "432/10"
   ]
  },
  {
   "cell_type": "code",
   "execution_count": 2,
   "id": "c3c26cb3",
   "metadata": {},
   "outputs": [
    {
     "name": "stdout",
     "output_type": "stream",
     "text": [
      "43.2\n"
     ]
    }
   ],
   "source": [
    "n= 432/10\n",
    "print(n)"
   ]
  },
  {
   "cell_type": "code",
   "execution_count": 5,
   "id": "f5a892b3",
   "metadata": {},
   "outputs": [],
   "source": [
    "import numpy as np"
   ]
  },
  {
   "cell_type": "code",
   "execution_count": 8,
   "id": "2b7e1be9",
   "metadata": {},
   "outputs": [
    {
     "data": {
      "text/plain": [
       "43.0"
      ]
     },
     "execution_count": 8,
     "metadata": {},
     "output_type": "execute_result"
    }
   ],
   "source": [
    "np.round(n)"
   ]
  },
  {
   "cell_type": "code",
   "execution_count": 37,
   "id": "23704680",
   "metadata": {},
   "outputs": [],
   "source": [
    "def wordSplit(phrase,listofWord,output=[]):\n",
    "    \n",
    "    for word in listofWord:\n",
    "        if word in phrase:\n",
    "            output.append(word)\n",
    "            phrase = phrase.replace(word,'')\n",
    "            if len(phrase) ==0:\n",
    "                print(output)\n",
    "            "
   ]
  },
  {
   "cell_type": "code",
   "execution_count": 38,
   "id": "f4fd77bf",
   "metadata": {},
   "outputs": [
    {
     "name": "stdout",
     "output_type": "stream",
     "text": [
      "['i', 'love', 'dogs', 'john']\n"
     ]
    }
   ],
   "source": [
    "wordSplit('ilovedogsjohn', ['i', 'am', 'love', 'dogs', 'lover', 'john'])"
   ]
  },
  {
   "cell_type": "code",
   "execution_count": 32,
   "id": "d59d6a70",
   "metadata": {},
   "outputs": [
    {
     "name": "stdout",
     "output_type": "stream",
     "text": [
      "None\n"
     ]
    }
   ],
   "source": [
    "print(store)"
   ]
  },
  {
   "cell_type": "code",
   "execution_count": 27,
   "id": "6f0283db",
   "metadata": {},
   "outputs": [
    {
     "name": "stdout",
     "output_type": "stream",
     "text": [
      "I\n",
      "am\n",
      "love\n",
      "dogs\n",
      "lover\n",
      "john\n"
     ]
    }
   ],
   "source": [
    "arr = ['I', 'am', 'love', 'dogs', 'lover', 'john']\n",
    "for word in arr:\n",
    "    print(word)"
   ]
  },
  {
   "cell_type": "code",
   "execution_count": 29,
   "id": "9e46114a",
   "metadata": {},
   "outputs": [
    {
     "name": "stdout",
     "output_type": "stream",
     "text": [
      "h\n"
     ]
    }
   ],
   "source": [
    "if 'love' in 'ilovedogsjohn':\n",
    "    print('h')"
   ]
  },
  {
   "cell_type": "code",
   "execution_count": 39,
   "id": "225c7430",
   "metadata": {},
   "outputs": [],
   "source": [
    "factorial_memo = {}\n",
    "factorial_memo[4] = 5"
   ]
  },
  {
   "cell_type": "code",
   "execution_count": 40,
   "id": "6e061260",
   "metadata": {},
   "outputs": [
    {
     "data": {
      "text/plain": [
       "{4: 5}"
      ]
     },
     "execution_count": 40,
     "metadata": {},
     "output_type": "execute_result"
    }
   ],
   "source": [
    "factorial_memo"
   ]
  },
  {
   "cell_type": "code",
   "execution_count": 1,
   "id": "ce111c04",
   "metadata": {},
   "outputs": [
    {
     "data": {
      "text/plain": [
       "[2, 3, 4, 6]"
      ]
     },
     "execution_count": 1,
     "metadata": {},
     "output_type": "execute_result"
    }
   ],
   "source": [
    "arr = [1,2,3,4,6]\n",
    "arr.pop(0)\n",
    "arr"
   ]
  },
  {
   "cell_type": "code",
   "execution_count": 58,
   "id": "c1212545",
   "metadata": {},
   "outputs": [
    {
     "name": "stdout",
     "output_type": "stream",
     "text": [
      "4\n",
      "3\n"
     ]
    }
   ],
   "source": [
    "def binarySearch(arr, elem):\n",
    "    \n",
    "    start = 0;\n",
    "    end = len(arr)- 1;\n",
    "    middle = round((start + end) / 2);\n",
    "    print(middle)\n",
    "    while((arr[middle] != elem) & (start <= end)):\n",
    "        if(elem < arr[middle]):\n",
    "            end = middle - 1;\n",
    "        else:\n",
    "            start = middle + 1;\n",
    "        \n",
    "        middle = round((start + end) / 2);\n",
    "    \n",
    "    if(arr[middle] == elem):\n",
    "        return middle;\n",
    "    \n",
    "    return -1;\n",
    "\n",
    "sotre = binarySearch([1,2,3,4,5,6,7,8],4)\n",
    "print(sotre)"
   ]
  },
  {
   "cell_type": "code",
   "execution_count": 60,
   "id": "da0b0a3e",
   "metadata": {},
   "outputs": [
    {
     "data": {
      "text/plain": [
       "4"
      ]
     },
     "execution_count": 60,
     "metadata": {},
     "output_type": "execute_result"
    }
   ],
   "source": [
    "round(3.5)"
   ]
  },
  {
   "cell_type": "code",
   "execution_count": 10,
   "id": "1d60698a",
   "metadata": {},
   "outputs": [
    {
     "data": {
      "text/plain": [
       "[1, 2, 3, 4]"
      ]
     },
     "execution_count": 10,
     "metadata": {},
     "output_type": "execute_result"
    }
   ],
   "source": [
    "arr[0:4]"
   ]
  },
  {
   "cell_type": "code",
   "execution_count": 8,
   "id": "4d60f6f0",
   "metadata": {},
   "outputs": [
    {
     "name": "stdout",
     "output_type": "stream",
     "text": [
      "4\n"
     ]
    }
   ],
   "source": [
    "middleItem = round(0+(len(arr)-1)/2)\n",
    "print(middleItem)"
   ]
  },
  {
   "cell_type": "code",
   "execution_count": 6,
   "id": "9d99b244",
   "metadata": {},
   "outputs": [
    {
     "data": {
      "text/plain": [
       "[5, 6, 7]"
      ]
     },
     "execution_count": 6,
     "metadata": {},
     "output_type": "execute_result"
    }
   ],
   "source": [
    "arr  = [1,2,3,4,5,6,7]\n",
    "arr[4:]"
   ]
  },
  {
   "cell_type": "code",
   "execution_count": 1,
   "id": "e0708427",
   "metadata": {},
   "outputs": [],
   "source": [
    "arr  = [1,2,3,4,5,6,7]\n",
    "arr[2],arr[3] = arr[3],arr[2]"
   ]
  },
  {
   "cell_type": "code",
   "execution_count": 2,
   "id": "e28034ed",
   "metadata": {},
   "outputs": [
    {
     "data": {
      "text/plain": [
       "4"
      ]
     },
     "execution_count": 2,
     "metadata": {},
     "output_type": "execute_result"
    }
   ],
   "source": [
    "arr[2]"
   ]
  },
  {
   "cell_type": "code",
   "execution_count": 3,
   "id": "5cb4e8db",
   "metadata": {},
   "outputs": [
    {
     "data": {
      "text/plain": [
       "3"
      ]
     },
     "execution_count": 3,
     "metadata": {},
     "output_type": "execute_result"
    }
   ],
   "source": [
    "arr[3]"
   ]
  },
  {
   "cell_type": "code",
   "execution_count": 24,
   "id": "214c571a",
   "metadata": {},
   "outputs": [],
   "source": [
    "def bubbleSort(arr):\n",
    "    for i in range(0,len(arr)):\n",
    "        for j in range(0,len(arr)-1):\n",
    "            print(arr,arr[j],arr[j+1])\n",
    "            if arr[j] > arr[j+1]:\n",
    "                arr[j],arr[j+1]=arr[j+1],arr[j]\n",
    "            else:\n",
    "                continue\n",
    "            \n",
    "            \n",
    "    print(arr)"
   ]
  },
  {
   "cell_type": "code",
   "execution_count": 25,
   "id": "1c8f815a",
   "metadata": {
    "scrolled": false
   },
   "outputs": [
    {
     "name": "stdout",
     "output_type": "stream",
     "text": [
      "[29, 10, 14, 30, 37, 14, 18] 29 10\n",
      "[10, 29, 14, 30, 37, 14, 18] 29 14\n",
      "[10, 14, 29, 30, 37, 14, 18] 29 30\n",
      "[10, 14, 29, 30, 37, 14, 18] 30 37\n",
      "[10, 14, 29, 30, 37, 14, 18] 37 14\n",
      "[10, 14, 29, 30, 14, 37, 18] 37 18\n",
      "[10, 14, 29, 30, 14, 18, 37] 10 14\n",
      "[10, 14, 29, 30, 14, 18, 37] 14 29\n",
      "[10, 14, 29, 30, 14, 18, 37] 29 30\n",
      "[10, 14, 29, 30, 14, 18, 37] 30 14\n",
      "[10, 14, 29, 14, 30, 18, 37] 30 18\n",
      "[10, 14, 29, 14, 18, 30, 37] 30 37\n",
      "[10, 14, 29, 14, 18, 30, 37] 10 14\n",
      "[10, 14, 29, 14, 18, 30, 37] 14 29\n",
      "[10, 14, 29, 14, 18, 30, 37] 29 14\n",
      "[10, 14, 14, 29, 18, 30, 37] 29 18\n",
      "[10, 14, 14, 18, 29, 30, 37] 29 30\n",
      "[10, 14, 14, 18, 29, 30, 37] 30 37\n",
      "[10, 14, 14, 18, 29, 30, 37] 10 14\n",
      "[10, 14, 14, 18, 29, 30, 37] 14 14\n",
      "[10, 14, 14, 18, 29, 30, 37] 14 18\n",
      "[10, 14, 14, 18, 29, 30, 37] 18 29\n",
      "[10, 14, 14, 18, 29, 30, 37] 29 30\n",
      "[10, 14, 14, 18, 29, 30, 37] 30 37\n",
      "[10, 14, 14, 18, 29, 30, 37] 10 14\n",
      "[10, 14, 14, 18, 29, 30, 37] 14 14\n",
      "[10, 14, 14, 18, 29, 30, 37] 14 18\n",
      "[10, 14, 14, 18, 29, 30, 37] 18 29\n",
      "[10, 14, 14, 18, 29, 30, 37] 29 30\n",
      "[10, 14, 14, 18, 29, 30, 37] 30 37\n",
      "[10, 14, 14, 18, 29, 30, 37] 10 14\n",
      "[10, 14, 14, 18, 29, 30, 37] 14 14\n",
      "[10, 14, 14, 18, 29, 30, 37] 14 18\n",
      "[10, 14, 14, 18, 29, 30, 37] 18 29\n",
      "[10, 14, 14, 18, 29, 30, 37] 29 30\n",
      "[10, 14, 14, 18, 29, 30, 37] 30 37\n",
      "[10, 14, 14, 18, 29, 30, 37] 10 14\n",
      "[10, 14, 14, 18, 29, 30, 37] 14 14\n",
      "[10, 14, 14, 18, 29, 30, 37] 14 18\n",
      "[10, 14, 14, 18, 29, 30, 37] 18 29\n",
      "[10, 14, 14, 18, 29, 30, 37] 29 30\n",
      "[10, 14, 14, 18, 29, 30, 37] 30 37\n",
      "[10, 14, 14, 18, 29, 30, 37]\n"
     ]
    }
   ],
   "source": [
    "bubbleSort([29,10,14,30,37,14,18])"
   ]
  },
  {
   "cell_type": "code",
   "execution_count": 19,
   "id": "658d2184",
   "metadata": {},
   "outputs": [
    {
     "name": "stdout",
     "output_type": "stream",
     "text": [
      "8\n",
      "7\n",
      "6\n",
      "5\n",
      "4\n",
      "3\n",
      "2\n",
      "1\n",
      "0\n"
     ]
    }
   ],
   "source": [
    "for i in reversed(range(9)):\n",
    "    print(i)"
   ]
  },
  {
   "cell_type": "code",
   "execution_count": 32,
   "id": "f699f8b7",
   "metadata": {},
   "outputs": [],
   "source": [
    "def bubbleSort(arr):\n",
    "    for i in reversed(range(len(arr))):\n",
    "        for j in range(0,i):\n",
    "            print(arr,arr[j],arr[j+1])\n",
    "            if arr[j] > arr[j+1]:\n",
    "                arr[j],arr[j+1]=arr[j+1],arr[j]\n",
    "            else:\n",
    "                continue\n",
    "            \n",
    "            \n",
    "    print(arr)"
   ]
  },
  {
   "cell_type": "code",
   "execution_count": 33,
   "id": "e3780da5",
   "metadata": {},
   "outputs": [
    {
     "name": "stdout",
     "output_type": "stream",
     "text": [
      "[29, 10, 14, 30, 37, 14, 18] 29 10\n",
      "[10, 29, 14, 30, 37, 14, 18] 29 14\n",
      "[10, 14, 29, 30, 37, 14, 18] 29 30\n",
      "[10, 14, 29, 30, 37, 14, 18] 30 37\n",
      "[10, 14, 29, 30, 37, 14, 18] 37 14\n",
      "[10, 14, 29, 30, 14, 37, 18] 37 18\n",
      "[10, 14, 29, 30, 14, 18, 37] 10 14\n",
      "[10, 14, 29, 30, 14, 18, 37] 14 29\n",
      "[10, 14, 29, 30, 14, 18, 37] 29 30\n",
      "[10, 14, 29, 30, 14, 18, 37] 30 14\n",
      "[10, 14, 29, 14, 30, 18, 37] 30 18\n",
      "[10, 14, 29, 14, 18, 30, 37] 10 14\n",
      "[10, 14, 29, 14, 18, 30, 37] 14 29\n",
      "[10, 14, 29, 14, 18, 30, 37] 29 14\n",
      "[10, 14, 14, 29, 18, 30, 37] 29 18\n",
      "[10, 14, 14, 18, 29, 30, 37] 10 14\n",
      "[10, 14, 14, 18, 29, 30, 37] 14 14\n",
      "[10, 14, 14, 18, 29, 30, 37] 14 18\n",
      "[10, 14, 14, 18, 29, 30, 37] 10 14\n",
      "[10, 14, 14, 18, 29, 30, 37] 14 14\n",
      "[10, 14, 14, 18, 29, 30, 37] 10 14\n",
      "[10, 14, 14, 18, 29, 30, 37]\n"
     ]
    }
   ],
   "source": [
    "bubbleSort([29,10,14,30,37,14,18])"
   ]
  },
  {
   "cell_type": "code",
   "execution_count": 34,
   "id": "01787fd8",
   "metadata": {},
   "outputs": [
    {
     "name": "stdout",
     "output_type": "stream",
     "text": [
      "[8, 1, 2, 3, 4, 5, 6, 7] 8 1\n",
      "[1, 8, 2, 3, 4, 5, 6, 7] 8 2\n",
      "[1, 2, 8, 3, 4, 5, 6, 7] 8 3\n",
      "[1, 2, 3, 8, 4, 5, 6, 7] 8 4\n",
      "[1, 2, 3, 4, 8, 5, 6, 7] 8 5\n",
      "[1, 2, 3, 4, 5, 8, 6, 7] 8 6\n",
      "[1, 2, 3, 4, 5, 6, 8, 7] 8 7\n",
      "[1, 2, 3, 4, 5, 6, 7, 8] 1 2\n",
      "[1, 2, 3, 4, 5, 6, 7, 8] 2 3\n",
      "[1, 2, 3, 4, 5, 6, 7, 8] 3 4\n",
      "[1, 2, 3, 4, 5, 6, 7, 8] 4 5\n",
      "[1, 2, 3, 4, 5, 6, 7, 8] 5 6\n",
      "[1, 2, 3, 4, 5, 6, 7, 8] 6 7\n",
      "[1, 2, 3, 4, 5, 6, 7, 8] 1 2\n",
      "[1, 2, 3, 4, 5, 6, 7, 8] 2 3\n",
      "[1, 2, 3, 4, 5, 6, 7, 8] 3 4\n",
      "[1, 2, 3, 4, 5, 6, 7, 8] 4 5\n",
      "[1, 2, 3, 4, 5, 6, 7, 8] 5 6\n",
      "[1, 2, 3, 4, 5, 6, 7, 8] 1 2\n",
      "[1, 2, 3, 4, 5, 6, 7, 8] 2 3\n",
      "[1, 2, 3, 4, 5, 6, 7, 8] 3 4\n",
      "[1, 2, 3, 4, 5, 6, 7, 8] 4 5\n",
      "[1, 2, 3, 4, 5, 6, 7, 8] 1 2\n",
      "[1, 2, 3, 4, 5, 6, 7, 8] 2 3\n",
      "[1, 2, 3, 4, 5, 6, 7, 8] 3 4\n",
      "[1, 2, 3, 4, 5, 6, 7, 8] 1 2\n",
      "[1, 2, 3, 4, 5, 6, 7, 8] 2 3\n",
      "[1, 2, 3, 4, 5, 6, 7, 8] 1 2\n",
      "[1, 2, 3, 4, 5, 6, 7, 8]\n"
     ]
    }
   ],
   "source": [
    "bubbleSort([8,1,2,3,4,5,6,7])"
   ]
  },
  {
   "cell_type": "code",
   "execution_count": 41,
   "id": "e7090e66",
   "metadata": {},
   "outputs": [],
   "source": [
    "#final version nearly sorted or already sorted\n",
    "\n",
    "def bubbleSort(arr):\n",
    "    noswap=None\n",
    "    for i in reversed(range(len(arr))):\n",
    "        noswap = True\n",
    "        for j in range(0,i):\n",
    "            print(arr,arr[j],arr[j+1])\n",
    "            if arr[j] > arr[j+1]:\n",
    "                arr[j],arr[j+1]=arr[j+1],arr[j]\n",
    "                noswap = False\n",
    "            else:\n",
    "                continue\n",
    "        if(noswap):break\n",
    "            \n",
    "    print(arr)"
   ]
  },
  {
   "cell_type": "code",
   "execution_count": 42,
   "id": "f4f21e7a",
   "metadata": {
    "scrolled": true
   },
   "outputs": [
    {
     "name": "stdout",
     "output_type": "stream",
     "text": [
      "[8, 1, 2, 3, 4, 5, 6, 7] 8 1\n",
      "[1, 8, 2, 3, 4, 5, 6, 7] 8 2\n",
      "[1, 2, 8, 3, 4, 5, 6, 7] 8 3\n",
      "[1, 2, 3, 8, 4, 5, 6, 7] 8 4\n",
      "[1, 2, 3, 4, 8, 5, 6, 7] 8 5\n",
      "[1, 2, 3, 4, 5, 8, 6, 7] 8 6\n",
      "[1, 2, 3, 4, 5, 6, 8, 7] 8 7\n",
      "[1, 2, 3, 4, 5, 6, 7, 8] 1 2\n",
      "[1, 2, 3, 4, 5, 6, 7, 8] 2 3\n",
      "[1, 2, 3, 4, 5, 6, 7, 8] 3 4\n",
      "[1, 2, 3, 4, 5, 6, 7, 8] 4 5\n",
      "[1, 2, 3, 4, 5, 6, 7, 8] 5 6\n",
      "[1, 2, 3, 4, 5, 6, 7, 8] 6 7\n",
      "[1, 2, 3, 4, 5, 6, 7, 8]\n"
     ]
    }
   ],
   "source": [
    "bubbleSort([8,1,2,3,4,5,6,7])"
   ]
  },
  {
   "cell_type": "code",
   "execution_count": 15,
   "id": "e0c94929",
   "metadata": {},
   "outputs": [],
   "source": [
    "def selectionSort(arr):\n",
    "    for i in range(0,len(arr)):\n",
    "        lowest = i\n",
    "        for j in range(i+1,len(arr)):\n",
    "            if arr[lowest] > arr[j]:\n",
    "                lowest = j\n",
    "        print(f'{arr} lowest value is {arr[lowest]}')\n",
    "        arr[lowest],arr[i] = arr[i],arr[lowest]\n",
    "    print(arr)      "
   ]
  },
  {
   "cell_type": "code",
   "execution_count": 16,
   "id": "c60b5050",
   "metadata": {},
   "outputs": [
    {
     "name": "stdout",
     "output_type": "stream",
     "text": [
      "[5, 3, 4, 1, 2] lowest value is 1\n",
      "[1, 3, 4, 5, 2] lowest value is 2\n",
      "[1, 2, 4, 5, 3] lowest value is 3\n",
      "[1, 2, 3, 5, 4] lowest value is 4\n",
      "[1, 2, 3, 4, 5] lowest value is 5\n",
      "[1, 2, 3, 4, 5]\n"
     ]
    }
   ],
   "source": [
    "selectionSort([5,3,4,1,2])"
   ]
  },
  {
   "cell_type": "code",
   "execution_count": 17,
   "id": "149a5c32",
   "metadata": {},
   "outputs": [
    {
     "name": "stdout",
     "output_type": "stream",
     "text": [
      "[29, 10, 14, 30, 37, 14, 18] lowest value is 10\n",
      "[10, 29, 14, 30, 37, 14, 18] lowest value is 14\n",
      "[10, 14, 29, 30, 37, 14, 18] lowest value is 14\n",
      "[10, 14, 14, 30, 37, 29, 18] lowest value is 18\n",
      "[10, 14, 14, 18, 37, 29, 30] lowest value is 29\n",
      "[10, 14, 14, 18, 29, 37, 30] lowest value is 30\n",
      "[10, 14, 14, 18, 29, 30, 37] lowest value is 37\n",
      "[10, 14, 14, 18, 29, 30, 37]\n"
     ]
    }
   ],
   "source": [
    "selectionSort([29,10,14,30,37,14,18])"
   ]
  },
  {
   "cell_type": "code",
   "execution_count": 19,
   "id": "ee38fd13",
   "metadata": {},
   "outputs": [],
   "source": [
    "def insertionSort(arr):\n",
    "    for i in range(1,len(arr)):\n",
    "        for j in range(0,i):\n",
    "            if arr[j] > arr[i]:\n",
    "                print(f'{arr},j={arr[j]} i={arr[i]}')\n",
    "                arr[i],arr[j]  = arr[j],arr[i]   \n",
    "    print(arr)"
   ]
  },
  {
   "cell_type": "code",
   "execution_count": 20,
   "id": "b588ea05",
   "metadata": {},
   "outputs": [
    {
     "name": "stdout",
     "output_type": "stream",
     "text": [
      "[5, 3, 4, 1, 2],j=5 i=3\n",
      "[3, 5, 4, 1, 2],j=5 i=4\n",
      "[3, 4, 5, 1, 2],j=3 i=1\n",
      "[1, 4, 5, 3, 2],j=4 i=3\n",
      "[1, 3, 5, 4, 2],j=5 i=4\n",
      "[1, 3, 4, 5, 2],j=3 i=2\n",
      "[1, 2, 4, 5, 3],j=4 i=3\n",
      "[1, 2, 3, 5, 4],j=5 i=4\n",
      "[1, 2, 3, 4, 5]\n"
     ]
    }
   ],
   "source": [
    "insertionSort([5,3,4,1,2])"
   ]
  },
  {
   "cell_type": "code",
   "execution_count": 40,
   "id": "a15e07e8",
   "metadata": {},
   "outputs": [],
   "source": [
    "def mergesort(arr1,arr2):\n",
    "    i=0\n",
    "    j=0;\n",
    "    arr3 = []\n",
    "    while((i<len(arr1)) | (j<len(arr2))):\n",
    "        \n",
    "        if(i>=len(arr1)):\n",
    "            arr3.append(arr2[j])\n",
    "            j += 1\n",
    "            continue\n",
    "        if(j >= len(arr2)):\n",
    "            arr3.append(arr1[i])\n",
    "            i += 1\n",
    "            continue\n",
    "        if(arr1[i] <= arr2[j]):\n",
    "            arr3.append(arr1[i])\n",
    "            print(arr3)\n",
    "            i += 1\n",
    "            continue;\n",
    "        if(arr2[j] <= arr1[i]):\n",
    "            arr3.append(arr2[j])\n",
    "            print(arr3)\n",
    "            j +=1\n",
    "            continue\n",
    "       \n",
    "    return arr3"
   ]
  },
  {
   "cell_type": "code",
   "execution_count": 41,
   "id": "4d7b3b1a",
   "metadata": {},
   "outputs": [
    {
     "name": "stdout",
     "output_type": "stream",
     "text": [
      "[2]\n",
      "[2, 10]\n",
      "[2, 10, 14]\n",
      "[2, 10, 14, 99]\n"
     ]
    },
    {
     "data": {
      "text/plain": [
       "[2, 10, 14, 99, 100, 500]"
      ]
     },
     "execution_count": 41,
     "metadata": {},
     "output_type": "execute_result"
    }
   ],
   "source": [
    "mergesort([100,500],[2,10,14,99])"
   ]
  },
  {
   "cell_type": "code",
   "execution_count": 42,
   "id": "31616197",
   "metadata": {},
   "outputs": [],
   "source": [
    "def merge(arr):\n",
    "    mid = round(len(arr)/2)\n",
    "    if len(arr) <= 1 :\n",
    "        return arr\n",
    "    left = merge(arr[:mid])\n",
    "    right = merge(arr[mid:])\n",
    "    return mergesort(left,right)\n",
    "    "
   ]
  },
  {
   "cell_type": "code",
   "execution_count": 43,
   "id": "20857e66",
   "metadata": {},
   "outputs": [
    {
     "name": "stdout",
     "output_type": "stream",
     "text": [
      "[3]\n",
      "[4]\n",
      "[3]\n",
      "[3, 4]\n",
      "[3, 4, 5]\n",
      "[6]\n",
      "[1]\n",
      "[1]\n",
      "[1, 2]\n",
      "[1]\n",
      "[1, 2]\n",
      "[1, 2, 3]\n",
      "[1, 2, 3, 4]\n",
      "[1, 2, 3, 4, 5]\n",
      "[1, 2, 3, 4, 5, 6]\n",
      "[1, 2, 3, 4, 5, 6, 7]\n"
     ]
    },
    {
     "data": {
      "text/plain": [
       "[1, 2, 3, 4, 5, 6, 7, 8]"
      ]
     },
     "execution_count": 43,
     "metadata": {},
     "output_type": "execute_result"
    }
   ],
   "source": [
    "merge([8,3,5,4,7,6,1,2])"
   ]
  },
  {
   "cell_type": "markdown",
   "id": "ec1f6984",
   "metadata": {},
   "source": [
    "# Kisu Ta hoise pora ta  HOY NAI Nicher ta hoise"
   ]
  },
  {
   "cell_type": "code",
   "execution_count": 55,
   "id": "8cac6883",
   "metadata": {},
   "outputs": [],
   "source": [
    "#hoy nai \n",
    "def parition(arr,lb,ub):\n",
    "    pivot = arr[lb]\n",
    "    start = lb;\n",
    "    end = ub;\n",
    "    print(start,end)\n",
    "    while(start<end):\n",
    "        while(arr[start] <= pivot):\n",
    "            start += 1\n",
    "            \n",
    "        while(arr[end] > pivot):\n",
    "            end = end-1\n",
    "            \n",
    "        if(start<end):\n",
    "            arr[start],arr[end] = arr[end],arr[start]\n",
    "            print(arr)\n",
    "    arr[lb],arr[end] = arr[end],arr[lb]\n",
    "    print(arr)\n",
    "    return end"
   ]
  },
  {
   "cell_type": "code",
   "execution_count": 56,
   "id": "587f6d19",
   "metadata": {},
   "outputs": [],
   "source": [
    "def quickSort(arr=[7,6,10,5,9,2,1,15,7],lb=0,ub=len(arr)-1):\n",
    "    print(f'lb = {lb} ub={ub}')\n",
    "    if(lb < ub):\n",
    "        loc = parition(arr,lb,ub)\n",
    "        quickSort(arr,lb,loc-1)\n",
    "        quickSort(arr,loc+1,ub)\n",
    "    return arr"
   ]
  },
  {
   "cell_type": "code",
   "execution_count": 57,
   "id": "38adf0b0",
   "metadata": {},
   "outputs": [
    {
     "name": "stdout",
     "output_type": "stream",
     "text": [
      "lb = 0 ub=8\n",
      "0 8\n",
      "[7, 6, 7, 5, 9, 2, 1, 15, 10]\n",
      "[7, 6, 7, 5, 1, 2, 9, 15, 10]\n",
      "[2, 6, 7, 5, 1, 7, 9, 15, 10]\n",
      "lb = 0 ub=4\n",
      "0 4\n",
      "[2, 1, 7, 5, 6, 7, 9, 15, 10]\n",
      "[1, 2, 7, 5, 6, 7, 9, 15, 10]\n",
      "lb = 0 ub=0\n",
      "lb = 2 ub=4\n",
      "2 4\n",
      "[1, 2, 6, 5, 7, 7, 9, 15, 10]\n",
      "lb = 2 ub=3\n",
      "2 3\n",
      "[1, 2, 5, 6, 7, 7, 9, 15, 10]\n",
      "lb = 2 ub=2\n",
      "lb = 4 ub=3\n",
      "lb = 5 ub=4\n",
      "lb = 6 ub=8\n",
      "6 8\n",
      "[1, 2, 5, 6, 7, 7, 9, 15, 10]\n",
      "lb = 6 ub=5\n",
      "lb = 7 ub=8\n",
      "7 8\n"
     ]
    },
    {
     "ename": "IndexError",
     "evalue": "list index out of range",
     "output_type": "error",
     "traceback": [
      "\u001b[1;31m---------------------------------------------------------------------------\u001b[0m",
      "\u001b[1;31mIndexError\u001b[0m                                Traceback (most recent call last)",
      "\u001b[1;32m<ipython-input-57-6ab899b91d2f>\u001b[0m in \u001b[0;36m<module>\u001b[1;34m\u001b[0m\n\u001b[1;32m----> 1\u001b[1;33m \u001b[0mquickSort\u001b[0m\u001b[1;33m(\u001b[0m\u001b[1;33m[\u001b[0m\u001b[1;36m7\u001b[0m\u001b[1;33m,\u001b[0m\u001b[1;36m6\u001b[0m\u001b[1;33m,\u001b[0m\u001b[1;36m10\u001b[0m\u001b[1;33m,\u001b[0m\u001b[1;36m5\u001b[0m\u001b[1;33m,\u001b[0m\u001b[1;36m9\u001b[0m\u001b[1;33m,\u001b[0m\u001b[1;36m2\u001b[0m\u001b[1;33m,\u001b[0m\u001b[1;36m1\u001b[0m\u001b[1;33m,\u001b[0m\u001b[1;36m15\u001b[0m\u001b[1;33m,\u001b[0m\u001b[1;36m7\u001b[0m\u001b[1;33m]\u001b[0m\u001b[1;33m)\u001b[0m\u001b[1;33m\u001b[0m\u001b[1;33m\u001b[0m\u001b[0m\n\u001b[0m",
      "\u001b[1;32m<ipython-input-56-183a48ad6536>\u001b[0m in \u001b[0;36mquickSort\u001b[1;34m(arr, lb, ub)\u001b[0m\n\u001b[0;32m      4\u001b[0m         \u001b[0mloc\u001b[0m \u001b[1;33m=\u001b[0m \u001b[0mparition\u001b[0m\u001b[1;33m(\u001b[0m\u001b[0marr\u001b[0m\u001b[1;33m,\u001b[0m\u001b[0mlb\u001b[0m\u001b[1;33m,\u001b[0m\u001b[0mub\u001b[0m\u001b[1;33m)\u001b[0m\u001b[1;33m\u001b[0m\u001b[1;33m\u001b[0m\u001b[0m\n\u001b[0;32m      5\u001b[0m         \u001b[0mquickSort\u001b[0m\u001b[1;33m(\u001b[0m\u001b[0marr\u001b[0m\u001b[1;33m,\u001b[0m\u001b[0mlb\u001b[0m\u001b[1;33m,\u001b[0m\u001b[0mloc\u001b[0m\u001b[1;33m-\u001b[0m\u001b[1;36m1\u001b[0m\u001b[1;33m)\u001b[0m\u001b[1;33m\u001b[0m\u001b[1;33m\u001b[0m\u001b[0m\n\u001b[1;32m----> 6\u001b[1;33m         \u001b[0mquickSort\u001b[0m\u001b[1;33m(\u001b[0m\u001b[0marr\u001b[0m\u001b[1;33m,\u001b[0m\u001b[0mloc\u001b[0m\u001b[1;33m+\u001b[0m\u001b[1;36m1\u001b[0m\u001b[1;33m,\u001b[0m\u001b[0mub\u001b[0m\u001b[1;33m)\u001b[0m\u001b[1;33m\u001b[0m\u001b[1;33m\u001b[0m\u001b[0m\n\u001b[0m\u001b[0;32m      7\u001b[0m     \u001b[1;32mreturn\u001b[0m \u001b[0marr\u001b[0m\u001b[1;33m\u001b[0m\u001b[1;33m\u001b[0m\u001b[0m\n",
      "\u001b[1;32m<ipython-input-56-183a48ad6536>\u001b[0m in \u001b[0;36mquickSort\u001b[1;34m(arr, lb, ub)\u001b[0m\n\u001b[0;32m      4\u001b[0m         \u001b[0mloc\u001b[0m \u001b[1;33m=\u001b[0m \u001b[0mparition\u001b[0m\u001b[1;33m(\u001b[0m\u001b[0marr\u001b[0m\u001b[1;33m,\u001b[0m\u001b[0mlb\u001b[0m\u001b[1;33m,\u001b[0m\u001b[0mub\u001b[0m\u001b[1;33m)\u001b[0m\u001b[1;33m\u001b[0m\u001b[1;33m\u001b[0m\u001b[0m\n\u001b[0;32m      5\u001b[0m         \u001b[0mquickSort\u001b[0m\u001b[1;33m(\u001b[0m\u001b[0marr\u001b[0m\u001b[1;33m,\u001b[0m\u001b[0mlb\u001b[0m\u001b[1;33m,\u001b[0m\u001b[0mloc\u001b[0m\u001b[1;33m-\u001b[0m\u001b[1;36m1\u001b[0m\u001b[1;33m)\u001b[0m\u001b[1;33m\u001b[0m\u001b[1;33m\u001b[0m\u001b[0m\n\u001b[1;32m----> 6\u001b[1;33m         \u001b[0mquickSort\u001b[0m\u001b[1;33m(\u001b[0m\u001b[0marr\u001b[0m\u001b[1;33m,\u001b[0m\u001b[0mloc\u001b[0m\u001b[1;33m+\u001b[0m\u001b[1;36m1\u001b[0m\u001b[1;33m,\u001b[0m\u001b[0mub\u001b[0m\u001b[1;33m)\u001b[0m\u001b[1;33m\u001b[0m\u001b[1;33m\u001b[0m\u001b[0m\n\u001b[0m\u001b[0;32m      7\u001b[0m     \u001b[1;32mreturn\u001b[0m \u001b[0marr\u001b[0m\u001b[1;33m\u001b[0m\u001b[1;33m\u001b[0m\u001b[0m\n",
      "\u001b[1;32m<ipython-input-56-183a48ad6536>\u001b[0m in \u001b[0;36mquickSort\u001b[1;34m(arr, lb, ub)\u001b[0m\n\u001b[0;32m      2\u001b[0m     \u001b[0mprint\u001b[0m\u001b[1;33m(\u001b[0m\u001b[1;34mf'lb = {lb} ub={ub}'\u001b[0m\u001b[1;33m)\u001b[0m\u001b[1;33m\u001b[0m\u001b[1;33m\u001b[0m\u001b[0m\n\u001b[0;32m      3\u001b[0m     \u001b[1;32mif\u001b[0m\u001b[1;33m(\u001b[0m\u001b[0mlb\u001b[0m \u001b[1;33m<\u001b[0m \u001b[0mub\u001b[0m\u001b[1;33m)\u001b[0m\u001b[1;33m:\u001b[0m\u001b[1;33m\u001b[0m\u001b[1;33m\u001b[0m\u001b[0m\n\u001b[1;32m----> 4\u001b[1;33m         \u001b[0mloc\u001b[0m \u001b[1;33m=\u001b[0m \u001b[0mparition\u001b[0m\u001b[1;33m(\u001b[0m\u001b[0marr\u001b[0m\u001b[1;33m,\u001b[0m\u001b[0mlb\u001b[0m\u001b[1;33m,\u001b[0m\u001b[0mub\u001b[0m\u001b[1;33m)\u001b[0m\u001b[1;33m\u001b[0m\u001b[1;33m\u001b[0m\u001b[0m\n\u001b[0m\u001b[0;32m      5\u001b[0m         \u001b[0mquickSort\u001b[0m\u001b[1;33m(\u001b[0m\u001b[0marr\u001b[0m\u001b[1;33m,\u001b[0m\u001b[0mlb\u001b[0m\u001b[1;33m,\u001b[0m\u001b[0mloc\u001b[0m\u001b[1;33m-\u001b[0m\u001b[1;36m1\u001b[0m\u001b[1;33m)\u001b[0m\u001b[1;33m\u001b[0m\u001b[1;33m\u001b[0m\u001b[0m\n\u001b[0;32m      6\u001b[0m         \u001b[0mquickSort\u001b[0m\u001b[1;33m(\u001b[0m\u001b[0marr\u001b[0m\u001b[1;33m,\u001b[0m\u001b[0mloc\u001b[0m\u001b[1;33m+\u001b[0m\u001b[1;36m1\u001b[0m\u001b[1;33m,\u001b[0m\u001b[0mub\u001b[0m\u001b[1;33m)\u001b[0m\u001b[1;33m\u001b[0m\u001b[1;33m\u001b[0m\u001b[0m\n",
      "\u001b[1;32m<ipython-input-55-ecc9cfe3be65>\u001b[0m in \u001b[0;36mparition\u001b[1;34m(arr, lb, ub)\u001b[0m\n\u001b[0;32m      6\u001b[0m     \u001b[0mprint\u001b[0m\u001b[1;33m(\u001b[0m\u001b[0mstart\u001b[0m\u001b[1;33m,\u001b[0m\u001b[0mend\u001b[0m\u001b[1;33m)\u001b[0m\u001b[1;33m\u001b[0m\u001b[1;33m\u001b[0m\u001b[0m\n\u001b[0;32m      7\u001b[0m     \u001b[1;32mwhile\u001b[0m\u001b[1;33m(\u001b[0m\u001b[0mstart\u001b[0m\u001b[1;33m<\u001b[0m\u001b[0mend\u001b[0m\u001b[1;33m)\u001b[0m\u001b[1;33m:\u001b[0m\u001b[1;33m\u001b[0m\u001b[1;33m\u001b[0m\u001b[0m\n\u001b[1;32m----> 8\u001b[1;33m         \u001b[1;32mwhile\u001b[0m\u001b[1;33m(\u001b[0m\u001b[0marr\u001b[0m\u001b[1;33m[\u001b[0m\u001b[0mstart\u001b[0m\u001b[1;33m]\u001b[0m \u001b[1;33m<=\u001b[0m \u001b[0mpivot\u001b[0m\u001b[1;33m)\u001b[0m\u001b[1;33m:\u001b[0m\u001b[1;33m\u001b[0m\u001b[1;33m\u001b[0m\u001b[0m\n\u001b[0m\u001b[0;32m      9\u001b[0m             \u001b[0mstart\u001b[0m \u001b[1;33m+=\u001b[0m \u001b[1;36m1\u001b[0m\u001b[1;33m\u001b[0m\u001b[1;33m\u001b[0m\u001b[0m\n\u001b[0;32m     10\u001b[0m \u001b[1;33m\u001b[0m\u001b[0m\n",
      "\u001b[1;31mIndexError\u001b[0m: list index out of range"
     ]
    }
   ],
   "source": [
    "quickSort([7,6,10,5,9,2,1,15,7])"
   ]
  },
  {
   "cell_type": "code",
   "execution_count": null,
   "id": "20c472af",
   "metadata": {},
   "outputs": [],
   "source": []
  },
  {
   "cell_type": "markdown",
   "id": "3c0920be",
   "metadata": {},
   "source": [
    "# Eita Hoise"
   ]
  },
  {
   "cell_type": "code",
   "execution_count": 58,
   "id": "9656b295",
   "metadata": {},
   "outputs": [],
   "source": [
    "def quick_sort(arr):\n",
    "    \n",
    "    quick_sort_help(arr,0,len(arr)-1)\n",
    "\n",
    "def quick_sort_help(arr,first,last):\n",
    "    \n",
    "    if first<last:\n",
    "        \n",
    "\n",
    "        splitpoint = partition(arr,first,last)\n",
    "\n",
    "        quick_sort_help(arr,first,splitpoint-1)\n",
    "        quick_sort_help(arr,splitpoint+1,last)\n",
    "\n",
    "\n",
    "def partition(arr,first,last):\n",
    "    \n",
    "    pivotvalue = arr[first]\n",
    "\n",
    "    leftmark = first+1\n",
    "    rightmark = last\n",
    "\n",
    "    done = False\n",
    "    while not done:\n",
    "\n",
    "        while leftmark <= rightmark and arr[leftmark] <= pivotvalue:\n",
    "            leftmark = leftmark + 1\n",
    "\n",
    "        while arr[rightmark] >= pivotvalue and rightmark >= leftmark:\n",
    "            rightmark = rightmark -1\n",
    "\n",
    "        if rightmark < leftmark:\n",
    "            done = True\n",
    "        else:\n",
    "            arr[leftmark],arr[rightmark] = arr[rightmark],arr[leftmark]\n",
    "            #temp = arr[leftmark]\n",
    "            #arr[leftmark] = arr[rightmark]\n",
    "            #arr[rightmark] = temp\n",
    "    \n",
    "    arr[first],arr[rightmark] = arr[rightmark],arr[first]\n",
    "    #temp = arr[first]\n",
    "    #arr[first] = arr[rightmark]\n",
    "    #arr[rightmark] = temp\n",
    "\n",
    "\n",
    "    return rightmark"
   ]
  },
  {
   "cell_type": "code",
   "execution_count": 59,
   "id": "efa01d36",
   "metadata": {},
   "outputs": [
    {
     "data": {
      "text/plain": [
       "[1, 2, 3, 4, 4, 5, 6, 7, 11, 12]"
      ]
     },
     "execution_count": 59,
     "metadata": {},
     "output_type": "execute_result"
    }
   ],
   "source": [
    "arr = [2,5,4,6,7,3,1,4,12,11]\n",
    "quick_sort(arr)\n",
    "arr"
   ]
  },
  {
   "cell_type": "code",
   "execution_count": 1,
   "id": "a1c2cdd4",
   "metadata": {},
   "outputs": [
    {
     "data": {
      "text/plain": [
       "100"
      ]
     },
     "execution_count": 1,
     "metadata": {},
     "output_type": "execute_result"
    }
   ],
   "source": [
    "10**2"
   ]
  },
  {
   "cell_type": "code",
   "execution_count": 11,
   "id": "75d4f3ab",
   "metadata": {},
   "outputs": [
    {
     "data": {
      "text/plain": [
       "1000"
      ]
     },
     "execution_count": 11,
     "metadata": {},
     "output_type": "execute_result"
    }
   ],
   "source": [
    "10**3"
   ]
  },
  {
   "cell_type": "code",
   "execution_count": 4,
   "id": "4a83e8c5",
   "metadata": {},
   "outputs": [],
   "source": [
    "import math"
   ]
  },
  {
   "cell_type": "code",
   "execution_count": 14,
   "id": "d44fa86c",
   "metadata": {},
   "outputs": [],
   "source": [
    "def getDigit(num,i):\n",
    "    return math.floor(abs(num)/math.pow(10,i))%10"
   ]
  },
  {
   "cell_type": "code",
   "execution_count": 36,
   "id": "67627994",
   "metadata": {},
   "outputs": [
    {
     "data": {
      "text/plain": [
       "5"
      ]
     },
     "execution_count": 36,
     "metadata": {},
     "output_type": "execute_result"
    }
   ],
   "source": [
    "getDigit(5425,0)"
   ]
  },
  {
   "cell_type": "code",
   "execution_count": 15,
   "id": "994a9394",
   "metadata": {},
   "outputs": [
    {
     "data": {
      "text/plain": [
       "1"
      ]
     },
     "execution_count": 15,
     "metadata": {},
     "output_type": "execute_result"
    }
   ],
   "source": [
    "getDigit(-123,2)"
   ]
  },
  {
   "cell_type": "code",
   "execution_count": 12,
   "id": "ec7ae5b4",
   "metadata": {},
   "outputs": [
    {
     "data": {
      "text/plain": [
       "12"
      ]
     },
     "execution_count": 12,
     "metadata": {},
     "output_type": "execute_result"
    }
   ],
   "source": [
    "math.floor(12.3)"
   ]
  },
  {
   "cell_type": "code",
   "execution_count": 16,
   "id": "3722f901",
   "metadata": {},
   "outputs": [],
   "source": [
    "def digiitCount(num):\n",
    "    if num == 0 : return 1\n",
    "    return math.floor(math.log10(abs(num)))+1"
   ]
  },
  {
   "cell_type": "code",
   "execution_count": 17,
   "id": "bbdfb8bd",
   "metadata": {},
   "outputs": [
    {
     "data": {
      "text/plain": [
       "4"
      ]
     },
     "execution_count": 17,
     "metadata": {},
     "output_type": "execute_result"
    }
   ],
   "source": [
    "digiitCount(1324)"
   ]
  },
  {
   "cell_type": "code",
   "execution_count": 18,
   "id": "d3fe911c",
   "metadata": {},
   "outputs": [],
   "source": [
    "def mostDigit(arr):\n",
    "    maxDigit = 0\n",
    "    for i in range(0,len(arr)):\n",
    "        maxDigit = max(maxDigit,digiitCount(arr[i]))\n",
    "    return maxDigit"
   ]
  },
  {
   "cell_type": "code",
   "execution_count": 19,
   "id": "6a2a47bb",
   "metadata": {},
   "outputs": [
    {
     "data": {
      "text/plain": [
       "5"
      ]
     },
     "execution_count": 19,
     "metadata": {},
     "output_type": "execute_result"
    }
   ],
   "source": [
    "mostDigit([12,54,278,87851,542])"
   ]
  },
  {
   "cell_type": "code",
   "execution_count": 26,
   "id": "1c146533",
   "metadata": {},
   "outputs": [],
   "source": [
    "arr = [[1,2],[3],[4,5]]\n",
    "newarr = [*arr,[10]]"
   ]
  },
  {
   "cell_type": "code",
   "execution_count": 45,
   "id": "d2ca5d31",
   "metadata": {},
   "outputs": [
    {
     "data": {
      "text/plain": [
       "[[1, 2], [3], [4, 5], [10]]"
      ]
     },
     "execution_count": 45,
     "metadata": {},
     "output_type": "execute_result"
    }
   ],
   "source": [
    "newarr"
   ]
  },
  {
   "cell_type": "code",
   "execution_count": 46,
   "id": "22cd6235",
   "metadata": {},
   "outputs": [],
   "source": [
    "nums = [*newarr]"
   ]
  },
  {
   "cell_type": "code",
   "execution_count": 51,
   "id": "7302401b",
   "metadata": {},
   "outputs": [],
   "source": [
    "nums = [*nums]"
   ]
  },
  {
   "cell_type": "code",
   "execution_count": 49,
   "id": "545e52ea",
   "metadata": {},
   "outputs": [
    {
     "data": {
      "text/plain": [
       "[[1, 2], [3], [4, 5], [10]]"
      ]
     },
     "execution_count": 49,
     "metadata": {},
     "output_type": "execute_result"
    }
   ],
   "source": [
    "nums"
   ]
  },
  {
   "cell_type": "code",
   "execution_count": 53,
   "id": "63ef7047",
   "metadata": {},
   "outputs": [],
   "source": [
    "import numpy as np"
   ]
  },
  {
   "cell_type": "code",
   "execution_count": 54,
   "id": "d18c354e",
   "metadata": {},
   "outputs": [
    {
     "ename": "AttributeError",
     "evalue": "module 'numpy' has no attribute 'concat'",
     "output_type": "error",
     "traceback": [
      "\u001b[1;31m---------------------------------------------------------------------------\u001b[0m",
      "\u001b[1;31mAttributeError\u001b[0m                            Traceback (most recent call last)",
      "\u001b[1;32m<ipython-input-54-3ad490cf1a61>\u001b[0m in \u001b[0;36m<module>\u001b[1;34m\u001b[0m\n\u001b[1;32m----> 1\u001b[1;33m \u001b[0mnums\u001b[0m \u001b[1;33m=\u001b[0m \u001b[0mnp\u001b[0m\u001b[1;33m.\u001b[0m\u001b[0mconcat\u001b[0m\u001b[1;33m(\u001b[0m\u001b[1;33m[\u001b[0m\u001b[1;33m]\u001b[0m\u001b[1;33m,\u001b[0m\u001b[0mnums\u001b[0m\u001b[1;33m)\u001b[0m\u001b[1;33m\u001b[0m\u001b[1;33m\u001b[0m\u001b[0m\n\u001b[0m\u001b[0;32m      2\u001b[0m \u001b[0mprint\u001b[0m\u001b[1;33m(\u001b[0m\u001b[0mnums\u001b[0m\u001b[1;33m)\u001b[0m\u001b[1;33m\u001b[0m\u001b[1;33m\u001b[0m\u001b[0m\n",
      "\u001b[1;32m~\\anaconda3\\lib\\site-packages\\numpy\\__init__.py\u001b[0m in \u001b[0;36m__getattr__\u001b[1;34m(attr)\u001b[0m\n\u001b[0;32m    217\u001b[0m                 \u001b[1;32mreturn\u001b[0m \u001b[0mTester\u001b[0m\u001b[1;33m\u001b[0m\u001b[1;33m\u001b[0m\u001b[0m\n\u001b[0;32m    218\u001b[0m             \u001b[1;32melse\u001b[0m\u001b[1;33m:\u001b[0m\u001b[1;33m\u001b[0m\u001b[1;33m\u001b[0m\u001b[0m\n\u001b[1;32m--> 219\u001b[1;33m                 raise AttributeError(\"module {!r} has no attribute \"\n\u001b[0m\u001b[0;32m    220\u001b[0m                                      \"{!r}\".format(__name__, attr))\n\u001b[0;32m    221\u001b[0m \u001b[1;33m\u001b[0m\u001b[0m\n",
      "\u001b[1;31mAttributeError\u001b[0m: module 'numpy' has no attribute 'concat'"
     ]
    }
   ],
   "source": [
    "nums = np.concat([],nums)\n",
    "print(nums)"
   ]
  },
  {
   "cell_type": "code",
   "execution_count": 31,
   "id": "147626cc",
   "metadata": {},
   "outputs": [
    {
     "name": "stdout",
     "output_type": "stream",
     "text": [
      "[[], [], [], [], [], [], [], [], [], []]\n"
     ]
    }
   ],
   "source": [
    "digitBuckets = [[] for i in range(10)]\n",
    "print(digitBuckets)"
   ]
  },
  {
   "cell_type": "code",
   "execution_count": 43,
   "id": "8f1807ec",
   "metadata": {},
   "outputs": [],
   "source": [
    "def radixSort(arr):\n",
    "    maxDigit = mostDigit(arr);\n",
    "    for k in range(0,maxDigit):\n",
    "        digitBuckets = [[] for i in range(10)]\n",
    "        for i in range(0,len(arr)):\n",
    "            digit = getDigit(arr[i],k)\n",
    "            digitBuckets[digit].append(arr[i])\n",
    "        arr = [*digitBuckets]\n",
    "        print(arr)\n",
    "    return arr"
   ]
  },
  {
   "cell_type": "code",
   "execution_count": 44,
   "id": "affe7884",
   "metadata": {},
   "outputs": [
    {
     "name": "stdout",
     "output_type": "stream",
     "text": [
      "[[10], [], [12, 342], [23], [34], [5], [5426], [], [], []]\n"
     ]
    },
    {
     "ename": "TypeError",
     "evalue": "bad operand type for abs(): 'list'",
     "output_type": "error",
     "traceback": [
      "\u001b[1;31m---------------------------------------------------------------------------\u001b[0m",
      "\u001b[1;31mTypeError\u001b[0m                                 Traceback (most recent call last)",
      "\u001b[1;32m<ipython-input-44-59e5c68e4f2d>\u001b[0m in \u001b[0;36m<module>\u001b[1;34m\u001b[0m\n\u001b[1;32m----> 1\u001b[1;33m \u001b[0mradixSort\u001b[0m\u001b[1;33m(\u001b[0m\u001b[1;33m[\u001b[0m\u001b[1;36m5426\u001b[0m\u001b[1;33m,\u001b[0m\u001b[1;36m12\u001b[0m\u001b[1;33m,\u001b[0m\u001b[1;36m23\u001b[0m\u001b[1;33m,\u001b[0m\u001b[1;36m34\u001b[0m\u001b[1;33m,\u001b[0m\u001b[1;36m10\u001b[0m\u001b[1;33m,\u001b[0m\u001b[1;36m342\u001b[0m\u001b[1;33m,\u001b[0m\u001b[1;36m5\u001b[0m\u001b[1;33m]\u001b[0m\u001b[1;33m)\u001b[0m\u001b[1;33m\u001b[0m\u001b[1;33m\u001b[0m\u001b[0m\n\u001b[0m",
      "\u001b[1;32m<ipython-input-43-3905b48bb29e>\u001b[0m in \u001b[0;36mradixSort\u001b[1;34m(arr)\u001b[0m\n\u001b[0;32m      4\u001b[0m         \u001b[0mdigitBuckets\u001b[0m \u001b[1;33m=\u001b[0m \u001b[1;33m[\u001b[0m\u001b[1;33m[\u001b[0m\u001b[1;33m]\u001b[0m \u001b[1;32mfor\u001b[0m \u001b[0mi\u001b[0m \u001b[1;32min\u001b[0m \u001b[0mrange\u001b[0m\u001b[1;33m(\u001b[0m\u001b[1;36m10\u001b[0m\u001b[1;33m)\u001b[0m\u001b[1;33m]\u001b[0m\u001b[1;33m\u001b[0m\u001b[1;33m\u001b[0m\u001b[0m\n\u001b[0;32m      5\u001b[0m         \u001b[1;32mfor\u001b[0m \u001b[0mi\u001b[0m \u001b[1;32min\u001b[0m \u001b[0mrange\u001b[0m\u001b[1;33m(\u001b[0m\u001b[1;36m0\u001b[0m\u001b[1;33m,\u001b[0m\u001b[0mlen\u001b[0m\u001b[1;33m(\u001b[0m\u001b[0marr\u001b[0m\u001b[1;33m)\u001b[0m\u001b[1;33m)\u001b[0m\u001b[1;33m:\u001b[0m\u001b[1;33m\u001b[0m\u001b[1;33m\u001b[0m\u001b[0m\n\u001b[1;32m----> 6\u001b[1;33m             \u001b[0mdigit\u001b[0m \u001b[1;33m=\u001b[0m \u001b[0mgetDigit\u001b[0m\u001b[1;33m(\u001b[0m\u001b[0marr\u001b[0m\u001b[1;33m[\u001b[0m\u001b[0mi\u001b[0m\u001b[1;33m]\u001b[0m\u001b[1;33m,\u001b[0m\u001b[0mk\u001b[0m\u001b[1;33m)\u001b[0m\u001b[1;33m\u001b[0m\u001b[1;33m\u001b[0m\u001b[0m\n\u001b[0m\u001b[0;32m      7\u001b[0m             \u001b[0mdigitBuckets\u001b[0m\u001b[1;33m[\u001b[0m\u001b[0mdigit\u001b[0m\u001b[1;33m]\u001b[0m\u001b[1;33m.\u001b[0m\u001b[0mappend\u001b[0m\u001b[1;33m(\u001b[0m\u001b[0marr\u001b[0m\u001b[1;33m[\u001b[0m\u001b[0mi\u001b[0m\u001b[1;33m]\u001b[0m\u001b[1;33m)\u001b[0m\u001b[1;33m\u001b[0m\u001b[1;33m\u001b[0m\u001b[0m\n\u001b[0;32m      8\u001b[0m         \u001b[0marr\u001b[0m \u001b[1;33m=\u001b[0m \u001b[1;33m[\u001b[0m\u001b[1;33m*\u001b[0m\u001b[0mdigitBuckets\u001b[0m\u001b[1;33m]\u001b[0m\u001b[1;33m\u001b[0m\u001b[1;33m\u001b[0m\u001b[0m\n",
      "\u001b[1;32m<ipython-input-14-405c6144d061>\u001b[0m in \u001b[0;36mgetDigit\u001b[1;34m(num, i)\u001b[0m\n\u001b[0;32m      1\u001b[0m \u001b[1;32mdef\u001b[0m \u001b[0mgetDigit\u001b[0m\u001b[1;33m(\u001b[0m\u001b[0mnum\u001b[0m\u001b[1;33m,\u001b[0m\u001b[0mi\u001b[0m\u001b[1;33m)\u001b[0m\u001b[1;33m:\u001b[0m\u001b[1;33m\u001b[0m\u001b[1;33m\u001b[0m\u001b[0m\n\u001b[1;32m----> 2\u001b[1;33m     \u001b[1;32mreturn\u001b[0m \u001b[0mmath\u001b[0m\u001b[1;33m.\u001b[0m\u001b[0mfloor\u001b[0m\u001b[1;33m(\u001b[0m\u001b[0mabs\u001b[0m\u001b[1;33m(\u001b[0m\u001b[0mnum\u001b[0m\u001b[1;33m)\u001b[0m\u001b[1;33m/\u001b[0m\u001b[0mmath\u001b[0m\u001b[1;33m.\u001b[0m\u001b[0mpow\u001b[0m\u001b[1;33m(\u001b[0m\u001b[1;36m10\u001b[0m\u001b[1;33m,\u001b[0m\u001b[0mi\u001b[0m\u001b[1;33m)\u001b[0m\u001b[1;33m)\u001b[0m\u001b[1;33m%\u001b[0m\u001b[1;36m10\u001b[0m\u001b[1;33m\u001b[0m\u001b[1;33m\u001b[0m\u001b[0m\n\u001b[0m",
      "\u001b[1;31mTypeError\u001b[0m: bad operand type for abs(): 'list'"
     ]
    }
   ],
   "source": [
    "radixSort([5426,12,23,34,10,342,5])"
   ]
  },
  {
   "cell_type": "code",
   "execution_count": 38,
   "id": "cfd555f0",
   "metadata": {},
   "outputs": [
    {
     "name": "stdout",
     "output_type": "stream",
     "text": [
      "4\n"
     ]
    }
   ],
   "source": [
    "digit = getDigit(5425,2)\n",
    "print(digit)"
   ]
  },
  {
   "cell_type": "code",
   "execution_count": 2,
   "id": "8d024771",
   "metadata": {},
   "outputs": [],
   "source": [
    "class Node:\n",
    "    \n",
    "    def __init__(self,item):\n",
    "        self.item = item\n",
    "        self.next = None\n",
    "    "
   ]
  },
  {
   "cell_type": "code",
   "execution_count": 35,
   "id": "a9ac81e8",
   "metadata": {},
   "outputs": [],
   "source": [
    "class LinkList:\n",
    "    def __init__(self):\n",
    "        self.head = None\n",
    "        self.tail = None\n",
    "    def insert(self,val):\n",
    "        newNode = Node(val)\n",
    "        if(self.head == None):\n",
    "            self.head = newNode\n",
    "            self.tail = newNode\n",
    "        else:\n",
    "            self.tail.next = newNode\n",
    "            self.tail = newNode\n",
    "    def pop(self):\n",
    "        if(self.head==None): \n",
    "            return None\n",
    "        current = self.head\n",
    "        newTail  = current\n",
    "        while(current.next != None):\n",
    "            newTail = current\n",
    "            current = current.next\n",
    "        self.tail = newTail"
   ]
  },
  {
   "cell_type": "code",
   "execution_count": 36,
   "id": "2bf54aa3",
   "metadata": {},
   "outputs": [],
   "source": [
    "l = LinkList()"
   ]
  },
  {
   "cell_type": "code",
   "execution_count": 37,
   "id": "0f049065",
   "metadata": {},
   "outputs": [],
   "source": [
    "l.insert(5)"
   ]
  },
  {
   "cell_type": "code",
   "execution_count": 38,
   "id": "74a99614",
   "metadata": {},
   "outputs": [],
   "source": [
    "l.insert(10)"
   ]
  },
  {
   "cell_type": "code",
   "execution_count": 39,
   "id": "d34784d7",
   "metadata": {},
   "outputs": [
    {
     "data": {
      "text/plain": [
       "10"
      ]
     },
     "execution_count": 39,
     "metadata": {},
     "output_type": "execute_result"
    }
   ],
   "source": [
    "l.tail.item"
   ]
  },
  {
   "cell_type": "code",
   "execution_count": 40,
   "id": "94da9339",
   "metadata": {},
   "outputs": [
    {
     "data": {
      "text/plain": [
       "10"
      ]
     },
     "execution_count": 40,
     "metadata": {},
     "output_type": "execute_result"
    }
   ],
   "source": [
    "l.head.next.item"
   ]
  },
  {
   "cell_type": "code",
   "execution_count": 41,
   "id": "ea07ac73",
   "metadata": {},
   "outputs": [],
   "source": [
    "l.pop()"
   ]
  },
  {
   "cell_type": "code",
   "execution_count": 42,
   "id": "61c16344",
   "metadata": {},
   "outputs": [
    {
     "data": {
      "text/plain": [
       "5"
      ]
     },
     "execution_count": 42,
     "metadata": {},
     "output_type": "execute_result"
    }
   ],
   "source": [
    "l.head.item"
   ]
  },
  {
   "cell_type": "code",
   "execution_count": 43,
   "id": "8b9da497",
   "metadata": {},
   "outputs": [
    {
     "data": {
      "text/plain": [
       "5"
      ]
     },
     "execution_count": 43,
     "metadata": {},
     "output_type": "execute_result"
    }
   ],
   "source": [
    "l.tail.item"
   ]
  },
  {
   "cell_type": "code",
   "execution_count": 27,
   "id": "208fe7cc",
   "metadata": {},
   "outputs": [],
   "source": [
    "class Node:\n",
    "    def __init__(self,value):\n",
    "        self.value = value\n",
    "        self.next = None\n",
    "        self.prev = None\n",
    "\n",
    "class DoublLinkList:\n",
    "    def __init__(self):\n",
    "        self.head = None\n",
    "        self.tail = None\n",
    "        self.length = 0\n",
    "    def insert(self,val):\n",
    "        newNode = Node(val)\n",
    "        if(self.head == None):\n",
    "            self.head = newNode\n",
    "            self.tail = newNode\n",
    "            self.length += 1\n",
    "            return self\n",
    "        self.tail.next = newNode\n",
    "        newNode.prev = self.tail\n",
    "        self.tail = newNode\n",
    "        self.length += 1\n",
    "    def pop(self):\n",
    "        if self.head == None:\n",
    "            return None\n",
    "        current = self.head\n",
    "        while(current.next != None):\n",
    "            newTail= current\n",
    "            newTail.prev = current \n",
    "            current = current.next\n",
    "            self.length -= 1\n",
    "        self.tail = newTail"
   ]
  },
  {
   "cell_type": "code",
   "execution_count": 28,
   "id": "f261cfaa",
   "metadata": {},
   "outputs": [],
   "source": [
    "d = DoublLinkList()\n",
    "d.insert(2)\n",
    "d.insert(5)\n",
    "d.insert(10)"
   ]
  },
  {
   "cell_type": "code",
   "execution_count": 29,
   "id": "3e528711",
   "metadata": {},
   "outputs": [
    {
     "data": {
      "text/plain": [
       "2"
      ]
     },
     "execution_count": 29,
     "metadata": {},
     "output_type": "execute_result"
    }
   ],
   "source": [
    "d.head.value"
   ]
  },
  {
   "cell_type": "code",
   "execution_count": 30,
   "id": "13a534f9",
   "metadata": {},
   "outputs": [
    {
     "data": {
      "text/plain": [
       "5"
      ]
     },
     "execution_count": 30,
     "metadata": {},
     "output_type": "execute_result"
    }
   ],
   "source": [
    "d.head.next.value"
   ]
  },
  {
   "cell_type": "code",
   "execution_count": 31,
   "id": "9efae6d7",
   "metadata": {},
   "outputs": [
    {
     "data": {
      "text/plain": [
       "5"
      ]
     },
     "execution_count": 31,
     "metadata": {},
     "output_type": "execute_result"
    }
   ],
   "source": [
    "d.tail.prev.value"
   ]
  },
  {
   "cell_type": "code",
   "execution_count": 32,
   "id": "2c18dabb",
   "metadata": {},
   "outputs": [
    {
     "data": {
      "text/plain": [
       "3"
      ]
     },
     "execution_count": 32,
     "metadata": {},
     "output_type": "execute_result"
    }
   ],
   "source": [
    "d.length"
   ]
  },
  {
   "cell_type": "code",
   "execution_count": 33,
   "id": "4f53d082",
   "metadata": {},
   "outputs": [],
   "source": [
    "d.pop()"
   ]
  },
  {
   "cell_type": "code",
   "execution_count": 34,
   "id": "aeb219d7",
   "metadata": {},
   "outputs": [
    {
     "data": {
      "text/plain": [
       "1"
      ]
     },
     "execution_count": 34,
     "metadata": {},
     "output_type": "execute_result"
    }
   ],
   "source": [
    "d.length"
   ]
  },
  {
   "cell_type": "code",
   "execution_count": 37,
   "id": "d519ae4b",
   "metadata": {},
   "outputs": [
    {
     "data": {
      "text/plain": [
       "5"
      ]
     },
     "execution_count": 37,
     "metadata": {},
     "output_type": "execute_result"
    }
   ],
   "source": [
    "d.head.next.value"
   ]
  },
  {
   "cell_type": "code",
   "execution_count": 4,
   "id": "a1b5e55c",
   "metadata": {},
   "outputs": [],
   "source": [
    "class Node:\n",
    "    def __init__(self,value):\n",
    "        self.value = value\n",
    "        self.left = None\n",
    "        self.right = None"
   ]
  },
  {
   "cell_type": "code",
   "execution_count": 317,
   "id": "e9214a39",
   "metadata": {},
   "outputs": [],
   "source": [
    "class BinaryTree:\n",
    "    def __init__(self):\n",
    "        self.root = None\n",
    "    \n",
    "    def insert(self,value):\n",
    "        newNode = Node(value)\n",
    "        if self.root == None:\n",
    "            self.root = newNode\n",
    "            return\n",
    "        current = self.root\n",
    "        while(True):\n",
    "            if value == current.value:\n",
    "                return None\n",
    "            if(value < current.value):\n",
    "                if(current.left == None):\n",
    "                    current.left = newNode\n",
    "                    return self\n",
    "                current = current.left\n",
    "            else:\n",
    "                if(current.right == None):\n",
    "                    current.right = newNode\n",
    "                    return self\n",
    "                current = current.right\n",
    "    \n",
    "    def find(self,value):\n",
    "        if self.root == None:\n",
    "            return False\n",
    "        current = self.root\n",
    "        if current.value == value:\n",
    "            return True\n",
    "        while((current.left != None) | (current.right != None)):\n",
    "            if(value < current.value):\n",
    "                if value == current.value:\n",
    "                    return True\n",
    "                if current.left == None:\n",
    "                    return False\n",
    "                current = current.left\n",
    "            else:\n",
    "                if value == current.value:\n",
    "                    return True\n",
    "                if current.right == None:\n",
    "                    return None\n",
    "                current = current.right\n",
    "    def bfs(self):\n",
    "        queue = []\n",
    "        visited = []\n",
    "        i=0\n",
    "        if(self.root != None):\n",
    "            queue.append(self.root)\n",
    "        while(len(queue)>0):\n",
    "            if queue[i].left != None:\n",
    "                queue.append(queue[i].left)\n",
    "            if queue[i].right != None:\n",
    "                queue.append(queue[i].right)\n",
    "            visited.append(queue[i])\n",
    "            queue.pop(0)\n",
    "        return visited\n",
    "    \n",
    "    def dfsPre(self):\n",
    "        visited = []\n",
    "        if self.root != None:\n",
    "            visited.append(self.root)\n",
    "            current = self.root\n",
    "        def helper(current):\n",
    "            if(current.left != None):\n",
    "                visited.append(current.left)\n",
    "                helper(current.left)\n",
    "            if current.right != None:\n",
    "                visited.append(current.right)\n",
    "                helper(current.right)\n",
    "            return visited\n",
    "        return helper(current)\n",
    "    def dfsPost(self):\n",
    "        visited = []\n",
    "        if self.root == None:\n",
    "            return None\n",
    "        def helper(current):\n",
    "            if(current.left != None):\n",
    "                helper(current.left)\n",
    "            if(current.right != None):\n",
    "                helper(current.right)\n",
    "            visited.append(current)\n",
    "        helper(self.root)\n",
    "        return visited\n",
    "    def dfsIn(self):\n",
    "        visited = []\n",
    "        if(self.root == None):\n",
    "            return None\n",
    "        def helper(current):\n",
    "            if(current.left != None):\n",
    "                helper(current.left)\n",
    "            visited.append(current)\n",
    "            if(current.right != None):\n",
    "                helper(current.right)\n",
    "        helper(self.root)\n",
    "        return visited"
   ]
  },
  {
   "cell_type": "code",
   "execution_count": 318,
   "id": "bfdab1c1",
   "metadata": {},
   "outputs": [],
   "source": [
    "tree = BinaryTree()"
   ]
  },
  {
   "cell_type": "code",
   "execution_count": 319,
   "id": "b4fdf60b",
   "metadata": {},
   "outputs": [
    {
     "data": {
      "text/plain": [
       "<__main__.BinaryTree at 0x229c7502e50>"
      ]
     },
     "execution_count": 319,
     "metadata": {},
     "output_type": "execute_result"
    }
   ],
   "source": [
    "tree.insert(10)\n",
    "tree.insert(5)\n",
    "tree.insert(13)\n",
    "tree.insert(11)\n",
    "tree.insert(2)\n",
    "tree.insert(16)\n",
    "tree.insert(7)"
   ]
  },
  {
   "cell_type": "code",
   "execution_count": 320,
   "id": "3820280b",
   "metadata": {},
   "outputs": [
    {
     "name": "stdout",
     "output_type": "stream",
     "text": [
      "10\n"
     ]
    }
   ],
   "source": [
    "print(tree.root.value)"
   ]
  },
  {
   "cell_type": "code",
   "execution_count": 321,
   "id": "6aa35b58",
   "metadata": {},
   "outputs": [
    {
     "data": {
      "text/plain": [
       "16"
      ]
     },
     "execution_count": 321,
     "metadata": {},
     "output_type": "execute_result"
    }
   ],
   "source": [
    "tree.root.right.right.value"
   ]
  },
  {
   "cell_type": "code",
   "execution_count": 322,
   "id": "469d242e",
   "metadata": {},
   "outputs": [
    {
     "name": "stdout",
     "output_type": "stream",
     "text": [
      "True\n"
     ]
    }
   ],
   "source": [
    "print(tree.find(10))"
   ]
  },
  {
   "cell_type": "code",
   "execution_count": 323,
   "id": "9cc47e16",
   "metadata": {},
   "outputs": [],
   "source": [
    "store = tree.bfs()"
   ]
  },
  {
   "cell_type": "code",
   "execution_count": 324,
   "id": "4aefa202",
   "metadata": {},
   "outputs": [
    {
     "data": {
      "text/plain": [
       "7"
      ]
     },
     "execution_count": 324,
     "metadata": {},
     "output_type": "execute_result"
    }
   ],
   "source": [
    "len(store)"
   ]
  },
  {
   "cell_type": "code",
   "execution_count": 325,
   "id": "d41eccd9",
   "metadata": {},
   "outputs": [
    {
     "name": "stdout",
     "output_type": "stream",
     "text": [
      "10\n",
      "5\n",
      "13\n",
      "2\n",
      "7\n",
      "11\n",
      "16\n"
     ]
    }
   ],
   "source": [
    "for i in range(0,len(store)):\n",
    "    print(store[i].value)"
   ]
  },
  {
   "cell_type": "code",
   "execution_count": 326,
   "id": "a7985f9e",
   "metadata": {},
   "outputs": [],
   "source": [
    "dfspre = tree.dfsPre()"
   ]
  },
  {
   "cell_type": "code",
   "execution_count": 327,
   "id": "e30cc2e4",
   "metadata": {},
   "outputs": [
    {
     "data": {
      "text/plain": [
       "7"
      ]
     },
     "execution_count": 327,
     "metadata": {},
     "output_type": "execute_result"
    }
   ],
   "source": [
    "len(dfspre)"
   ]
  },
  {
   "cell_type": "code",
   "execution_count": 328,
   "id": "a704f22e",
   "metadata": {},
   "outputs": [
    {
     "name": "stdout",
     "output_type": "stream",
     "text": [
      "10\n",
      "5\n",
      "2\n",
      "7\n",
      "13\n",
      "11\n",
      "16\n"
     ]
    }
   ],
   "source": [
    "for i in range(0,len(dfspre)):\n",
    "    print(dfspre[i].value)"
   ]
  },
  {
   "cell_type": "code",
   "execution_count": 329,
   "id": "db1aa249",
   "metadata": {},
   "outputs": [],
   "source": [
    "dfspost = tree.dfsPost()"
   ]
  },
  {
   "cell_type": "code",
   "execution_count": 330,
   "id": "cd3a36fa",
   "metadata": {},
   "outputs": [
    {
     "data": {
      "text/plain": [
       "7"
      ]
     },
     "execution_count": 330,
     "metadata": {},
     "output_type": "execute_result"
    }
   ],
   "source": [
    "len(dfspost)"
   ]
  },
  {
   "cell_type": "code",
   "execution_count": 331,
   "id": "69a19a43",
   "metadata": {},
   "outputs": [
    {
     "name": "stdout",
     "output_type": "stream",
     "text": [
      "2\n",
      "7\n",
      "5\n",
      "11\n",
      "16\n",
      "13\n",
      "10\n"
     ]
    }
   ],
   "source": [
    "for i in range(0,len(dfspost)):\n",
    "    print(dfspost[i].value)"
   ]
  },
  {
   "cell_type": "code",
   "execution_count": 332,
   "id": "38d6ed78",
   "metadata": {},
   "outputs": [],
   "source": [
    "dfsIn = tree.dfsIn()"
   ]
  },
  {
   "cell_type": "code",
   "execution_count": 333,
   "id": "5bdf1cf7",
   "metadata": {},
   "outputs": [
    {
     "data": {
      "text/plain": [
       "7"
      ]
     },
     "execution_count": 333,
     "metadata": {},
     "output_type": "execute_result"
    }
   ],
   "source": [
    "len(dfsIn)"
   ]
  },
  {
   "cell_type": "code",
   "execution_count": 334,
   "id": "c6b76aa8",
   "metadata": {},
   "outputs": [
    {
     "name": "stdout",
     "output_type": "stream",
     "text": [
      "2\n",
      "5\n",
      "7\n",
      "10\n",
      "11\n",
      "13\n",
      "16\n"
     ]
    }
   ],
   "source": [
    "for i in range(0,len(dfsIn)):\n",
    "    print(dfsIn[i].value)"
   ]
  },
  {
   "cell_type": "code",
   "execution_count": 1,
   "id": "78f718cf",
   "metadata": {},
   "outputs": [
    {
     "data": {
      "text/plain": [
       "0"
      ]
     },
     "execution_count": 1,
     "metadata": {},
     "output_type": "execute_result"
    }
   ],
   "source": [
    "arr = []\n",
    "len(arr)"
   ]
  },
  {
   "cell_type": "code",
   "execution_count": 2,
   "id": "5418aecd",
   "metadata": {},
   "outputs": [],
   "source": [
    "import math"
   ]
  },
  {
   "cell_type": "code",
   "execution_count": 102,
   "id": "1510fe2c",
   "metadata": {},
   "outputs": [],
   "source": [
    "class MaxBinaryHeap:\n",
    "    def __init__(self):\n",
    "        self.items = []\n",
    "    def insert(self,value):\n",
    "        if(len(self.items) == 0):\n",
    "            self.items.append(value)\n",
    "            return value\n",
    "        self.items.append(value)\n",
    "        changingPosition = len(self.items)-1\n",
    "        parentIndex =math.floor((len(self.items)-1)/2)\n",
    "        while(self.items[parentIndex] < self.items[changingPosition]):\n",
    "            self.items[parentIndex],self.items[changingPosition] = self.items[changingPosition],self.items[parentIndex]\n",
    "            changingPosition = parentIndex\n",
    "            parentIndex = math.floor(abs(parentIndex-1)/2)\n",
    "        return self.items\n",
    "    def remove(self):\n",
    "        if len(self.items) == 0:\n",
    "            return None\n",
    "        self.items[0],self.items[len(self.items)-1] = self.items[len(self.items)-1],self.items[0]\n",
    "        self.items.pop()\n",
    "        i = 0\n",
    "        firstChild = 2*i+1\n",
    "        secondChild = 2*i+2\n",
    "        while(i<len(self.items)):\n",
    "            if(self.items[firstChild] > self.items[i]):\n",
    "                self.items[firstChild],self.items[i] = self.items[i],self.items[firstChild]\n",
    "            if(self.items[secondChild] > self.items[i]):\n",
    "                self.items[secondChild],self.items[i] = self.items[i],self.items[secondChild]\n",
    "            i+=1\n",
    "            firstChild = 2*i+1\n",
    "            secondChild = 2*i+2\n",
    "            if((firstChild > len(self.items)) | (secondChild > len(self.items))):\n",
    "                return self.items\n",
    "            continue;\n",
    "        return self.items\n",
    "        "
   ]
  },
  {
   "cell_type": "code",
   "execution_count": 103,
   "id": "59fa3e06",
   "metadata": {},
   "outputs": [],
   "source": [
    "mbh = MaxBinaryHeap()"
   ]
  },
  {
   "cell_type": "code",
   "execution_count": 104,
   "id": "b1e8ee8b",
   "metadata": {},
   "outputs": [
    {
     "data": {
      "text/plain": [
       "[55, 33, 39, 18, 12, 27]"
      ]
     },
     "execution_count": 104,
     "metadata": {},
     "output_type": "execute_result"
    }
   ],
   "source": [
    "mbh.insert(27)\n",
    "mbh.insert(39)\n",
    "mbh.insert(33)\n",
    "mbh.insert(18)\n",
    "mbh.insert(12) \n",
    "mbh.insert(55)"
   ]
  },
  {
   "cell_type": "code",
   "execution_count": 105,
   "id": "d8c16ac8",
   "metadata": {},
   "outputs": [
    {
     "data": {
      "text/plain": [
       "[39, 27, 33, 18, 12]"
      ]
     },
     "execution_count": 105,
     "metadata": {},
     "output_type": "execute_result"
    }
   ],
   "source": [
    "mbh.remove()"
   ]
  },
  {
   "cell_type": "code",
   "execution_count": null,
   "id": "0f62ce20",
   "metadata": {},
   "outputs": [],
   "source": []
  },
  {
   "cell_type": "code",
   "execution_count": 35,
   "id": "43014e52",
   "metadata": {},
   "outputs": [],
   "source": [
    "class Graph:\n",
    "    def __init__(self):\n",
    "        self.adjacencyList={}\n",
    "    def addVertex(self,vertex):\n",
    "        if(vertex in self.adjacencyList):\n",
    "            return None\n",
    "        else:\n",
    "            self.adjacencyList[vertex] = []\n",
    "            return self.adjacencyList\n",
    "    def addEdge(self,vertex1,vertex2):\n",
    "        if(vertex1 in self.adjacencyList):\n",
    "            self.adjacencyList[vertex1].append(vertex2)\n",
    "        if(vertex2 in self.adjacencyList):\n",
    "            self.adjacencyList[vertex2].append(vertex1)\n",
    "        return self.adjacencyList"
   ]
  },
  {
   "cell_type": "code",
   "execution_count": 36,
   "id": "7d1bd18e",
   "metadata": {},
   "outputs": [
    {
     "data": {
      "text/plain": [
       "{'Tokoyo': [], 'Berlin': [], 'Denvar': []}"
      ]
     },
     "execution_count": 36,
     "metadata": {},
     "output_type": "execute_result"
    }
   ],
   "source": [
    "g = Graph()\n",
    "g.addVertex('Tokoyo')\n",
    "g.addVertex('Berlin')\n",
    "g.addVertex('Denvar')"
   ]
  },
  {
   "cell_type": "code",
   "execution_count": 37,
   "id": "4c7f8d02",
   "metadata": {},
   "outputs": [
    {
     "data": {
      "text/plain": [
       "{'Tokoyo': ['Denvar'], 'Berlin': [], 'Denvar': ['Tokoyo']}"
      ]
     },
     "execution_count": 37,
     "metadata": {},
     "output_type": "execute_result"
    }
   ],
   "source": [
    "g.addEdge('Tokoyo','Denvar')"
   ]
  },
  {
   "cell_type": "code",
   "execution_count": 41,
   "id": "62038138",
   "metadata": {},
   "outputs": [
    {
     "data": {
      "text/plain": [
       "{'Tokoyo': ['Denvar', 'Berlin'], 'Berlin': ['Tokoyo'], 'Denvar': ['Tokoyo']}"
      ]
     },
     "execution_count": 41,
     "metadata": {},
     "output_type": "execute_result"
    }
   ],
   "source": [
    "g.addEdge('Berlin','Tokoyo')"
   ]
  },
  {
   "cell_type": "code",
   "execution_count": null,
   "id": "c18248f2",
   "metadata": {},
   "outputs": [],
   "source": []
  },
  {
   "cell_type": "code",
   "execution_count": 42,
   "id": "287a8f9f",
   "metadata": {},
   "outputs": [],
   "source": [
    "adjacenyList = {'Tokoyo': ['Denvar', 'Berlin'], 'Berlin': ['Tokoyo'], 'Denvar': ['Tokoyo']}"
   ]
  },
  {
   "cell_type": "code",
   "execution_count": 49,
   "id": "85b1ea09",
   "metadata": {
    "scrolled": true
   },
   "outputs": [],
   "source": [
    "adjacenyList = filter(lambda num: print(num),adjacenyList)"
   ]
  },
  {
   "cell_type": "code",
   "execution_count": 51,
   "id": "3826084b",
   "metadata": {},
   "outputs": [
    {
     "name": "stdout",
     "output_type": "stream",
     "text": [
      "<filter object at 0x000001386E0FB310>\n"
     ]
    }
   ],
   "source": [
    "print(adjacenyList)"
   ]
  },
  {
   "cell_type": "code",
   "execution_count": 3,
   "id": "6d70bb27",
   "metadata": {},
   "outputs": [],
   "source": [
    "class Vertex:\n",
    "    def __init__(self,key):\n",
    "        self.id = key\n",
    "        self.connectedTo = {}\n",
    "    def addNeighbor(self,nbr,weight=0):\n",
    "        self.connectedTo[nbr] = weight\n",
    "    def __str__(self):\n",
    "        return f'{str(self.id)} connectedTo: {str([x.id for x in self.connectedTo])}'\n",
    "        #return str(self.id) + ' connectedTo: ' + str([x.id for x in self.connectedTo])\n",
    "    def getConnections(self):\n",
    "        return self.connectedTo.keys()\n",
    "    def getId(self):\n",
    "        return self.id\n",
    "    def getWeight(self,nbr):\n",
    "        return self.connectedTo[nbr]"
   ]
  },
  {
   "cell_type": "code",
   "execution_count": 25,
   "id": "3fbe63aa",
   "metadata": {},
   "outputs": [],
   "source": [
    "v = Vertex('v0')\n",
    "v.addNeighbor('v1',5)\n",
    "v.addNeighbor('v5',2)"
   ]
  },
  {
   "cell_type": "code",
   "execution_count": 32,
   "id": "9033283a",
   "metadata": {},
   "outputs": [
    {
     "data": {
      "text/plain": [
       "{'v1': 5, 'v5': 2}"
      ]
     },
     "execution_count": 32,
     "metadata": {},
     "output_type": "execute_result"
    }
   ],
   "source": [
    "v.connectedTo"
   ]
  },
  {
   "cell_type": "code",
   "execution_count": 34,
   "id": "8bbe74d0",
   "metadata": {},
   "outputs": [
    {
     "data": {
      "text/plain": [
       "True"
      ]
     },
     "execution_count": 34,
     "metadata": {},
     "output_type": "execute_result"
    }
   ],
   "source": [
    "store  = {'v1': 5, 'v5': 2}\n",
    "'v1' in store"
   ]
  },
  {
   "cell_type": "code",
   "execution_count": 31,
   "id": "c1cbcd54",
   "metadata": {},
   "outputs": [
    {
     "data": {
      "text/plain": [
       "5"
      ]
     },
     "execution_count": 31,
     "metadata": {},
     "output_type": "execute_result"
    }
   ],
   "source": [
    "v.getWeight('v1')"
   ]
  },
  {
   "cell_type": "code",
   "execution_count": 17,
   "id": "50154d05",
   "metadata": {},
   "outputs": [
    {
     "data": {
      "text/plain": [
       "dict_keys(['v1', 'v5'])"
      ]
     },
     "execution_count": 17,
     "metadata": {},
     "output_type": "execute_result"
    }
   ],
   "source": [
    "v.getConnections()"
   ]
  },
  {
   "cell_type": "code",
   "execution_count": 18,
   "id": "db00616b",
   "metadata": {},
   "outputs": [],
   "source": [
    "class Graph:\n",
    "    def __init__(self):\n",
    "        self.vertList={}\n",
    "        self.numOfVertices = 0\n",
    "    \n",
    "    def addVertex(self,key):\n",
    "        self.numOfVertices = self.numOfVertices+1\n",
    "        newVertex = Vertex(key)\n",
    "        self.vertList[key]=newVertex\n",
    "        return newVertex\n",
    "    \n",
    "    def getVertex(self,n):\n",
    "        if n in self.vertList:\n",
    "            return self.vertList[n]\n",
    "        else:\n",
    "            return None\n",
    "    \n",
    "    def __contains__(self,n):\n",
    "        return n in self.vertList\n",
    "    \n",
    "    def addEdge(self,f,t,cost=0):\n",
    "        if f not in self.vertList:\n",
    "            nv = self.addVertex(f)\n",
    "        if t not in self.vertList:\n",
    "            nv = self.addVertex(t)\n",
    "        self.vertList[f].addNeighbor(self.vertList[t],cost)\n",
    "    \n",
    "    def getVertices(self):\n",
    "        return self.vertList.keys()\n",
    "\n",
    "    def __iter__(self):\n",
    "        return iter(self.vertList.values())"
   ]
  },
  {
   "cell_type": "code",
   "execution_count": 19,
   "id": "7ce93353",
   "metadata": {},
   "outputs": [],
   "source": [
    "g = Graph()\n",
    "g.addVertex('V0')\n",
    "g.addVertex('V1')\n",
    "g.addVertex('V2')\n",
    "g.addVertex('V3')\n",
    "g.addVertex('V4')\n",
    "g.addVertex('V5')\n",
    "\n",
    "g.addEdge('V0','V1',5)\n",
    "g.addEdge('V0','V5',2)\n",
    "g.addEdge('V1','V2',4)\n",
    "g.addEdge('V2','V3',9)\n",
    "g.addEdge('V3','V4',7)\n",
    "g.addEdge('V3','V5',3)\n",
    "g.addEdge('V4','V0',1)\n",
    "g.addEdge('V5','V2',1)\n",
    "g.addEdge('V5','V4',8)"
   ]
  },
  {
   "cell_type": "code",
   "execution_count": 20,
   "id": "92aac5ee",
   "metadata": {},
   "outputs": [
    {
     "data": {
      "text/plain": [
       "{'V0': <__main__.Vertex at 0x242150df850>,\n",
       " 'V1': <__main__.Vertex at 0x242150dfa60>,\n",
       " 'V2': <__main__.Vertex at 0x242150dfa30>,\n",
       " 'V3': <__main__.Vertex at 0x242150dfaf0>,\n",
       " 'V4': <__main__.Vertex at 0x242150dfb20>,\n",
       " 'V5': <__main__.Vertex at 0x242150dfb50>}"
      ]
     },
     "execution_count": 20,
     "metadata": {},
     "output_type": "execute_result"
    }
   ],
   "source": [
    "g.vertList"
   ]
  },
  {
   "cell_type": "code",
   "execution_count": 21,
   "id": "8ce30be1",
   "metadata": {},
   "outputs": [],
   "source": [
    "#g.addEdge(0,1,2)"
   ]
  },
  {
   "cell_type": "code",
   "execution_count": 22,
   "id": "97edb72c",
   "metadata": {},
   "outputs": [
    {
     "name": "stdout",
     "output_type": "stream",
     "text": [
      "V0 connectedTo: ['V1', 'V5']\n",
      "dict_keys([<__main__.Vertex object at 0x00000242150DFA60>, <__main__.Vertex object at 0x00000242150DFB50>])\n",
      "\n",
      "\n",
      "V1 connectedTo: ['V2']\n",
      "dict_keys([<__main__.Vertex object at 0x00000242150DFA30>])\n",
      "\n",
      "\n",
      "V2 connectedTo: ['V3']\n",
      "dict_keys([<__main__.Vertex object at 0x00000242150DFAF0>])\n",
      "\n",
      "\n",
      "V3 connectedTo: ['V4', 'V5']\n",
      "dict_keys([<__main__.Vertex object at 0x00000242150DFB20>, <__main__.Vertex object at 0x00000242150DFB50>])\n",
      "\n",
      "\n",
      "V4 connectedTo: ['V0']\n",
      "dict_keys([<__main__.Vertex object at 0x00000242150DF850>])\n",
      "\n",
      "\n",
      "V5 connectedTo: ['V2', 'V4']\n",
      "dict_keys([<__main__.Vertex object at 0x00000242150DFA30>, <__main__.Vertex object at 0x00000242150DFB20>])\n",
      "\n",
      "\n"
     ]
    }
   ],
   "source": [
    "for vertex in g:\n",
    "    print(vertex)\n",
    "    print(vertex.getConnections())\n",
    "    print('\\n')"
   ]
  },
  {
   "cell_type": "code",
   "execution_count": 23,
   "id": "55046200",
   "metadata": {},
   "outputs": [
    {
     "data": {
      "text/plain": [
       "{<__main__.Vertex at 0x242150dfa60>: 5, <__main__.Vertex at 0x242150dfb50>: 2}"
      ]
     },
     "execution_count": 23,
     "metadata": {},
     "output_type": "execute_result"
    }
   ],
   "source": [
    "g.vertList['V0'].connectedTo"
   ]
  },
  {
   "cell_type": "code",
   "execution_count": 2,
   "id": "d5d85280",
   "metadata": {},
   "outputs": [],
   "source": [
    "import math\n",
    "def rotateFindMinimums(nums):\n",
    "    result = 500000\n",
    "    left = 0;\n",
    "    right = len(nums)-1\n",
    "    middle = math.floor((left+right)/2)\n",
    "    while(result > nums[middle]):\n",
    "        if(nums[middle] < result):\n",
    "            result = nums[middle]\n",
    "        if(nums[middle] > nums[left]):\n",
    "            left = middle +1;\n",
    "        else:\n",
    "            right = middle -1\n",
    "        middle = math.floor((left+right)/2)\n",
    "    return result"
   ]
  },
  {
   "cell_type": "code",
   "execution_count": 7,
   "id": "01827635",
   "metadata": {},
   "outputs": [
    {
     "data": {
      "text/plain": [
       "-1"
      ]
     },
     "execution_count": 7,
     "metadata": {},
     "output_type": "execute_result"
    }
   ],
   "source": [
    "rotateFindMinimums([3,4,5,1,2])"
   ]
  },
  {
   "cell_type": "code",
   "execution_count": null,
   "id": "ecbe0f78",
   "metadata": {},
   "outputs": [],
   "source": []
  }
 ],
 "metadata": {
  "kernelspec": {
   "display_name": "Python 3",
   "language": "python",
   "name": "python3"
  },
  "language_info": {
   "codemirror_mode": {
    "name": "ipython",
    "version": 3
   },
   "file_extension": ".py",
   "mimetype": "text/x-python",
   "name": "python",
   "nbconvert_exporter": "python",
   "pygments_lexer": "ipython3",
   "version": "3.8.8"
  }
 },
 "nbformat": 4,
 "nbformat_minor": 5
}
