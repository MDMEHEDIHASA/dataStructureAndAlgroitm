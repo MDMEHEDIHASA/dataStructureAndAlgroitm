{
 "cells": [
  {
   "cell_type": "code",
   "execution_count": 58,
   "id": "21401bfd",
   "metadata": {},
   "outputs": [],
   "source": [
    "class User:\n",
    "    active_users = 0\n",
    "    \n",
    "    @classmethod\n",
    "    def display_active_users(cls):\n",
    "        print(cls)\n",
    "    \n",
    "    def __init__(self, first, last, age):\n",
    "        self.first = first\n",
    "        self.last = last\n",
    "        self.age = age\n",
    "        User.active_users += 1\n",
    "    \n",
    "    def __repr__(self):\n",
    "        return f\"{self.first} is {self.age}\"\n",
    "    \n",
    "    def logout(self):\n",
    "        User.active_users -= 1\n",
    "        return f\"{self.first} has logged out\"\n",
    "    \n",
    "    def full_name(self):\n",
    "        return f\"{self.first} {self.last}\"\n",
    "    \n",
    "    def initials(self):\n",
    "        return f\"{self.first[0]}.{self.last[0]}.\"\n",
    "    \n",
    "    def likes(self, thing):\n",
    "        return f\"{self.first} likes {thing}\"\n",
    "    \n",
    "    def is_senior(self):\n",
    "        return self.age >= 65\n",
    "    \n",
    "    def birthday(self):\n",
    "        self.age += 1\n",
    "        return f\"Happy {self.age}th, {self.first}\"\n"
   ]
  },
  {
   "cell_type": "code",
   "execution_count": 59,
   "id": "4084fe3d",
   "metadata": {},
   "outputs": [],
   "source": [
    "user1 = User('mehedi','hasan',22)\n",
    "user2 = User('joe','ross',25)"
   ]
  },
  {
   "cell_type": "code",
   "execution_count": 60,
   "id": "f974725a",
   "metadata": {},
   "outputs": [
    {
     "name": "stdout",
     "output_type": "stream",
     "text": [
      "mehedi is 22\n"
     ]
    }
   ],
   "source": [
    "print(user1)"
   ]
  },
  {
   "cell_type": "code",
   "execution_count": 55,
   "id": "e369816f",
   "metadata": {},
   "outputs": [
    {
     "name": "stdout",
     "output_type": "stream",
     "text": [
      "2\n"
     ]
    }
   ],
   "source": [
    "print(User.active_users)"
   ]
  },
  {
   "cell_type": "code",
   "execution_count": 57,
   "id": "8f4b90a0",
   "metadata": {},
   "outputs": [
    {
     "name": "stdout",
     "output_type": "stream",
     "text": [
      "<class '__main__.User'>\n"
     ]
    }
   ],
   "source": [
    "User.display_active_users()"
   ]
  },
  {
   "cell_type": "code",
   "execution_count": 41,
   "id": "da623301",
   "metadata": {},
   "outputs": [
    {
     "name": "stdout",
     "output_type": "stream",
     "text": [
      "My full name is mehedi hasan\n"
     ]
    }
   ],
   "source": [
    "user1.fullName()"
   ]
  },
  {
   "cell_type": "code",
   "execution_count": 42,
   "id": "86e379e2",
   "metadata": {},
   "outputs": [
    {
     "name": "stdout",
     "output_type": "stream",
     "text": [
      "mehedi likes choclate\n"
     ]
    }
   ],
   "source": [
    "user1.likes('choclate')"
   ]
  },
  {
   "cell_type": "code",
   "execution_count": 17,
   "id": "86ab2332",
   "metadata": {},
   "outputs": [
    {
     "data": {
      "text/plain": [
       "__main__.User"
      ]
     },
     "execution_count": 17,
     "metadata": {},
     "output_type": "execute_result"
    }
   ],
   "source": [
    "type(mehedi)"
   ]
  },
  {
   "cell_type": "code",
   "execution_count": 20,
   "id": "5f912896",
   "metadata": {},
   "outputs": [
    {
     "name": "stdout",
     "output_type": "stream",
     "text": [
      "mehedi\n"
     ]
    }
   ],
   "source": [
    "print(user1.first)"
   ]
  },
  {
   "cell_type": "code",
   "execution_count": 21,
   "id": "e021c6f8",
   "metadata": {},
   "outputs": [
    {
     "name": "stdout",
     "output_type": "stream",
     "text": [
      "['__class__', '__delattr__', '__dict__', '__dir__', '__doc__', '__eq__', '__format__', '__ge__', '__getattribute__', '__gt__', '__hash__', '__init__', '__init_subclass__', '__le__', '__lt__', '__module__', '__ne__', '__new__', '__reduce__', '__reduce_ex__', '__repr__', '__setattr__', '__sizeof__', '__str__', '__subclasshook__', '__weakref__', 'age', 'first', 'last']\n"
     ]
    }
   ],
   "source": [
    "print(dir(user1))"
   ]
  },
  {
   "cell_type": "markdown",
   "id": "4bd4e666",
   "metadata": {},
   "source": [
    "# Inheritence"
   ]
  },
  {
   "cell_type": "code",
   "execution_count": 9,
   "id": "1c8661c3",
   "metadata": {},
   "outputs": [],
   "source": [
    "class Animal:\n",
    "    cool = True\n",
    "    def make_sound(self,sound):\n",
    "        print(f\"This animal says {sound}\")\n",
    "        \n",
    "class Cat(Animal):\n",
    "    pass"
   ]
  },
  {
   "cell_type": "code",
   "execution_count": 10,
   "id": "e07505c7",
   "metadata": {},
   "outputs": [],
   "source": [
    "blue = Cat()\n",
    "a = Animal()"
   ]
  },
  {
   "cell_type": "code",
   "execution_count": 11,
   "id": "5cfdfd26",
   "metadata": {},
   "outputs": [
    {
     "name": "stdout",
     "output_type": "stream",
     "text": [
      "This animal says meow\n"
     ]
    }
   ],
   "source": [
    "blue.make_sound('meow')"
   ]
  },
  {
   "cell_type": "code",
   "execution_count": 12,
   "id": "de939c2b",
   "metadata": {},
   "outputs": [
    {
     "name": "stdout",
     "output_type": "stream",
     "text": [
      "This animal says fuck\n"
     ]
    }
   ],
   "source": [
    "a.make_sound('fuck')"
   ]
  },
  {
   "cell_type": "markdown",
   "id": "e81e8e8c",
   "metadata": {},
   "source": [
    "Properties"
   ]
  },
  {
   "cell_type": "code",
   "execution_count": 15,
   "id": "bd5c1e9a",
   "metadata": {},
   "outputs": [],
   "source": [
    "class Human:\n",
    "    def __init__(self,first,last,age):\n",
    "        self.first = first\n",
    "        self.last = last\n",
    "        if age >=0:\n",
    "            self._age = age\n",
    "            #private\n",
    "        else:\n",
    "            self._age = 0\n",
    "    \n",
    "    #def get_age(self):\n",
    "        #return self._age\n",
    "    \n",
    "    #def set_age(self,newage):\n",
    "        #if newage >=0:\n",
    "            #self._age = newage\n",
    "            #private\n",
    "        #else:\n",
    "            #self._age = 0\n",
    "    \n",
    "    @property\n",
    "    def age(self):\n",
    "        return self._age\n",
    "    @age.setter\n",
    "    def age(self,value):\n",
    "        if value >=0:\n",
    "            self._age = value\n",
    "        else:\n",
    "            raise ValueError(\"age can't be negative\")\n",
    "    @property\n",
    "    def fullName(self):\n",
    "        return self.first + ' ' + self.last\n",
    "    "
   ]
  },
  {
   "cell_type": "code",
   "execution_count": 16,
   "id": "2210b1cf",
   "metadata": {},
   "outputs": [],
   "source": [
    "jane = Human('mehedi','hasan',9)"
   ]
  },
  {
   "cell_type": "code",
   "execution_count": 17,
   "id": "b78821d3",
   "metadata": {},
   "outputs": [
    {
     "data": {
      "text/plain": [
       "'mehedi hasan'"
      ]
     },
     "execution_count": 17,
     "metadata": {},
     "output_type": "execute_result"
    }
   ],
   "source": [
    "jane.fullName"
   ]
  },
  {
   "cell_type": "code",
   "execution_count": 6,
   "id": "350e6a20",
   "metadata": {},
   "outputs": [
    {
     "data": {
      "text/plain": [
       "9"
      ]
     },
     "execution_count": 6,
     "metadata": {},
     "output_type": "execute_result"
    }
   ],
   "source": [
    "jane.age"
   ]
  },
  {
   "cell_type": "code",
   "execution_count": 8,
   "id": "0a5d4397",
   "metadata": {},
   "outputs": [
    {
     "ename": "ValueError",
     "evalue": "age can't be negative",
     "output_type": "error",
     "traceback": [
      "\u001b[1;31m---------------------------------------------------------------------------\u001b[0m",
      "\u001b[1;31mValueError\u001b[0m                                Traceback (most recent call last)",
      "\u001b[1;32m<ipython-input-8-d3f16656afab>\u001b[0m in \u001b[0;36m<module>\u001b[1;34m\u001b[0m\n\u001b[1;32m----> 1\u001b[1;33m \u001b[0mjane\u001b[0m\u001b[1;33m.\u001b[0m\u001b[0mage\u001b[0m \u001b[1;33m=\u001b[0m \u001b[1;33m-\u001b[0m\u001b[1;36m9\u001b[0m\u001b[1;33m\u001b[0m\u001b[1;33m\u001b[0m\u001b[0m\n\u001b[0m",
      "\u001b[1;32m<ipython-input-4-1a1a6c23222c>\u001b[0m in \u001b[0;36mage\u001b[1;34m(self, value)\u001b[0m\n\u001b[0;32m     27\u001b[0m             \u001b[0mself\u001b[0m\u001b[1;33m.\u001b[0m\u001b[0m_age\u001b[0m \u001b[1;33m=\u001b[0m \u001b[0mvalue\u001b[0m\u001b[1;33m\u001b[0m\u001b[1;33m\u001b[0m\u001b[0m\n\u001b[0;32m     28\u001b[0m         \u001b[1;32melse\u001b[0m\u001b[1;33m:\u001b[0m\u001b[1;33m\u001b[0m\u001b[1;33m\u001b[0m\u001b[0m\n\u001b[1;32m---> 29\u001b[1;33m             \u001b[1;32mraise\u001b[0m \u001b[0mValueError\u001b[0m\u001b[1;33m(\u001b[0m\u001b[1;34m\"age can't be negative\"\u001b[0m\u001b[1;33m)\u001b[0m\u001b[1;33m\u001b[0m\u001b[1;33m\u001b[0m\u001b[0m\n\u001b[0m\u001b[0;32m     30\u001b[0m \u001b[1;33m\u001b[0m\u001b[0m\n",
      "\u001b[1;31mValueError\u001b[0m: age can't be negative"
     ]
    }
   ],
   "source": [
    "jane.age = -9"
   ]
  },
  {
   "cell_type": "code",
   "execution_count": 10,
   "id": "b0fe4084",
   "metadata": {},
   "outputs": [],
   "source": [
    "jane.age = 45"
   ]
  },
  {
   "cell_type": "code",
   "execution_count": 11,
   "id": "a1df282a",
   "metadata": {},
   "outputs": [
    {
     "data": {
      "text/plain": [
       "45"
      ]
     },
     "execution_count": 11,
     "metadata": {},
     "output_type": "execute_result"
    }
   ],
   "source": [
    "jane.age"
   ]
  },
  {
   "cell_type": "code",
   "execution_count": 16,
   "id": "66c18232",
   "metadata": {},
   "outputs": [
    {
     "data": {
      "text/plain": [
       "9"
      ]
     },
     "execution_count": 16,
     "metadata": {},
     "output_type": "execute_result"
    }
   ],
   "source": [
    "jane.get_age()"
   ]
  },
  {
   "cell_type": "code",
   "execution_count": 17,
   "id": "e0b075cd",
   "metadata": {},
   "outputs": [],
   "source": [
    "jane.set_age(45)"
   ]
  },
  {
   "cell_type": "code",
   "execution_count": 18,
   "id": "e252df89",
   "metadata": {},
   "outputs": [
    {
     "data": {
      "text/plain": [
       "45"
      ]
     },
     "execution_count": 18,
     "metadata": {},
     "output_type": "execute_result"
    }
   ],
   "source": [
    "jane.get_age()"
   ]
  },
  {
   "cell_type": "code",
   "execution_count": 39,
   "id": "dda38fe7",
   "metadata": {},
   "outputs": [],
   "source": [
    "class Animal:\n",
    "     def __init__(self,name,species):\n",
    "        self.name = name\n",
    "        self.species = species\n",
    "    \n",
    "     def __repr__(self):\n",
    "        return f\"{self.name} is a {self.species}\"\n",
    "    \n",
    "     def make_sound(self,sound):\n",
    "        print(f\"This animal says {sound}\")\n",
    "    \n",
    "        \n",
    "class Cat(Animal):\n",
    "    def __init__(self,name,species,breed,toy):\n",
    "        #Animal.__init__(self,name,species)\n",
    "        super().__init__(name,species)\n",
    "        self.breed = breed\n",
    "        self.toy = toy\n",
    "    "
   ]
  },
  {
   "cell_type": "code",
   "execution_count": 40,
   "id": "efaadeb9",
   "metadata": {},
   "outputs": [],
   "source": [
    "blue = Animal('cat','ager')"
   ]
  },
  {
   "cell_type": "code",
   "execution_count": 41,
   "id": "3b65a602",
   "metadata": {},
   "outputs": [],
   "source": [
    "jone = Cat('dog','fucker','bark','hen')"
   ]
  },
  {
   "cell_type": "code",
   "execution_count": 42,
   "id": "07b23aee",
   "metadata": {},
   "outputs": [
    {
     "name": "stdout",
     "output_type": "stream",
     "text": [
      "cat is a ager\n"
     ]
    }
   ],
   "source": [
    "print(blue)"
   ]
  },
  {
   "cell_type": "code",
   "execution_count": 43,
   "id": "879d80f2",
   "metadata": {},
   "outputs": [
    {
     "name": "stdout",
     "output_type": "stream",
     "text": [
      "dog is a fucker\n"
     ]
    }
   ],
   "source": [
    "print(jone)"
   ]
  },
  {
   "cell_type": "code",
   "execution_count": 1,
   "id": "ae60d017",
   "metadata": {},
   "outputs": [],
   "source": [
    "class User:\n",
    "    active_users = 0\n",
    "    \n",
    "    @classmethod\n",
    "    def display_active_users(cls):\n",
    "        print(cls)\n",
    "    \n",
    "    def __init__(self, first, last, age):\n",
    "        self.first = first\n",
    "        self.last = last\n",
    "        self.age = age\n",
    "        User.active_users += 1\n",
    "    \n",
    "    def __repr__(self):\n",
    "        return f\"{self.first} is {self.age}\"\n",
    "    \n",
    "    def logout(self):\n",
    "        User.active_users -= 1\n",
    "        return f\"{self.first} has logged out\"\n",
    "    \n",
    "    def full_name(self):\n",
    "        return f\"{self.first} {self.last}\"\n",
    "    \n",
    "    def initials(self):\n",
    "        return f\"{self.first[0]}.{self.last[0]}.\"\n",
    "    \n",
    "    def likes(self, thing):\n",
    "        return f\"{self.first} likes {thing}\"\n",
    "    \n",
    "    def is_senior(self):\n",
    "        return self.age >= 65\n",
    "    \n",
    "    def birthday(self):\n",
    "        self.age += 1\n",
    "        return f\"Happy {self.age}th, {self.first}\"\n"
   ]
  },
  {
   "cell_type": "code",
   "execution_count": 12,
   "id": "6f3d5b4e",
   "metadata": {},
   "outputs": [],
   "source": [
    "class Moderator(User):\n",
    "    total_mod = 0\n",
    "    def __init__(self,first,last,age,community):\n",
    "        super().__init__(first,last,age)\n",
    "        self.community = community\n",
    "        Moderator.total_mod += 1\n",
    "        \n",
    "    def display_active_mods(self):\n",
    "        return f\"There are currently {Moderator.total_mod} mods\"\n",
    "    def remove_post(self):\n",
    "        return f\"{self.full_name()} remove a post from the {self.community} community\"\n",
    "    "
   ]
  },
  {
   "cell_type": "code",
   "execution_count": 17,
   "id": "84e125cb",
   "metadata": {},
   "outputs": [],
   "source": [
    "jasmine = Moderator(\"jasmine\",\"o'corner\",61,\"piano\")\n",
    "jasmine2 = Moderator(\"jasmine\",\"o'corner\",61,\"piano\")"
   ]
  },
  {
   "cell_type": "code",
   "execution_count": 18,
   "id": "a1c83d1b",
   "metadata": {},
   "outputs": [
    {
     "data": {
      "text/plain": [
       "\"jasmine o'corner\""
      ]
     },
     "execution_count": 18,
     "metadata": {},
     "output_type": "execute_result"
    }
   ],
   "source": [
    "jasmine.full_name()"
   ]
  },
  {
   "cell_type": "code",
   "execution_count": 19,
   "id": "f5185b2d",
   "metadata": {},
   "outputs": [
    {
     "data": {
      "text/plain": [
       "\"jasmine o'corner remove a post from the piano community\""
      ]
     },
     "execution_count": 19,
     "metadata": {},
     "output_type": "execute_result"
    }
   ],
   "source": [
    "jasmine.remove_post()"
   ]
  },
  {
   "cell_type": "code",
   "execution_count": 20,
   "id": "ecc4af11",
   "metadata": {},
   "outputs": [
    {
     "data": {
      "text/plain": [
       "'There are currently 3 mods'"
      ]
     },
     "execution_count": 20,
     "metadata": {},
     "output_type": "execute_result"
    }
   ],
   "source": [
    "jasmine.display_active_mods()"
   ]
  },
  {
   "cell_type": "code",
   "execution_count": 21,
   "id": "16cbb5fa",
   "metadata": {},
   "outputs": [],
   "source": [
    "class Aquatic:\n",
    "    def __init__(self,name):\n",
    "        print(\"AQUATIC INIT!\")\n",
    "        self.name = name\n",
    "\n",
    "    def swim(self):\n",
    "        return f\"{self.name} is swimming\"\n",
    "\n",
    "    def greet(self):\n",
    "        return f\"I am {self.name} of the sea!\"\n",
    "\n",
    "\n",
    "\n",
    "class Ambulatory:\n",
    "    def __init__(self,name):\n",
    "        print(\"AMBULATORY INIT!\")\n",
    "        self.name = name\n",
    "\n",
    "    def walk(self):\n",
    "        return f\"{self.name} is walking\"\n",
    "\n",
    "    def greet(self):\n",
    "        return f\"I am {self.name} of the land!\"\n",
    "\n",
    "\n",
    "\n",
    "class Penguin(Ambulatory, Aquatic):\n",
    "    def __init__(self,name):\n",
    "        print(\"PENGUIN INIT!\")\n",
    "        super().__init__(name=name)\n",
    "        # Ambulatory.__init__(self,name=name)\n",
    "        # Aquatic.__init__(self, name=name)"
   ]
  },
  {
   "cell_type": "code",
   "execution_count": 22,
   "id": "51bff275",
   "metadata": {},
   "outputs": [
    {
     "name": "stdout",
     "output_type": "stream",
     "text": [
      "AQUATIC INIT!\n",
      "AMBULATORY INIT!\n",
      "PENGUIN INIT!\n",
      "AMBULATORY INIT!\n"
     ]
    }
   ],
   "source": [
    "jaws = Aquatic(\"Jaws\")\n",
    "lassie = Ambulatory(\"Lassie\")\n",
    "captain_cook = Penguin(\"Captain Cook\")"
   ]
  },
  {
   "cell_type": "code",
   "execution_count": 23,
   "id": "095651e6",
   "metadata": {},
   "outputs": [
    {
     "data": {
      "text/plain": [
       "'Captain Cook is swimming'"
      ]
     },
     "execution_count": 23,
     "metadata": {},
     "output_type": "execute_result"
    }
   ],
   "source": [
    "captain_cook.swim()"
   ]
  },
  {
   "cell_type": "code",
   "execution_count": 24,
   "id": "25bdcc1e",
   "metadata": {},
   "outputs": [
    {
     "data": {
      "text/plain": [
       "'Captain Cook is walking'"
      ]
     },
     "execution_count": 24,
     "metadata": {},
     "output_type": "execute_result"
    }
   ],
   "source": [
    "captain_cook.walk()"
   ]
  },
  {
   "cell_type": "code",
   "execution_count": 25,
   "id": "d9a5c4b5",
   "metadata": {},
   "outputs": [
    {
     "data": {
      "text/plain": [
       "'I am Captain Cook of the land!'"
      ]
     },
     "execution_count": 25,
     "metadata": {},
     "output_type": "execute_result"
    }
   ],
   "source": [
    "captain_cook.greet()"
   ]
  },
  {
   "cell_type": "code",
   "execution_count": 26,
   "id": "2634669d",
   "metadata": {},
   "outputs": [
    {
     "name": "stdout",
     "output_type": "stream",
     "text": [
      "captain_cook is instance of Penguin: True\n",
      "captain_cook is instance of Aquatic: True\n",
      "captain_cook is instance of Ambulatory: True\n"
     ]
    }
   ],
   "source": [
    "print(f\"captain_cook is instance of Penguin: {isinstance(captain_cook, Penguin)}\")\n",
    "print(f\"captain_cook is instance of Aquatic: {isinstance(captain_cook, Aquatic)}\")\n",
    "print(f\"captain_cook is instance of Ambulatory: {isinstance(captain_cook, Ambulatory)}\")"
   ]
  },
  {
   "cell_type": "code",
   "execution_count": null,
   "id": "d65e8796",
   "metadata": {},
   "outputs": [],
   "source": []
  }
 ],
 "metadata": {
  "kernelspec": {
   "display_name": "Python 3",
   "language": "python",
   "name": "python3"
  },
  "language_info": {
   "codemirror_mode": {
    "name": "ipython",
    "version": 3
   },
   "file_extension": ".py",
   "mimetype": "text/x-python",
   "name": "python",
   "nbconvert_exporter": "python",
   "pygments_lexer": "ipython3",
   "version": "3.8.8"
  }
 },
 "nbformat": 4,
 "nbformat_minor": 5
}
