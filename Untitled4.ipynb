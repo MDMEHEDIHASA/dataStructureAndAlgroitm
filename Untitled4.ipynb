{
 "cells": [
  {
   "cell_type": "code",
   "execution_count": 29,
   "id": "cb509f1b",
   "metadata": {},
   "outputs": [],
   "source": [
    "def threeSum(arr):\n",
    "    visited = {}\n",
    "    arr.sort()\n",
    "    store = []\n",
    "    for i in range(len(arr)):\n",
    "        for j in range(i+1,len(arr)):\n",
    "            for k in range(j+1,len(arr)):\n",
    "                if arr[i] + arr[j] + arr[k] == 0:\n",
    "                    if tuple([arr[i],arr[j],arr[k]]) not in visited:\n",
    "                        visited[tuple([arr[i],arr[j],arr[k]])] = True\n",
    "    for item in visited:\n",
    "        store.append(list(item))\n",
    "    return store"
   ]
  },
  {
   "cell_type": "code",
   "execution_count": 30,
   "id": "a2fe9414",
   "metadata": {},
   "outputs": [
    {
     "data": {
      "text/plain": [
       "[[-1, -1, 2], [-1, 0, 1]]"
      ]
     },
     "execution_count": 30,
     "metadata": {},
     "output_type": "execute_result"
    }
   ],
   "source": [
    "threeSum([-1,0,1,2,-1,-4])"
   ]
  },
  {
   "cell_type": "code",
   "execution_count": null,
   "id": "6a47ba50",
   "metadata": {},
   "outputs": [],
   "source": []
  }
 ],
 "metadata": {
  "kernelspec": {
   "display_name": "Python 3",
   "language": "python",
   "name": "python3"
  },
  "language_info": {
   "codemirror_mode": {
    "name": "ipython",
    "version": 3
   },
   "file_extension": ".py",
   "mimetype": "text/x-python",
   "name": "python",
   "nbconvert_exporter": "python",
   "pygments_lexer": "ipython3",
   "version": "3.8.8"
  }
 },
 "nbformat": 4,
 "nbformat_minor": 5
}
