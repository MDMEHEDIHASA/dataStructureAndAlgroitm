{
 "cells": [
  {
   "cell_type": "code",
   "execution_count": 29,
   "id": "9a0a6343",
   "metadata": {},
   "outputs": [],
   "source": [
    "class WeightedGraph:\n",
    "    def __init__(self):\n",
    "        self.adjacencylist = {}\n",
    "    def addVertex(self,vertex):\n",
    "        if vertex not in self.adjacencylist:\n",
    "            self.adjacencylist[vertex]=[]\n",
    "        return self.adjacencylist\n",
    "    def addEdge(self,vertex1,vertex2,weight=0):\n",
    "        if vertex1 not in self.adjacencylist:\n",
    "            self.adjacencylist[vertex1] = []\n",
    "        elif vertex2 not in self.adjacencylist:\n",
    "            self.adjacencylist[vertex2] = []\n",
    "        else:\n",
    "            self.adjacencylist[vertex1].append({'node':vertex2,'weight':weight})\n",
    "            self.adjacencylist[vertex2].append({'node':vertex1,'weight':weight})\n",
    "        return self.adjacencylist"
   ]
  },
  {
   "cell_type": "code",
   "execution_count": 30,
   "id": "38caa9be",
   "metadata": {},
   "outputs": [],
   "source": [
    "graph = WeightedGraph()"
   ]
  },
  {
   "cell_type": "code",
   "execution_count": 31,
   "id": "629b8e03",
   "metadata": {},
   "outputs": [
    {
     "data": {
      "text/plain": [
       "{}"
      ]
     },
     "execution_count": 31,
     "metadata": {},
     "output_type": "execute_result"
    }
   ],
   "source": [
    "graph.adjacencylist"
   ]
  },
  {
   "cell_type": "code",
   "execution_count": 32,
   "id": "2c1e0ab9",
   "metadata": {},
   "outputs": [
    {
     "data": {
      "text/plain": [
       "{'A': [], 'B': []}"
      ]
     },
     "execution_count": 32,
     "metadata": {},
     "output_type": "execute_result"
    }
   ],
   "source": [
    "graph.addVertex('A')\n",
    "graph.addVertex('B')\n"
   ]
  },
  {
   "cell_type": "code",
   "execution_count": 33,
   "id": "e0fa0616",
   "metadata": {},
   "outputs": [
    {
     "data": {
      "text/plain": [
       "{'A': [], 'B': [], 'C': []}"
      ]
     },
     "execution_count": 33,
     "metadata": {},
     "output_type": "execute_result"
    }
   ],
   "source": [
    "graph.addVertex('C')"
   ]
  },
  {
   "cell_type": "code",
   "execution_count": 34,
   "id": "ecf77d8f",
   "metadata": {},
   "outputs": [
    {
     "data": {
      "text/plain": [
       "{'A': [{'node': 'B', 'weight': 9}, {'node': 'C', 'weight': 5}],\n",
       " 'B': [{'node': 'A', 'weight': 9}, {'node': 'C', 'weight': 7}],\n",
       " 'C': [{'node': 'A', 'weight': 5}, {'node': 'B', 'weight': 7}]}"
      ]
     },
     "execution_count": 34,
     "metadata": {},
     "output_type": "execute_result"
    }
   ],
   "source": [
    "graph.addEdge('A','B',9)\n",
    "graph.addEdge('A','C',5)\n",
    "graph.addEdge('B','C',7)"
   ]
  },
  {
   "cell_type": "code",
   "execution_count": null,
   "id": "2817113d",
   "metadata": {},
   "outputs": [],
   "source": []
  },
  {
   "cell_type": "code",
   "execution_count": null,
   "id": "f6e3e8c8",
   "metadata": {},
   "outputs": [],
   "source": []
  }
 ],
 "metadata": {
  "kernelspec": {
   "display_name": "Python 3",
   "language": "python",
   "name": "python3"
  },
  "language_info": {
   "codemirror_mode": {
    "name": "ipython",
    "version": 3
   },
   "file_extension": ".py",
   "mimetype": "text/x-python",
   "name": "python",
   "nbconvert_exporter": "python",
   "pygments_lexer": "ipython3",
   "version": "3.8.8"
  }
 },
 "nbformat": 4,
 "nbformat_minor": 5
}
