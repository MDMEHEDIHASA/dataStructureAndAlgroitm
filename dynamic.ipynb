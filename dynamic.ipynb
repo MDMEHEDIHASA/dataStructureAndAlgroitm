{
 "cells": [
  {
   "cell_type": "code",
   "execution_count": 17,
   "id": "0493a37e",
   "metadata": {},
   "outputs": [],
   "source": [
    "def grid(s,e,memo={}):\n",
    "    key = str(s)+','+str(e)\n",
    "    if key in memo:\n",
    "        return memo[key]\n",
    "    if (s==0 | e ==0):\n",
    "        return 0\n",
    "    if (s==1 and e==1):\n",
    "        return 1\n",
    "    memo[key] = grid(s-1,e,memo) + grid(s,e-1,memo)\n",
    "    return memo[key]"
   ]
  },
  {
   "cell_type": "code",
   "execution_count": null,
   "id": "cd5d7033",
   "metadata": {},
   "outputs": [],
   "source": [
    "grid(1,2)"
   ]
  },
  {
   "cell_type": "code",
   "execution_count": 7,
   "id": "13bd7c28",
   "metadata": {},
   "outputs": [
    {
     "name": "stdout",
     "output_type": "stream",
     "text": [
      "[0, 0, 0, 0]\n",
      "[[0, 0, 0, 0], [0, 1, 1, 1], [0, 1, 2, 3], [0, 1, 3, 6]]\n"
     ]
    },
    {
     "data": {
      "text/plain": [
       "6"
      ]
     },
     "execution_count": 7,
     "metadata": {},
     "output_type": "execute_result"
    }
   ],
   "source": [
    "def gridTraveler(s,e):\n",
    "    array = [0]*(s+1)\n",
    "    print(array)\n",
    "    for i in range(s+1):\n",
    "        array[i] = [0]*(e+1)\n",
    "    array[1][1] = 1\n",
    "    \n",
    "    for i in range(1,len(array)):\n",
    "        for j in range(1,len(array[i])):\n",
    "            if(array[i][j] == 1):\n",
    "                continue\n",
    "            array[i][j] = array[i-1][j] + array[i][j-1]\n",
    "    print(array)\n",
    "    return array[s][e]\n",
    "gridTraveler(3,3)"
   ]
  },
  {
   "cell_type": "code",
   "execution_count": null,
   "id": "7797452f",
   "metadata": {},
   "outputs": [],
   "source": []
  },
  {
   "cell_type": "code",
   "execution_count": 15,
   "id": "d8a800e0",
   "metadata": {},
   "outputs": [],
   "source": [
    "def cansum(target,array):\n",
    "    store =  [False]*(target+1)\n",
    "    store[0] = True\n",
    "    for i in range(len(store)):\n",
    "        for j in range(len(array)):\n",
    "            if store[i] == True:\n",
    "                result = i + array[j]\n",
    "                if result < len(store):\n",
    "                    store[result] = True\n",
    "            else:\n",
    "                break\n",
    "    print(store)\n",
    "    return store[target]"
   ]
  },
  {
   "cell_type": "code",
   "execution_count": 16,
   "id": "19a09250",
   "metadata": {},
   "outputs": [
    {
     "name": "stdout",
     "output_type": "stream",
     "text": [
      "[True, False, False, True, True, True, True, True]\n"
     ]
    },
    {
     "data": {
      "text/plain": [
       "True"
      ]
     },
     "execution_count": 16,
     "metadata": {},
     "output_type": "execute_result"
    }
   ],
   "source": [
    "cansum(7,[5,3,4])"
   ]
  },
  {
   "cell_type": "code",
   "execution_count": 17,
   "id": "971f2df4",
   "metadata": {},
   "outputs": [
    {
     "name": "stdout",
     "output_type": "stream",
     "text": [
      "[True, False, True, True, True, True, True, True, True]\n"
     ]
    },
    {
     "data": {
      "text/plain": [
       "True"
      ]
     },
     "execution_count": 17,
     "metadata": {},
     "output_type": "execute_result"
    }
   ],
   "source": [
    "cansum(8,[4,2,3])"
   ]
  },
  {
   "cell_type": "code",
   "execution_count": 19,
   "id": "5e51738d",
   "metadata": {},
   "outputs": [
    {
     "name": "stdout",
     "output_type": "stream",
     "text": [
      "[True, False, False, True, False, False]\n"
     ]
    },
    {
     "data": {
      "text/plain": [
       "False"
      ]
     },
     "execution_count": 19,
     "metadata": {},
     "output_type": "execute_result"
    }
   ],
   "source": [
    "cansum(5,[3,7])"
   ]
  },
  {
   "cell_type": "code",
   "execution_count": 25,
   "id": "5f6c6943",
   "metadata": {},
   "outputs": [
    {
     "name": "stdout",
     "output_type": "stream",
     "text": [
      "[1, 2, 3, 4, 5, 6]\n"
     ]
    }
   ],
   "source": [
    "tst1 = [1,2,3]\n",
    "tst2 = [4,5,6]\n",
    "tst3 = [*tst1,*tst2]\n",
    "print(tst3)"
   ]
  },
  {
   "cell_type": "code",
   "execution_count": 24,
   "id": "21773b7b",
   "metadata": {},
   "outputs": [
    {
     "name": "stdout",
     "output_type": "stream",
     "text": [
      "[1, 2, 3, 4]\n"
     ]
    }
   ],
   "source": [
    "array = [*tst1,4]\n",
    "print(array)"
   ]
  },
  {
   "cell_type": "code",
   "execution_count": 37,
   "id": "1770f134",
   "metadata": {},
   "outputs": [],
   "source": [
    "def howSum(target,array):\n",
    "    store = [None]*(target+1)\n",
    "    store[0] = []\n",
    "    for i in range(len(store)):\n",
    "        for j in range(len(array)):\n",
    "            if(store[i] != None):\n",
    "                result  = i + array[j]\n",
    "                if result < len(store):\n",
    "                    store[result] = [*store[i],array[j]]\n",
    "            else:\n",
    "                break\n",
    "    print(store)"
   ]
  },
  {
   "cell_type": "code",
   "execution_count": 38,
   "id": "d695c41b",
   "metadata": {},
   "outputs": [
    {
     "name": "stdout",
     "output_type": "stream",
     "text": [
      "[[], None, None, [3], [4], [5], [3, 3], [4, 3]]\n"
     ]
    }
   ],
   "source": [
    "howSum(7,[5,3,4])"
   ]
  },
  {
   "cell_type": "code",
   "execution_count": 39,
   "id": "2543407b",
   "metadata": {},
   "outputs": [
    {
     "name": "stdout",
     "output_type": "stream",
     "text": [
      "[[], None, [2], [3], [2, 2], [3, 2], [2, 2, 2], [3, 2, 2], [2, 2, 2, 2]]\n"
     ]
    }
   ],
   "source": [
    "howSum(8,[4,2,3])"
   ]
  },
  {
   "cell_type": "code",
   "execution_count": 40,
   "id": "5b379a83",
   "metadata": {},
   "outputs": [
    {
     "name": "stdout",
     "output_type": "stream",
     "text": [
      "[[], None, [2], [3], [2, 2], [3, 2], [2, 2, 2], [3, 2, 2], [2, 2, 2, 2]]\n"
     ]
    }
   ],
   "source": [
    "howSum(8,[2,3,5])"
   ]
  },
  {
   "cell_type": "code",
   "execution_count": 49,
   "id": "4d4b6311",
   "metadata": {},
   "outputs": [],
   "source": [
    "def bestSum(target,array):\n",
    "    store = [None]*(target+1)\n",
    "    store[0] = []\n",
    "    for i in range(len(store)):\n",
    "        for j in range(len(array)):\n",
    "            if(store[i] != None):\n",
    "                result = i+array[j]\n",
    "                if result < len(store):\n",
    "                    if store[result] == None:\n",
    "                        store[result] = [*store[i],array[j]]\n",
    "                    else:\n",
    "                        temp = [*store[i],array[j]]\n",
    "                        if len(temp) < len(store[result]):\n",
    "                            store[result] = temp\n",
    "                else:\n",
    "                    break\n",
    "    print(store)\n",
    "    return store[target]"
   ]
  },
  {
   "cell_type": "code",
   "execution_count": 50,
   "id": "d05896fc",
   "metadata": {},
   "outputs": [
    {
     "name": "stdout",
     "output_type": "stream",
     "text": [
      "[[], None, [2], [3], [2, 2], [5], [3, 3], [2, 5], [3, 5]]\n"
     ]
    },
    {
     "data": {
      "text/plain": [
       "[3, 5]"
      ]
     },
     "execution_count": 50,
     "metadata": {},
     "output_type": "execute_result"
    }
   ],
   "source": [
    "bestSum(8,[2,3,5])"
   ]
  },
  {
   "cell_type": "code",
   "execution_count": 51,
   "id": "2af7b1dc",
   "metadata": {},
   "outputs": [
    {
     "name": "stdout",
     "output_type": "stream",
     "text": [
      "[[], None, [2], [3], [4], [2, 3], [2, 4], [7]]\n"
     ]
    },
    {
     "data": {
      "text/plain": [
       "[7]"
      ]
     },
     "execution_count": 51,
     "metadata": {},
     "output_type": "execute_result"
    }
   ],
   "source": [
    "bestSum(7,[2,3,4,7])"
   ]
  },
  {
   "cell_type": "code",
   "execution_count": 52,
   "id": "cfd23098",
   "metadata": {},
   "outputs": [
    {
     "name": "stdout",
     "output_type": "stream",
     "text": [
      "[[], [1], [1, 1], [1, 1, 1], [4], [5], [1, 5], [1, 1, 5], [4, 4]]\n"
     ]
    },
    {
     "data": {
      "text/plain": [
       "[4, 4]"
      ]
     },
     "execution_count": 52,
     "metadata": {},
     "output_type": "execute_result"
    }
   ],
   "source": [
    "bestSum(8,[1,4,5])"
   ]
  },
  {
   "cell_type": "code",
   "execution_count": 53,
   "id": "0f8bd532",
   "metadata": {},
   "outputs": [
    {
     "name": "stdout",
     "output_type": "stream",
     "text": [
      "[[], [1], [2], [1, 2], [2, 2], [5], [1, 5], [2, 5], [1, 2, 5], [2, 2, 5], [5, 5], [1, 5, 5], [2, 5, 5], [1, 2, 5, 5], [2, 2, 5, 5], [5, 5, 5], [1, 5, 5, 5], [2, 5, 5, 5], [1, 2, 5, 5, 5], [2, 2, 5, 5, 5], [5, 5, 5, 5], [1, 5, 5, 5, 5], [2, 5, 5, 5, 5], [1, 2, 5, 5, 5, 5], [2, 2, 5, 5, 5, 5], [25], [1, 25], [2, 25], [1, 2, 25], [2, 2, 25], [5, 25], [1, 5, 25], [2, 5, 25], [1, 2, 5, 25], [2, 2, 5, 25], [5, 5, 25], [1, 5, 5, 25], [2, 5, 5, 25], [1, 2, 5, 5, 25], [2, 2, 5, 5, 25], [5, 5, 5, 25], [1, 5, 5, 5, 25], [2, 5, 5, 5, 25], [1, 2, 5, 5, 5, 25], [2, 2, 5, 5, 5, 25], [5, 5, 5, 5, 25], [1, 5, 5, 5, 5, 25], [2, 5, 5, 5, 5, 25], [1, 2, 5, 5, 5, 5, 25], [2, 2, 5, 5, 5, 5, 25], [25, 25], [1, 25, 25], [2, 25, 25], [1, 2, 25, 25], [2, 2, 25, 25], [5, 25, 25], [1, 5, 25, 25], [2, 5, 25, 25], [1, 2, 5, 25, 25], [2, 2, 5, 25, 25], [5, 5, 25, 25], [1, 5, 5, 25, 25], [2, 5, 5, 25, 25], [1, 2, 5, 5, 25, 25], [2, 2, 5, 5, 25, 25], [5, 5, 5, 25, 25], [1, 5, 5, 5, 25, 25], [2, 5, 5, 5, 25, 25], [1, 2, 5, 5, 5, 25, 25], [2, 2, 5, 5, 5, 25, 25], [5, 5, 5, 5, 25, 25], [1, 5, 5, 5, 5, 25, 25], [2, 5, 5, 5, 5, 25, 25], [1, 2, 5, 5, 5, 5, 25, 25], [2, 2, 5, 5, 5, 5, 25, 25], [25, 25, 25], [1, 25, 25, 25], [2, 25, 25, 25], [1, 2, 25, 25, 25], [2, 2, 25, 25, 25], [5, 25, 25, 25], [1, 5, 25, 25, 25], [2, 5, 25, 25, 25], [1, 2, 5, 25, 25, 25], [2, 2, 5, 25, 25, 25], [5, 5, 25, 25, 25], [1, 5, 5, 25, 25, 25], [2, 5, 5, 25, 25, 25], [1, 2, 5, 5, 25, 25, 25], [2, 2, 5, 5, 25, 25, 25], [5, 5, 5, 25, 25, 25], [1, 5, 5, 5, 25, 25, 25], [2, 5, 5, 5, 25, 25, 25], [1, 2, 5, 5, 5, 25, 25, 25], [2, 2, 5, 5, 5, 25, 25, 25], [5, 5, 5, 5, 25, 25, 25], [1, 5, 5, 5, 5, 25, 25, 25], [2, 5, 5, 5, 5, 25, 25, 25], [1, 2, 5, 5, 5, 5, 25, 25, 25], [2, 2, 5, 5, 5, 5, 25, 25, 25], [25, 25, 25, 25]]\n"
     ]
    },
    {
     "data": {
      "text/plain": [
       "[25, 25, 25, 25]"
      ]
     },
     "execution_count": 53,
     "metadata": {},
     "output_type": "execute_result"
    }
   ],
   "source": [
    "bestSum(100,[1,2,5,25])"
   ]
  },
  {
   "cell_type": "markdown",
   "id": "d101421f",
   "metadata": {},
   "source": [
    "# Recursion"
   ]
  },
  {
   "cell_type": "code",
   "execution_count": 3,
   "id": "7f680fa9",
   "metadata": {},
   "outputs": [],
   "source": [
    "def gridTravel(s,e):\n",
    "    if( (s==0 and e>=0) | (s>=0 and e==0)):\n",
    "        return 0\n",
    "    if(s==1 and e==1):\n",
    "        return 1\n",
    "    return gridTravel(s-1,e) + gridTravel(s,e-1)"
   ]
  },
  {
   "cell_type": "code",
   "execution_count": 4,
   "id": "53792488",
   "metadata": {},
   "outputs": [
    {
     "data": {
      "text/plain": [
       "3"
      ]
     },
     "execution_count": 4,
     "metadata": {},
     "output_type": "execute_result"
    }
   ],
   "source": [
    "gridTravel(2,3)"
   ]
  },
  {
   "cell_type": "code",
   "execution_count": 5,
   "id": "192b8738",
   "metadata": {},
   "outputs": [
    {
     "data": {
      "text/plain": [
       "'12'"
      ]
     },
     "execution_count": 5,
     "metadata": {},
     "output_type": "execute_result"
    }
   ],
   "source": [
    "str(1)+str(2)"
   ]
  },
  {
   "cell_type": "code",
   "execution_count": 10,
   "id": "fdea7b5b",
   "metadata": {},
   "outputs": [],
   "source": [
    "def gridTravelMemo(s,e,visited={}):\n",
    "    if str(s)+str(e) in visited:\n",
    "        return visited[str(s)+str(e)]\n",
    "    if( (s==0 and e>=0) | (s>=0 and e==0)):\n",
    "        return 0\n",
    "    if(s==1 and e==1):\n",
    "        return 1\n",
    "    visited[str(s)+str(e)] = gridTravelMemo(s-1,e)+gridTravelMemo(s,e-1)\n",
    "    print(visited)\n",
    "    return visited[str(s)+str(e)]"
   ]
  },
  {
   "cell_type": "code",
   "execution_count": 11,
   "id": "a1a4abcf",
   "metadata": {},
   "outputs": [
    {
     "name": "stdout",
     "output_type": "stream",
     "text": [
      "{'12': 1}\n",
      "{'12': 1, '13': 1}\n",
      "{'12': 1, '13': 1, '21': 1}\n",
      "{'12': 1, '13': 1, '21': 1, '22': 2}\n",
      "{'12': 1, '13': 1, '21': 1, '22': 2, '23': 3}\n"
     ]
    },
    {
     "data": {
      "text/plain": [
       "3"
      ]
     },
     "execution_count": 11,
     "metadata": {},
     "output_type": "execute_result"
    }
   ],
   "source": [
    "gridTravelMemo(2,3)"
   ]
  },
  {
   "cell_type": "code",
   "execution_count": 6,
   "id": "b6054b2d",
   "metadata": {},
   "outputs": [],
   "source": [
    "def countSum(target,arr):\n",
    "    if target ==0:\n",
    "        return True\n",
    "    if target <0:\n",
    "        return False\n",
    "    for item in arr:\n",
    "        result = target-item\n",
    "        if(countSum(result,arr) ==True):\n",
    "            return True\n",
    "    return False"
   ]
  },
  {
   "cell_type": "code",
   "execution_count": 7,
   "id": "5344bb8d",
   "metadata": {},
   "outputs": [
    {
     "data": {
      "text/plain": [
       "True"
      ]
     },
     "execution_count": 7,
     "metadata": {},
     "output_type": "execute_result"
    }
   ],
   "source": [
    "countSum(7,[5,3,4,7])"
   ]
  },
  {
   "cell_type": "code",
   "execution_count": 8,
   "id": "d2508527",
   "metadata": {},
   "outputs": [
    {
     "data": {
      "text/plain": [
       "False"
      ]
     },
     "execution_count": 8,
     "metadata": {},
     "output_type": "execute_result"
    }
   ],
   "source": [
    "countSum(7,[5,3])"
   ]
  },
  {
   "cell_type": "code",
   "execution_count": 29,
   "id": "ebf8fe73",
   "metadata": {},
   "outputs": [],
   "source": [
    "def countSumMemo(target,arr,visited={}):\n",
    "    if target in visited:\n",
    "        return visited[target]\n",
    "    if target ==0:\n",
    "        return True\n",
    "    if target <0:\n",
    "        return False\n",
    "    for item in arr:\n",
    "        result = target-item\n",
    "        if(countSumMemo(result,arr,visited) ==True):\n",
    "            visited[target] = True\n",
    "            return True\n",
    "    visited[target] = False\n",
    "    return False"
   ]
  },
  {
   "cell_type": "code",
   "execution_count": 32,
   "id": "5446bb17",
   "metadata": {},
   "outputs": [
    {
     "data": {
      "text/plain": [
       "True"
      ]
     },
     "execution_count": 32,
     "metadata": {},
     "output_type": "execute_result"
    }
   ],
   "source": [
    "countSumMemo(7,[5,3,4,7],{})"
   ]
  },
  {
   "cell_type": "code",
   "execution_count": 34,
   "id": "adde600b",
   "metadata": {},
   "outputs": [
    {
     "data": {
      "text/plain": [
       "False"
      ]
     },
     "execution_count": 34,
     "metadata": {},
     "output_type": "execute_result"
    }
   ],
   "source": [
    "countSumMemo(7,[5,3],{})"
   ]
  },
  {
   "cell_type": "code",
   "execution_count": 120,
   "id": "4042e391",
   "metadata": {},
   "outputs": [],
   "source": [
    "def howSum(target,numbers):\n",
    "    if target <0:\n",
    "        return None\n",
    "    if target ==0:\n",
    "        return []\n",
    "    for item in numbers:\n",
    "        result = target - item\n",
    "        remainderResult = howSum(result,numbers)\n",
    "        if remainderResult != None:\n",
    "            return [*remainderResult,item]\n",
    "    return None"
   ]
  },
  {
   "cell_type": "code",
   "execution_count": 121,
   "id": "b4a7dfbe",
   "metadata": {},
   "outputs": [
    {
     "data": {
      "text/plain": [
       "[4, 3]"
      ]
     },
     "execution_count": 121,
     "metadata": {},
     "output_type": "execute_result"
    }
   ],
   "source": [
    "howSum(7,[3,4,5,7])"
   ]
  },
  {
   "cell_type": "code",
   "execution_count": 4,
   "id": "d5eb8cd2",
   "metadata": {},
   "outputs": [],
   "source": [
    "def howSumMemo(target,numbers,memo={}):\n",
    "    if target in memo:\n",
    "        return memo[target]\n",
    "    if target <0:\n",
    "        return None\n",
    "    if target ==0:\n",
    "        return []\n",
    "    for item in numbers:\n",
    "        result = target - item\n",
    "        remainderResult = howSumMemo(result,numbers,memo)\n",
    "        if remainderResult != None:\n",
    "            memo[target] = [*remainderResult,item]\n",
    "            return memo[target]\n",
    "    memo[target] = None\n",
    "    return None"
   ]
  },
  {
   "cell_type": "code",
   "execution_count": 5,
   "id": "4df4522f",
   "metadata": {},
   "outputs": [
    {
     "data": {
      "text/plain": [
       "[4, 3]"
      ]
     },
     "execution_count": 5,
     "metadata": {},
     "output_type": "execute_result"
    }
   ],
   "source": [
    "howSumMemo(7,[3,4,5,7],{})"
   ]
  },
  {
   "cell_type": "code",
   "execution_count": 5,
   "id": "65368963",
   "metadata": {},
   "outputs": [],
   "source": [
    "def bestSum(target,numbers):\n",
    "    if target <0:\n",
    "        return None\n",
    "    if target ==0:\n",
    "        return []\n",
    "    shortest = None\n",
    "    for item in numbers:\n",
    "        result = target - item\n",
    "        remainderResult = bestSum(result,numbers)\n",
    "        if remainderResult != None:\n",
    "            compos = [*remainderResult,item]\n",
    "            if shortest is  None or len(remainderResult) < len(compos):\n",
    "                shortest = compos\n",
    "            print(shortest)\n",
    "    #print(arr)\n",
    "    return shortest"
   ]
  },
  {
   "cell_type": "code",
   "execution_count": 6,
   "id": "5b40e30a",
   "metadata": {},
   "outputs": [
    {
     "name": "stdout",
     "output_type": "stream",
     "text": [
      "[4]\n",
      "[4, 3]\n",
      "[3]\n",
      "[3, 4]\n",
      "[7]\n"
     ]
    },
    {
     "data": {
      "text/plain": [
       "[7]"
      ]
     },
     "execution_count": 6,
     "metadata": {},
     "output_type": "execute_result"
    }
   ],
   "source": [
    "bestSum(7,[3,4,5,7])"
   ]
  },
  {
   "cell_type": "code",
   "execution_count": 7,
   "id": "5ccff865",
   "metadata": {},
   "outputs": [
    {
     "name": "stdout",
     "output_type": "stream",
     "text": [
      "[2]\n",
      "[2, 2]\n",
      "[4]\n",
      "[4, 2]\n",
      "[3]\n",
      "[3, 3]\n",
      "[2]\n",
      "[2, 4]\n",
      "[2, 4, 2]\n",
      "[3]\n",
      "[3, 2]\n",
      "[2]\n",
      "[2, 3]\n",
      "[5]\n",
      "[5, 3]\n",
      "[2]\n",
      "[2, 2]\n",
      "[4]\n",
      "[4, 4]\n",
      "[3]\n",
      "[3, 5]\n"
     ]
    },
    {
     "data": {
      "text/plain": [
       "[3, 5]"
      ]
     },
     "execution_count": 7,
     "metadata": {},
     "output_type": "execute_result"
    }
   ],
   "source": [
    "bestSum(8,[2,3,4,5])"
   ]
  },
  {
   "cell_type": "code",
   "execution_count": 1,
   "id": "d7de452e",
   "metadata": {},
   "outputs": [],
   "source": [
    "def canConstruct(target,array):\n",
    "    print(target)\n",
    "    if target == '':\n",
    "        return True\n",
    "    for word in array:\n",
    "        if(target.find(word) == 0):\n",
    "            newTarget = target[len(word):]\n",
    "            if(canConstruct(newTarget,array) == True):\n",
    "                return True\n",
    "    return False"
   ]
  },
  {
   "cell_type": "code",
   "execution_count": 2,
   "id": "30c6afb8",
   "metadata": {},
   "outputs": [
    {
     "name": "stdout",
     "output_type": "stream",
     "text": [
      "abcdef\n",
      "cdef\n",
      "ef\n",
      "def\n",
      "\n"
     ]
    },
    {
     "data": {
      "text/plain": [
       "True"
      ]
     },
     "execution_count": 2,
     "metadata": {},
     "output_type": "execute_result"
    }
   ],
   "source": [
    "canConstruct('abcdef',['ab','abc','cd','def','abcd'])"
   ]
  },
  {
   "cell_type": "code",
   "execution_count": 3,
   "id": "4e139d4d",
   "metadata": {},
   "outputs": [
    {
     "name": "stdout",
     "output_type": "stream",
     "text": [
      "a\n"
     ]
    },
    {
     "data": {
      "text/plain": [
       "False"
      ]
     },
     "execution_count": 3,
     "metadata": {},
     "output_type": "execute_result"
    }
   ],
   "source": [
    "canConstruct('a',['b'])"
   ]
  },
  {
   "cell_type": "code",
   "execution_count": 52,
   "id": "5778af19",
   "metadata": {},
   "outputs": [
    {
     "name": "stdout",
     "output_type": "stream",
     "text": [
      "skateboard\n",
      "teboard\n",
      "eboard\n",
      "ateboard\n",
      "board\n",
      "ard\n",
      "d\n"
     ]
    },
    {
     "data": {
      "text/plain": [
       "False"
      ]
     },
     "execution_count": 52,
     "metadata": {},
     "output_type": "execute_result"
    }
   ],
   "source": [
    "canConstruct('skateboard',['bo','rd','ate','t','ska','sk','boar'])"
   ]
  },
  {
   "cell_type": "code",
   "execution_count": 49,
   "id": "0c399bfe",
   "metadata": {},
   "outputs": [
    {
     "data": {
      "text/plain": [
       "0"
      ]
     },
     "execution_count": 49,
     "metadata": {},
     "output_type": "execute_result"
    }
   ],
   "source": [
    "'cdef'.find('cd')"
   ]
  },
  {
   "cell_type": "code",
   "execution_count": 13,
   "id": "23ac3ddc",
   "metadata": {},
   "outputs": [],
   "source": [
    "target= 'abcdef'\n",
    "newTarget = target[2:]"
   ]
  },
  {
   "cell_type": "code",
   "execution_count": 14,
   "id": "22af946c",
   "metadata": {},
   "outputs": [
    {
     "data": {
      "text/plain": [
       "'cdef'"
      ]
     },
     "execution_count": 14,
     "metadata": {},
     "output_type": "execute_result"
    }
   ],
   "source": [
    "newTarget"
   ]
  },
  {
   "cell_type": "code",
   "execution_count": 32,
   "id": "97620b95",
   "metadata": {},
   "outputs": [
    {
     "name": "stdout",
     "output_type": "stream",
     "text": [
      "1\n",
      "3\n",
      "4\n",
      "5\n"
     ]
    }
   ],
   "source": [
    "array = [1,3,4,5]\n",
    "for item in array:\n",
    "    print(item)"
   ]
  },
  {
   "cell_type": "markdown",
   "id": "f4e34df7",
   "metadata": {},
   "source": [
    "# Tabulation"
   ]
  },
  {
   "cell_type": "code",
   "execution_count": 5,
   "id": "613c160f",
   "metadata": {},
   "outputs": [],
   "source": [
    "def fibonacci(n):\n",
    "    store = [0]*(n+1)\n",
    "    store[0],store[1] = 0,1\n",
    "    for i in range(2,len(store)):\n",
    "        store[i] = store[i-1]+store[i-2]\n",
    "    print(store)\n",
    "    return store[len(store)-1]"
   ]
  },
  {
   "cell_type": "code",
   "execution_count": 6,
   "id": "f465c960",
   "metadata": {},
   "outputs": [
    {
     "name": "stdout",
     "output_type": "stream",
     "text": [
      "[0, 1, 1, 2, 3, 5, 8]\n"
     ]
    },
    {
     "data": {
      "text/plain": [
       "8"
      ]
     },
     "execution_count": 6,
     "metadata": {},
     "output_type": "execute_result"
    }
   ],
   "source": [
    "fibonacci(6)"
   ]
  },
  {
   "cell_type": "code",
   "execution_count": 7,
   "id": "934a7846",
   "metadata": {},
   "outputs": [
    {
     "name": "stdout",
     "output_type": "stream",
     "text": [
      "[0, 1, 1, 2, 3, 5, 8, 13, 21]\n"
     ]
    },
    {
     "data": {
      "text/plain": [
       "21"
      ]
     },
     "execution_count": 7,
     "metadata": {},
     "output_type": "execute_result"
    }
   ],
   "source": [
    "fibonacci(8)"
   ]
  },
  {
   "cell_type": "code",
   "execution_count": 16,
   "id": "0911581e",
   "metadata": {},
   "outputs": [],
   "source": [
    "def gridTravel(r,c):\n",
    "    store = [0]*(r+1)\n",
    "    for i in range(len(store)):\n",
    "        store[i] = [0]*(c+1)\n",
    "    if r>=1 and c>=1:\n",
    "        store[1][1] = 1\n",
    "    print('first step',store)\n",
    "    \n",
    "    for i in range(1,len(store)):\n",
    "        for j in range(1,len(store[i])):\n",
    "            if i+1<= len(store)-1:\n",
    "                store[i+1][j] = store[i][j] + store[i+1][j]\n",
    "            if j+1 <= len(store[i])-1:\n",
    "                store[i][j+1] = store[i][j] + store[i][j+1]\n",
    "    print('final step',store)\n",
    "    return store[r][c]"
   ]
  },
  {
   "cell_type": "code",
   "execution_count": 17,
   "id": "0b123d90",
   "metadata": {},
   "outputs": [
    {
     "name": "stdout",
     "output_type": "stream",
     "text": [
      "first step [[0, 0, 0, 0], [0, 1, 0, 0], [0, 0, 0, 0], [0, 0, 0, 0]]\n",
      "final step [[0, 0, 0, 0], [0, 1, 1, 1], [0, 1, 2, 3], [0, 1, 3, 6]]\n"
     ]
    },
    {
     "data": {
      "text/plain": [
       "6"
      ]
     },
     "execution_count": 17,
     "metadata": {},
     "output_type": "execute_result"
    }
   ],
   "source": [
    "gridTravel(3,3)"
   ]
  },
  {
   "cell_type": "code",
   "execution_count": 18,
   "id": "026f7488",
   "metadata": {},
   "outputs": [
    {
     "name": "stdout",
     "output_type": "stream",
     "text": [
      "first step [[0, 0, 0], [0, 1, 0], [0, 0, 0]]\n",
      "final step [[0, 0, 0], [0, 1, 1], [0, 1, 2]]\n"
     ]
    },
    {
     "data": {
      "text/plain": [
       "2"
      ]
     },
     "execution_count": 18,
     "metadata": {},
     "output_type": "execute_result"
    }
   ],
   "source": [
    "gridTravel(2,2)"
   ]
  },
  {
   "cell_type": "code",
   "execution_count": 22,
   "id": "bb3eab4e",
   "metadata": {},
   "outputs": [],
   "source": [
    "def canSum(target,numbers):\n",
    "    arr =[False]*(target+1)\n",
    "    arr[0] =True\n",
    "    for i in range(len(arr)):\n",
    "        if arr[i] == True:\n",
    "            for item in numbers:\n",
    "                check = i + item\n",
    "                if check <= len(arr)-1:\n",
    "                    if arr[check] == False:\n",
    "                        arr[check] = True\n",
    "    print(arr)\n",
    "    return arr[target]"
   ]
  },
  {
   "cell_type": "code",
   "execution_count": 23,
   "id": "09e4384f",
   "metadata": {},
   "outputs": [
    {
     "name": "stdout",
     "output_type": "stream",
     "text": [
      "[True, False, False, True, True, True, True, True]\n"
     ]
    },
    {
     "data": {
      "text/plain": [
       "True"
      ]
     },
     "execution_count": 23,
     "metadata": {},
     "output_type": "execute_result"
    }
   ],
   "source": [
    "canSum(7,[5,3,4])"
   ]
  },
  {
   "cell_type": "code",
   "execution_count": 24,
   "id": "59d418f2",
   "metadata": {},
   "outputs": [
    {
     "name": "stdout",
     "output_type": "stream",
     "text": [
      "[True, False, True, False, True, False, True, False, True]\n"
     ]
    },
    {
     "data": {
      "text/plain": [
       "True"
      ]
     },
     "execution_count": 24,
     "metadata": {},
     "output_type": "execute_result"
    }
   ],
   "source": [
    "canSum(8,[4,2,6])"
   ]
  },
  {
   "cell_type": "code",
   "execution_count": 27,
   "id": "b18a897b",
   "metadata": {},
   "outputs": [
    {
     "name": "stdout",
     "output_type": "stream",
     "text": [
      "[True, False, False, True, False, False, True, True, False]\n"
     ]
    },
    {
     "data": {
      "text/plain": [
       "False"
      ]
     },
     "execution_count": 27,
     "metadata": {},
     "output_type": "execute_result"
    }
   ],
   "source": [
    "canSum(8,[3,7,9])"
   ]
  },
  {
   "cell_type": "code",
   "execution_count": 68,
   "id": "d04d22ce",
   "metadata": {},
   "outputs": [],
   "source": [
    "def coinChange(target,arr):\n",
    "    largest = 9999999\n",
    "    count = 0\n",
    "    store = helper(target,arr,count)\n",
    "        #print(store)\n",
    "    largest = min(largest,store)\n",
    "    return largest\n",
    "\n",
    "def helper(target,arr,count):\n",
    "    largest = 999999\n",
    "    if target <0:\n",
    "        return -1\n",
    "    if target ==0:\n",
    "        return 0\n",
    "    for item in arr:\n",
    "        #print(item)\n",
    "        result = target-item\n",
    "        count += 1\n",
    "        if(helper(result,arr,count) == 0):\n",
    "            largest =  min(largest,count)\n",
    "            print('store',largest)\n",
    "            print(largest)\n",
    "            return largest\n",
    "    print(largest)\n",
    "    return largest"
   ]
  },
  {
   "cell_type": "code",
   "execution_count": 69,
   "id": "931afe4d",
   "metadata": {},
   "outputs": [
    {
     "name": "stdout",
     "output_type": "stream",
     "text": [
      "store 3\n",
      "3\n",
      "999999\n",
      "store 2\n",
      "2\n"
     ]
    },
    {
     "data": {
      "text/plain": [
       "2"
      ]
     },
     "execution_count": 69,
     "metadata": {},
     "output_type": "execute_result"
    }
   ],
   "source": [
    "coinChange(3,[1,3,4,5])"
   ]
  },
  {
   "cell_type": "code",
   "execution_count": 25,
   "id": "f359b54f",
   "metadata": {},
   "outputs": [
    {
     "data": {
      "text/plain": [
       "3"
      ]
     },
     "execution_count": 25,
     "metadata": {},
     "output_type": "execute_result"
    }
   ],
   "source": [
    "min(3,5)"
   ]
  },
  {
   "cell_type": "code",
   "execution_count": 1,
   "id": "84c364dd",
   "metadata": {},
   "outputs": [],
   "source": [
    "def checkHOwsum(arr,target):\n",
    "    if target == 0:\n",
    "        return []\n",
    "    if target <0:\n",
    "        return None\n",
    "    for item in arr:\n",
    "        res = target-item\n",
    "        remainderResult = checkHOwsum(arr,res)\n",
    "        if remainderResult != None:\n",
    "            return [*remainderResult,item]"
   ]
  },
  {
   "cell_type": "code",
   "execution_count": 2,
   "id": "a014c0af",
   "metadata": {},
   "outputs": [
    {
     "data": {
      "text/plain": [
       "[3, 2, 2]"
      ]
     },
     "execution_count": 2,
     "metadata": {},
     "output_type": "execute_result"
    }
   ],
   "source": [
    "checkHOwsum([2,3,5,7],7)"
   ]
  },
  {
   "cell_type": "code",
   "execution_count": 19,
   "id": "23caa16b",
   "metadata": {},
   "outputs": [],
   "source": [
    "def allCheck(arr,target):\n",
    "    visited = set()\n",
    "    for item in arr:\n",
    "        res = target-item\n",
    "        store = checkHOwsum(arr,res)\n",
    "        if store != None:\n",
    "            sortedItems = [item,*store]\n",
    "            sortedItems.sort()\n",
    "            visited.add(tuple(sortedItems))\n",
    "    print(visited)"
   ]
  },
  {
   "cell_type": "code",
   "execution_count": 20,
   "id": "4f82ae16",
   "metadata": {},
   "outputs": [
    {
     "name": "stdout",
     "output_type": "stream",
     "text": [
      "{(2, 2, 3), (7,), (2, 5)}\n"
     ]
    }
   ],
   "source": [
    "allCheck([2,3,5,7],7)"
   ]
  },
  {
   "cell_type": "code",
   "execution_count": null,
   "id": "1b2669ee",
   "metadata": {},
   "outputs": [],
   "source": []
  }
 ],
 "metadata": {
  "kernelspec": {
   "display_name": "Python 3",
   "language": "python",
   "name": "python3"
  },
  "language_info": {
   "codemirror_mode": {
    "name": "ipython",
    "version": 3
   },
   "file_extension": ".py",
   "mimetype": "text/x-python",
   "name": "python",
   "nbconvert_exporter": "python",
   "pygments_lexer": "ipython3",
   "version": "3.8.8"
  }
 },
 "nbformat": 4,
 "nbformat_minor": 5
}
